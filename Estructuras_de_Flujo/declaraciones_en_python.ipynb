{
 "cells": [
  {
   "cell_type": "markdown",
   "id": "3cce632e",
   "metadata": {},
   "source": [
    "# Declaraciones en Python\n",
    "\n",
    "Python tiene la característica de ser simplificado en su notación, sin embargo a veces tanta simplificación puede resultar confuso, más si no tenemos contexto sobre programación. \n",
    "\n",
    "En Python, la declaración de _sentencias_ se vale de un concepto llamado _indentación_, que significa mover un bloque de texto hacia la derecha por medio de espacios (4 espacios) o tabuladores (1 tab).\n",
    "\n",
    "Supongamos que queremos traducir la siguiente sentencia a código:\n",
    "\n",
    "- \"Si `edad` es mayor que 18, entonces `permiso` es _verdadero_\"\n",
    "\n",
    "Esta sentencia en código (en C) se vería de la siguiente forma:\n",
    "```c\n",
    "if (edad > 18) {\n",
    "  permiso = true;\n",
    "}\n",
    "```\n",
    "\n",
    "La sentencia escrita y el código son equivalentes a las ecuaciones en matemáticas. Por ejemplo, una ecuación en matemáticas se escribe de la siguiente forma:\n",
    "\n",
    "- \"_x_ es un número que cumple que al multiplicarlo por 3 y sumarle un 5, el resultado es 9\"\n",
    "\n",
    "Y la \"codificación\" (que sería lo que conocemos por ecuación) se escribe como\n",
    "$$\n",
    "3x + 5 = 9\n",
    "$$"
   ]
  },
  {
   "cell_type": "markdown",
   "id": "52fcf31a",
   "metadata": {},
   "source": [
    "En Python, la sentencia de código es mucho más sencilla ya que se evita el uso \"inneceseario\" de paréntesis, corchetes y llaves para escribir la sentencia, y se separa el bloque de código única y exclusivamente utilizando la indentación.\n",
    "\n",
    "```python\n",
    "if edad > 18:\n",
    "    permiso = True\n",
    "```"
   ]
  },
  {
   "cell_type": "markdown",
   "id": "f9c073f2",
   "metadata": {},
   "source": [
    "Si existieran sentencias anidadas entonces la indentación de la sentencia interior se realizara a partir de la columna donde se inicia su declaración\n",
    "\n",
    "```python\n",
    "if edad > 18:\n",
    "    permiso = True\n",
    "    \n",
    "    if origen == \"Robot\":\n",
    "        print(\"Usted es un robot\")\n",
    "    \n",
    "    print(\"Usted tiene permiso\")\n",
    "```"
   ]
  },
  {
   "cell_type": "markdown",
   "id": "3ddc74b3",
   "metadata": {},
   "source": [
    "Todo lo que lleva indentación son todos los tipos de delcaraciones de sentencias que pueden existir en Python, tales como:\n",
    "\n",
    "- Condicionales (if o while)\n",
    "- Loops (for o while)\n",
    "- Definición de funciones (def)\n",
    "- Definición de clases (class)\n",
    "- Declaración de casos (case, match)\n",
    "- Cualquier separación en líneas de una línea muy larga\n",
    "\n",
    "```python\n",
    "if a < 1 and b > 2 and c == 3 and d <= 18:\n",
    "    ...\n",
    "    \n",
    "if (\n",
    "    a < 1 and\n",
    "    b > 2 and\n",
    "    c == 3 and\n",
    "    d <= 18\n",
    "):\n",
    "    ...\n",
    "```"
   ]
  }
 ],
 "metadata": {
  "kernelspec": {
   "display_name": "Python 3 (ipykernel)",
   "language": "python",
   "name": "python3"
  },
  "language_info": {
   "codemirror_mode": {
    "name": "ipython",
    "version": 3
   },
   "file_extension": ".py",
   "mimetype": "text/x-python",
   "name": "python",
   "nbconvert_exporter": "python",
   "pygments_lexer": "ipython3",
   "version": "3.10.6"
  }
 },
 "nbformat": 4,
 "nbformat_minor": 5
}
