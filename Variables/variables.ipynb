{
 "cells": [
  {
   "cell_type": "markdown",
   "id": "69ac2828-cf22-4cf7-97c2-2a18bd47246e",
   "metadata": {},
   "source": [
    "# Variables\n",
    "\n",
    "## Declaración de variables\n",
    "\n",
    "Objetivo: Entender cómo declarar variables en Python, saber algunas de las reglas durante su declaración y poder determinar el tipo de una variable existente"
   ]
  },
  {
   "cell_type": "markdown",
   "id": "7b42020f-14c4-48ad-85e3-758367a879f8",
   "metadata": {},
   "source": [
    "Podemos pensar a la asignación de variables como uan expresión matemática tipo:\n",
    "$$\n",
    "x=1\n",
    "$$"
   ]
  },
  {
   "cell_type": "markdown",
   "id": "89f44681-91e7-4ffd-b024-2bf71761580f",
   "metadata": {},
   "source": [
    "Sin embargo, en la expresión anterior, la igualdad de biyectiva, es decir que 1 es igual a x, tanto como x es igual a 1. Pero, en programación, la relación es unilateral, ya que la variable de la izquierda recibe el valor de la derecha siempre. En este caso, $x$ toma el valor $1$."
   ]
  },
  {
   "cell_type": "markdown",
   "id": "6b88d006-e842-42b9-afe2-aaa770d2a200",
   "metadata": {
    "tags": []
   },
   "source": [
    "Tenemos la siguiente estructura:\n",
    "- Nombre de la variable\n",
    "- Operador de asignación\n",
    "- Valor"
   ]
  },
  {
   "cell_type": "code",
   "execution_count": 3,
   "id": "d5626ae2-dc1f-4f17-8a53-c5f29c44b28f",
   "metadata": {
    "tags": []
   },
   "outputs": [],
   "source": [
    "persona = \"Astrid\""
   ]
  },
  {
   "cell_type": "markdown",
   "id": "b29aab69-803a-4bed-be34-341cee0f8a18",
   "metadata": {},
   "source": [
    "En el ejemplo anterior:\n",
    "- Nombre de la variable es `persona`\n",
    "- Operador de asignación `=`\n",
    "- Valor `'Astrid'`"
   ]
  },
  {
   "cell_type": "markdown",
   "id": "742a5f50-67df-43a8-9e70-a26a567a253e",
   "metadata": {
    "tags": []
   },
   "source": [
    "**Nota importante**: Los nombres de las variables siempre deben ser lo más específicos posibles:\n",
    "- `nombre = \"Astrid\"` -> Esto es correcto\n",
    "- `n = \"Astrid\"`-> Esto no está bien\n",
    "\n",
    "y siempre usar mínusculas y guión bajo. No se pueden usar caracteres especiales como `:'\",<>/?|\\!@#%^&*~-+`, porque cada uno de estos significa algo especial en Python."
   ]
  },
  {
   "cell_type": "markdown",
   "id": "b586cd56-5415-4b05-9046-e8d1f4b067d1",
   "metadata": {},
   "source": [
    "## Tipos de variables\n",
    "\n",
    "## Simples\n",
    "- Enteros `int` -> Numéricos\n",
    "- Flotantes `float` -> Numéricos\n",
    "- Booleanos `bool` -> Lógica\n",
    "\n",
    "## Compuestos\n",
    "- Cadena de texto `str` "
   ]
  },
  {
   "cell_type": "code",
   "execution_count": 7,
   "id": "c97665f6-f290-4fdb-bbf0-d6973927d88a",
   "metadata": {
    "tags": []
   },
   "outputs": [],
   "source": [
    "numero_entero = 1 # Entero\n",
    "numero_flotante = 1.23 # Flotante\n",
    "booleano = True # Bool\n",
    "string = \"Texto\" # Cadena de texto"
   ]
  },
  {
   "cell_type": "markdown",
   "id": "ca3e1822-0c42-4efe-ae64-7635ac1f4abe",
   "metadata": {},
   "source": [
    "### Manejo simple de variables con funciones internas de Python (built-in functions)\n",
    "\n",
    "https://docs.python.org/3/library/functions.html"
   ]
  },
  {
   "cell_type": "code",
   "execution_count": 33,
   "id": "22020282-9d53-4789-9d08-e107382aadd0",
   "metadata": {
    "tags": []
   },
   "outputs": [
    {
     "name": "stdout",
     "output_type": "stream",
     "text": [
      "1\n"
     ]
    }
   ],
   "source": [
    "# Función Print\n",
    "variable = 1\n",
    "print(variable) # Imprimir el valor de la variable que se le pase\n",
    "# No solo regresa el valor de la variable, sino que lo regresa, de cierta forma, estilizado."
   ]
  },
  {
   "cell_type": "code",
   "execution_count": 34,
   "id": "e50c3f72-ef54-4ab2-97ac-5039f75ba19f",
   "metadata": {
    "tags": []
   },
   "outputs": [
    {
     "data": {
      "text/plain": [
       "str"
      ]
     },
     "execution_count": 34,
     "metadata": {},
     "output_type": "execute_result"
    }
   ],
   "source": [
    "# Función Type\n",
    "variable = \"Texto\"\n",
    "type(variable) # Imprime el tipo de variable que es "
   ]
  },
  {
   "cell_type": "code",
   "execution_count": 35,
   "id": "5d841ac5-38a3-46b3-ae43-586be186ac00",
   "metadata": {
    "tags": []
   },
   "outputs": [
    {
     "data": {
      "text/plain": [
       "1"
      ]
     },
     "execution_count": 35,
     "metadata": {},
     "output_type": "execute_result"
    }
   ],
   "source": [
    "# Función int\n",
    "variable = \"1\"\n",
    "int(variable) # Convierte el string, con valor numérico, a entero"
   ]
  },
  {
   "cell_type": "code",
   "execution_count": 37,
   "id": "d5f7a8d4-ac1d-46aa-a684-1954bda1ebeb",
   "metadata": {
    "tags": []
   },
   "outputs": [
    {
     "data": {
      "text/plain": [
       "1.2"
      ]
     },
     "execution_count": 37,
     "metadata": {},
     "output_type": "execute_result"
    }
   ],
   "source": [
    "# Función float\n",
    "variable = \"1.2\"\n",
    "float(variable) # Convierte el string a flotante"
   ]
  },
  {
   "cell_type": "code",
   "execution_count": null,
   "id": "48b4eca0-d085-4d0a-9cf8-3b57c96763c7",
   "metadata": {},
   "outputs": [],
   "source": []
  }
 ],
 "metadata": {
  "kernelspec": {
   "display_name": "Python 3 (ipykernel)",
   "language": "python",
   "name": "python3"
  },
  "language_info": {
   "codemirror_mode": {
    "name": "ipython",
    "version": 3
   },
   "file_extension": ".py",
   "mimetype": "text/x-python",
   "name": "python",
   "nbconvert_exporter": "python",
   "pygments_lexer": "ipython3",
   "version": "3.10.6"
  }
 },
 "nbformat": 4,
 "nbformat_minor": 5
}
