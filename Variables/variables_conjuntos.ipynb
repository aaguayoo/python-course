{
 "cells": [
  {
   "cell_type": "markdown",
   "id": "ecedea76",
   "metadata": {},
   "source": [
    "# Variables - Conjuntos\n",
    "\n",
    "Los conjuntos son un tipo de objeto de almacenamiento con características especiales ya que no son colecciones ordenadas ni mantiene relación entre una llave-valor, sino que son colecciones de valores únicos sobre los cuales podemos operar con operaciones de conjuntos."
   ]
  },
  {
   "cell_type": "markdown",
   "id": "c9b12b0d",
   "metadata": {},
   "source": [
    "## Declaración de conjuntos\n",
    "\n",
    "Los conjuntos se declaran de la siguiente manera:\n",
    "```python\n",
    "conjunto = {valor_1, valor_2, valor_3, ...}\n",
    "```"
   ]
  },
  {
   "cell_type": "code",
   "execution_count": 4,
   "id": "e3a26ea0",
   "metadata": {},
   "outputs": [],
   "source": [
    "# Creación de un conjunto\n",
    "conjunto = {1, 2, 3, 4}"
   ]
  },
  {
   "cell_type": "code",
   "execution_count": 3,
   "id": "ab7b2866",
   "metadata": {},
   "outputs": [
    {
     "data": {
      "text/plain": [
       "set"
      ]
     },
     "execution_count": 3,
     "metadata": {},
     "output_type": "execute_result"
    }
   ],
   "source": [
    "# Tipado\n",
    "type(conjunto)"
   ]
  },
  {
   "cell_type": "markdown",
   "id": "4015fb4b",
   "metadata": {},
   "source": [
    "### Mutabilidad\n",
    "\n",
    "Los conjuntos son colecciones mutables, que permiten agregar o remover elementos. Sin embargo, al no ser colecciones ordenadas (como una lista o tupla), las mutaciones no se admiten por referencia posicional, por lo tanto hay que utilizar métodos para agregar o remover objetos del conjunto."
   ]
  },
  {
   "cell_type": "code",
   "execution_count": 32,
   "id": "a310a5f7",
   "metadata": {},
   "outputs": [],
   "source": [
    "# Agregar objeto `add`\n",
    "conjunto.add(5) # Modifica al objeto directamente"
   ]
  },
  {
   "cell_type": "code",
   "execution_count": 33,
   "id": "bd7a0e8d",
   "metadata": {},
   "outputs": [
    {
     "data": {
      "text/plain": [
       "{1, 2, 3, 4, 5}"
      ]
     },
     "execution_count": 33,
     "metadata": {},
     "output_type": "execute_result"
    }
   ],
   "source": [
    "conjunto"
   ]
  },
  {
   "cell_type": "markdown",
   "id": "aa8f9f34",
   "metadata": {},
   "source": [
    "Independientemente del número de veces que se agregue (con `add`) el mismo elemento, al ser conjunto no interesa el número de veces que aparece, sino sólo el hecho de que exista dentro del conjunto."
   ]
  },
  {
   "cell_type": "code",
   "execution_count": 34,
   "id": "63db69c5",
   "metadata": {},
   "outputs": [],
   "source": [
    "# Remover objeto `remove`\n",
    "conjunto.remove(5)"
   ]
  },
  {
   "cell_type": "code",
   "execution_count": 35,
   "id": "d9b9e37c",
   "metadata": {},
   "outputs": [
    {
     "data": {
      "text/plain": [
       "{1, 2, 3, 4}"
      ]
     },
     "execution_count": 35,
     "metadata": {},
     "output_type": "execute_result"
    }
   ],
   "source": [
    "conjunto"
   ]
  },
  {
   "cell_type": "code",
   "execution_count": 37,
   "id": "29dc2a80",
   "metadata": {},
   "outputs": [
    {
     "ename": "KeyError",
     "evalue": "6",
     "output_type": "error",
     "traceback": [
      "\u001b[0;31m---------------------------------------------------------------------------\u001b[0m",
      "\u001b[0;31mKeyError\u001b[0m                                  Traceback (most recent call last)",
      "Cell \u001b[0;32mIn[37], line 1\u001b[0m\n\u001b[0;32m----> 1\u001b[0m \u001b[43mconjunto\u001b[49m\u001b[38;5;241;43m.\u001b[39;49m\u001b[43mremove\u001b[49m\u001b[43m(\u001b[49m\u001b[38;5;241;43m6\u001b[39;49m\u001b[43m)\u001b[49m \u001b[38;5;66;03m# Sale error en caso de no existir el elemento que se quiere quitar\u001b[39;00m\n",
      "\u001b[0;31mKeyError\u001b[0m: 6"
     ]
    }
   ],
   "source": [
    "conjunto.remove(6) # Sale error en caso de no existir el elemento que se quiere quitar"
   ]
  },
  {
   "cell_type": "markdown",
   "id": "47d5bf60",
   "metadata": {},
   "source": [
    "### Operaciones entre conjuntos\n",
    "\n",
    "Algunas de las operaciones que pueden ser aplicadas a los objetos de tipo conjunto son `union`, `diferencia` y la \n",
    "`intersección`."
   ]
  },
  {
   "cell_type": "code",
   "execution_count": 38,
   "id": "12d7825f",
   "metadata": {},
   "outputs": [],
   "source": [
    "conjunto_a = {1, 2, 3}\n",
    "conjunto_b = {2, 3, 4}"
   ]
  },
  {
   "cell_type": "code",
   "execution_count": 40,
   "id": "5592557d",
   "metadata": {},
   "outputs": [
    {
     "data": {
      "text/plain": [
       "{1, 2, 3, 4}"
      ]
     },
     "execution_count": 40,
     "metadata": {},
     "output_type": "execute_result"
    }
   ],
   "source": [
    "# Union\n",
    "conjunto_a.union(conjunto_b) # Este método no te modifica a los conjuntos originales"
   ]
  },
  {
   "cell_type": "code",
   "execution_count": 41,
   "id": "28e1d281",
   "metadata": {},
   "outputs": [
    {
     "data": {
      "text/plain": [
       "{1}"
      ]
     },
     "execution_count": 41,
     "metadata": {},
     "output_type": "execute_result"
    }
   ],
   "source": [
    "# Diferencia esta depende de quién se le aplica el método. Operación no-conmutativa\n",
    "conjunto_a.difference(conjunto_b)"
   ]
  },
  {
   "cell_type": "code",
   "execution_count": 42,
   "id": "160de1d8",
   "metadata": {},
   "outputs": [
    {
     "data": {
      "text/plain": [
       "{4}"
      ]
     },
     "execution_count": 42,
     "metadata": {},
     "output_type": "execute_result"
    }
   ],
   "source": [
    "conjunto_b.difference(conjunto_a)"
   ]
  },
  {
   "cell_type": "code",
   "execution_count": 43,
   "id": "d57f428e",
   "metadata": {
    "scrolled": true
   },
   "outputs": [
    {
     "data": {
      "text/plain": [
       "{2, 3}"
      ]
     },
     "execution_count": 43,
     "metadata": {},
     "output_type": "execute_result"
    }
   ],
   "source": [
    "# Intersección\n",
    "conjunto_a.intersection(conjunto_b)"
   ]
  },
  {
   "cell_type": "markdown",
   "id": "e148ba5a",
   "metadata": {},
   "source": [
    "### Conversión de lista a conjunto"
   ]
  },
  {
   "cell_type": "code",
   "execution_count": 45,
   "id": "c3c37841",
   "metadata": {},
   "outputs": [
    {
     "data": {
      "text/plain": [
       "{1, 2, 3, 4, 5, 6, 7, 9}"
      ]
     },
     "execution_count": 45,
     "metadata": {},
     "output_type": "execute_result"
    }
   ],
   "source": [
    "# Utilizamos la función set\n",
    "set([1, 2, 3, 4, 5, 5, 5, 6, 7, 1, 3, 4, 9, 1])"
   ]
  },
  {
   "cell_type": "markdown",
   "id": "e2f04d02",
   "metadata": {},
   "source": [
    "#### Ejercicio\n",
    "\n",
    "De los siguientes dos textos, encuentra todas las palabras que se repiten en ambos textos."
   ]
  },
  {
   "cell_type": "code",
   "execution_count": 44,
   "id": "baf16eb4",
   "metadata": {},
   "outputs": [],
   "source": [
    "texto_1 = \"Hola, me llamo Alejandro. Soy ingenieron en Machine Learning y me gusta mucho andar en bici y tocar la guitarra.\"\n",
    "texto_2 = \"Actualmente, me encuentro tomando un curso de Machine Learning con algunos de mis compañeros de trabajo, con los cuales salga a andar en bici y eventualmente tocamos guitarra.\""
   ]
  },
  {
   "cell_type": "code",
   "execution_count": 46,
   "id": "35941c35",
   "metadata": {},
   "outputs": [],
   "source": [
    "# Separamos las cadena de texto usando `split`\n",
    "palabras_1 = texto_1.split(\" \")\n",
    "palabras_2 = texto_2.split(\" \")"
   ]
  },
  {
   "cell_type": "code",
   "execution_count": 49,
   "id": "427f7930",
   "metadata": {},
   "outputs": [],
   "source": [
    "# Convertir listas a conjuntos\n",
    "conjunto_1 = set(palabras_1)\n",
    "conjunto_2 = set(palabras_2)"
   ]
  },
  {
   "cell_type": "code",
   "execution_count": 51,
   "id": "fd51c60c",
   "metadata": {},
   "outputs": [
    {
     "data": {
      "text/plain": [
       "{'Learning', 'Machine', 'andar', 'bici', 'en', 'guitarra.', 'me', 'y'}"
      ]
     },
     "execution_count": 51,
     "metadata": {},
     "output_type": "execute_result"
    }
   ],
   "source": [
    "# Usamos la intersección para encontrar las palabras que se repiten en ambos conjuntos\n",
    "conjunto_1.intersection(conjunto_2)"
   ]
  },
  {
   "cell_type": "code",
   "execution_count": 1,
   "id": "20fbb3c1",
   "metadata": {},
   "outputs": [],
   "source": [
    "conjunto_1 = {\"apple\", \"banana\", \"cherry\"}\n",
    "conjunto_2 = {\"google\", \"microsoft\", \"apple\"}"
   ]
  },
  {
   "cell_type": "code",
   "execution_count": 2,
   "id": "75450204",
   "metadata": {},
   "outputs": [
    {
     "data": {
      "text/plain": [
       "{'banana', 'cherry'}"
      ]
     },
     "execution_count": 2,
     "metadata": {},
     "output_type": "execute_result"
    }
   ],
   "source": [
    "conjunto_1.difference(conjunto_2) # Sin el update, ninguno de los conjuntos se modifica"
   ]
  },
  {
   "cell_type": "code",
   "execution_count": 4,
   "id": "37fb1607",
   "metadata": {},
   "outputs": [
    {
     "data": {
      "text/plain": [
       "{'google', 'microsoft'}"
      ]
     },
     "execution_count": 4,
     "metadata": {},
     "output_type": "execute_result"
    }
   ],
   "source": [
    "conjunto_2.difference(conjunto_1)"
   ]
  },
  {
   "cell_type": "code",
   "execution_count": 6,
   "id": "261668fb",
   "metadata": {},
   "outputs": [
    {
     "data": {
      "text/plain": [
       "{'banana', 'cherry', 'google', 'microsoft'}"
      ]
     },
     "execution_count": 6,
     "metadata": {},
     "output_type": "execute_result"
    }
   ],
   "source": [
    "conjunto_1.symmetric_difference(conjunto_2) "
   ]
  },
  {
   "cell_type": "code",
   "execution_count": 11,
   "id": "150a2104",
   "metadata": {},
   "outputs": [
    {
     "data": {
      "text/plain": [
       "{'banana', 'cherry', 'google', 'microsoft'}"
      ]
     },
     "execution_count": 11,
     "metadata": {},
     "output_type": "execute_result"
    }
   ],
   "source": [
    "conjunto_2.symmetric_difference(conjunto_1) # Es lo mismo aplicarlo al 1 y luego al 2, que al revés"
   ]
  },
  {
   "cell_type": "code",
   "execution_count": 9,
   "id": "a36956ad",
   "metadata": {},
   "outputs": [
    {
     "data": {
      "text/plain": [
       "{'banana', 'cherry', 'google', 'microsoft'}"
      ]
     },
     "execution_count": 9,
     "metadata": {},
     "output_type": "execute_result"
    }
   ],
   "source": [
    "union = conjunto_1.union(conjunto_2) # Junta todos los elementos en un solo conjunto\n",
    "interseccion = conjunto_1.intersection(conjunto_2) # Te regresa los elementos que se encuentran en ambos conjuntos\n",
    "union.difference(interseccion) # A la unión se le quita la intersección"
   ]
  },
  {
   "cell_type": "code",
   "execution_count": 12,
   "id": "fa59ccb3",
   "metadata": {},
   "outputs": [],
   "source": []
  },
  {
   "cell_type": "code",
   "execution_count": null,
   "id": "b9946a35",
   "metadata": {},
   "outputs": [],
   "source": []
  }
 ],
 "metadata": {
  "kernelspec": {
   "display_name": "Python 3 (ipykernel)",
   "language": "python",
   "name": "python3"
  },
  "language_info": {
   "codemirror_mode": {
    "name": "ipython",
    "version": 3
   },
   "file_extension": ".py",
   "mimetype": "text/x-python",
   "name": "python",
   "nbconvert_exporter": "python",
   "pygments_lexer": "ipython3",
   "version": "3.10.6"
  }
 },
 "nbformat": 4,
 "nbformat_minor": 5
}
