{
 "cells": [
  {
   "cell_type": "markdown",
   "id": "b424ef74-8369-49d5-b762-daa16c20d5f8",
   "metadata": {},
   "source": [
    "# Variables - Diccionarios"
   ]
  },
  {
   "cell_type": "markdown",
   "id": "8aec7771-428c-41cd-9115-604af8a0aa34",
   "metadata": {},
   "source": [
    "Los diccionarios son un tipo de objeto que permite almacenar información siguiento un diseño en par de la forma _llave : valor_, es decir, que no es un objeto con un orden posicional, sino que su orden radica en las llaves contenidas dentro de sí.\n",
    "\n",
    "La estructura de un diccionario se ve de la siguiente forma:\n",
    "```python\n",
    "{\n",
    "    \"llave_1\": objeto_valor_1,\n",
    "    \"llave_2\": objeto_valor_2,\n",
    "    \"llave_3\": objeto_valor_3,\n",
    "}\n",
    "```\n",
    "\n",
    "Se utilizan los corchetes `{}` para definir el diccionario. Las llaves, que son los elementos antes del `:` pueden ser `int`o `str` y los valores, que son los elementos que van después del `:` pueden ser cualquier tipo de objeto."
   ]
  },
  {
   "cell_type": "code",
   "execution_count": 6,
   "id": "41267c77-920d-4556-a2e7-8540f73571f7",
   "metadata": {
    "tags": []
   },
   "outputs": [],
   "source": [
    "## Creación de diccionario\n",
    "capitales = {\n",
    "    \"México\": \"Ciudad de México\",\n",
    "    \"Egipto\": \"El Cairo\",\n",
    "    \"Argentina\": \"Buenos Aires\",\n",
    "    \"Japón\": \"Tokio\",\n",
    "    \"número_de_habitantes\": 50, # Si tiene varias palabras, usar guión bajo\n",
    "}\n",
    "# Si bien Python no se queja por haber metido una llave que aparentemente no tiene relación con las otras, siempre\n",
    "# hay que tratar de evitar ese tipo de inconsistencias"
   ]
  },
  {
   "cell_type": "code",
   "execution_count": 4,
   "id": "72f31d0f-0b91-4cd4-975a-6ff4f763ad61",
   "metadata": {
    "tags": []
   },
   "outputs": [],
   "source": [
    "capitales = dict(\n",
    "    México=\"Ciudad de México\",\n",
    "    Egipto=\"El Cairo\",\n",
    "    Argentina=\"Buenos Aires\",\n",
    "    Japón=\"Tokio\",\n",
    ")"
   ]
  },
  {
   "cell_type": "code",
   "execution_count": 8,
   "id": "7dfc0ab0-0171-4cb5-99f0-2581933b3eb8",
   "metadata": {
    "tags": []
   },
   "outputs": [],
   "source": [
    "## Tipado del diccionario\n",
    "dicc_vacio = {}"
   ]
  },
  {
   "cell_type": "code",
   "execution_count": 9,
   "id": "ca92084f-abe3-4633-a7de-86d11fd789c6",
   "metadata": {
    "tags": []
   },
   "outputs": [
    {
     "data": {
      "text/plain": [
       "dict"
      ]
     },
     "execution_count": 9,
     "metadata": {},
     "output_type": "execute_result"
    }
   ],
   "source": [
    "type(dicc_vacio)"
   ]
  },
  {
   "cell_type": "markdown",
   "id": "02374340-4271-48d4-98f0-23b49f2a2c1a",
   "metadata": {},
   "source": [
    "## Acceder a los datos de un diccionario"
   ]
  },
  {
   "cell_type": "code",
   "execution_count": 25,
   "id": "c0f1ab6d-6cf6-4772-8df7-4def3e23c916",
   "metadata": {
    "tags": []
   },
   "outputs": [],
   "source": [
    "# Si tenemos un diccionario de la forma\n",
    "capitales = {\n",
    "    \"México\": \"Ciudad de México\",\n",
    "    \"Egipto\": \"El Cairo\",\n",
    "    \"Argentina\": \"Buenos Aires\",\n",
    "    \"Japón\": \"Tokio\",\n",
    "}"
   ]
  },
  {
   "cell_type": "code",
   "execution_count": 27,
   "id": "7d658575-d371-4d67-b8d7-8211279aa08a",
   "metadata": {
    "tags": []
   },
   "outputs": [
    {
     "data": {
      "text/plain": [
       "'Ciudad de México'"
      ]
     },
     "execution_count": 27,
     "metadata": {},
     "output_type": "execute_result"
    }
   ],
   "source": [
    "# Podemos acceder a sus datos, utilizando los corchetes cuadrados después del objeto e ingresando la llave de la cual\n",
    "# queremos regresar su valor\n",
    "\n",
    "# Por ejemplo, si queremos la capital de México\n",
    "capitales[\"México\"]"
   ]
  },
  {
   "cell_type": "markdown",
   "id": "85460df7-b7de-4c13-829d-0a51af6ecd4e",
   "metadata": {},
   "source": [
    "## Mutabilidad"
   ]
  },
  {
   "cell_type": "code",
   "execution_count": 28,
   "id": "8d0b889b-abad-46ce-a0ab-27340003bad2",
   "metadata": {
    "tags": []
   },
   "outputs": [],
   "source": [
    "# Si queremos cambiar el valor de una llave simplemente la renombramos\n",
    "capitales[\"México\"] = \"Distrito Federal\""
   ]
  },
  {
   "cell_type": "code",
   "execution_count": 29,
   "id": "b5036a22-c640-488e-b303-116f29528592",
   "metadata": {
    "tags": []
   },
   "outputs": [
    {
     "data": {
      "text/plain": [
       "{'México': 'Distrito Federal',\n",
       " 'Egipto': 'El Cairo',\n",
       " 'Argentina': 'Buenos Aires',\n",
       " 'Japón': 'Tokio'}"
      ]
     },
     "execution_count": 29,
     "metadata": {},
     "output_type": "execute_result"
    }
   ],
   "source": [
    "capitales"
   ]
  },
  {
   "cell_type": "markdown",
   "id": "6b78d6ba-469c-4a4d-aee0-fd85ea7d501d",
   "metadata": {},
   "source": [
    "## Creando desde diccionario vacío"
   ]
  },
  {
   "cell_type": "code",
   "execution_count": 33,
   "id": "c008f8af-3595-4809-ae84-332f69cd1d8e",
   "metadata": {
    "tags": []
   },
   "outputs": [],
   "source": [
    "capitales = {}"
   ]
  },
  {
   "cell_type": "code",
   "execution_count": 34,
   "id": "837e44cb-47d5-4ae2-aaa1-0346b760ac56",
   "metadata": {
    "tags": []
   },
   "outputs": [],
   "source": [
    "# Agregamos una nueva llave\n",
    "capitales[\"México\"] = \"Ciudad de México\""
   ]
  },
  {
   "cell_type": "code",
   "execution_count": 35,
   "id": "e9ba0be5-9f9e-41ec-9e4a-d473efbbdcf5",
   "metadata": {
    "tags": []
   },
   "outputs": [
    {
     "data": {
      "text/plain": [
       "{'México': 'Ciudad de México'}"
      ]
     },
     "execution_count": 35,
     "metadata": {},
     "output_type": "execute_result"
    }
   ],
   "source": [
    "capitales"
   ]
  },
  {
   "cell_type": "code",
   "execution_count": 36,
   "id": "3573ebc1-a154-4496-a25a-e55c69bcae2c",
   "metadata": {
    "tags": []
   },
   "outputs": [],
   "source": [
    "# Creamos una variable que contenga la capital de Japón\n",
    "capital_japon = \"Tokio\""
   ]
  },
  {
   "cell_type": "code",
   "execution_count": 37,
   "id": "41a32fa3-c228-466b-b798-319664a62734",
   "metadata": {
    "tags": []
   },
   "outputs": [],
   "source": [
    "# Crear la llave de Japón en el diccionario de `capitales`, utilizando la variable de su capital\n",
    "capitales[\"Japón\"] = capital_japon"
   ]
  },
  {
   "cell_type": "code",
   "execution_count": 40,
   "id": "e2049a00-cca1-48ba-9e63-4857453f8cf2",
   "metadata": {
    "tags": []
   },
   "outputs": [
    {
     "data": {
      "text/plain": [
       "{'Japón': 'Tokio'}"
      ]
     },
     "execution_count": 40,
     "metadata": {},
     "output_type": "execute_result"
    }
   ],
   "source": [
    "{\n",
    "    \"Japón\": capital_japon\n",
    "}"
   ]
  },
  {
   "cell_type": "markdown",
   "id": "3f2fd086-47a1-4a30-9b5a-4d70fa460f76",
   "metadata": {},
   "source": [
    "## Diccionario como estructura de datos completa"
   ]
  },
  {
   "cell_type": "code",
   "execution_count": 42,
   "id": "a84023fa-756d-4bfa-b352-f5cf0cd2150b",
   "metadata": {
    "tags": []
   },
   "outputs": [],
   "source": [
    "artista = {\n",
    "\t\"nombre\": \"Louis Daniel\",\n",
    "\t\"apellido\": \"Armstrong\",\n",
    "\t\"edad\": 130,\n",
    "\t\"discografía\": [\n",
    "\t\t\t{\n",
    "\t\t\t\t\"nombre\": \"The Great Summit\",\n",
    "\t\t\t\t\"año\": 1961\n",
    "\t\t\t},\n",
    "\t\t\t{\n",
    "\t\t\t\t\"nombre\": \"Ella and Louis\",\n",
    "\t\t\t\t\"año\": 1956\n",
    "\t\t\t}\n",
    "\t]\n",
    "}"
   ]
  },
  {
   "cell_type": "code",
   "execution_count": 46,
   "id": "29b1b7a2-c414-4b94-9648-99c57951b8fa",
   "metadata": {
    "tags": []
   },
   "outputs": [
    {
     "data": {
      "text/plain": [
       "'Louis Daniel'"
      ]
     },
     "execution_count": 46,
     "metadata": {},
     "output_type": "execute_result"
    }
   ],
   "source": [
    "# Se accede a las llaves de forma jerárquica, o en forma de árbol\n",
    "\n",
    "# Regresar el nombre del artista\n",
    "artista[\"nombre\"]"
   ]
  },
  {
   "cell_type": "code",
   "execution_count": 47,
   "id": "a1d8d58f-6d94-4752-b2e6-f62f27b005d8",
   "metadata": {
    "tags": []
   },
   "outputs": [
    {
     "data": {
      "text/plain": [
       "[{'nombre': 'The Great Summit', 'año': 1961},\n",
       " {'nombre': 'Ella and Louis', 'año': 1956}]"
      ]
     },
     "execution_count": 47,
     "metadata": {},
     "output_type": "execute_result"
    }
   ],
   "source": [
    "# Regresar su discografía completa\n",
    "artista[\"discografía\"]"
   ]
  },
  {
   "cell_type": "code",
   "execution_count": 51,
   "id": "68b98f11-f815-4dd5-80b7-c403e5ceb781",
   "metadata": {
    "tags": []
   },
   "outputs": [
    {
     "data": {
      "text/plain": [
       "{'nombre': 'The Great Summit', 'año': 1961}"
      ]
     },
     "execution_count": 51,
     "metadata": {},
     "output_type": "execute_result"
    }
   ],
   "source": [
    "# Regresar el año de uno de sus discos\n",
    "artista[\"discografía\"][0]"
   ]
  },
  {
   "cell_type": "code",
   "execution_count": 52,
   "id": "0ffa700b-c236-45ed-96b8-0bb7873348f2",
   "metadata": {
    "tags": []
   },
   "outputs": [
    {
     "data": {
      "text/plain": [
       "1961"
      ]
     },
     "execution_count": 52,
     "metadata": {},
     "output_type": "execute_result"
    }
   ],
   "source": [
    "artista[\"discografía\"][0][\"año\"]"
   ]
  },
  {
   "cell_type": "markdown",
   "id": "679f0995-a790-4a65-9b05-05055f41a438",
   "metadata": {},
   "source": [
    "## Diccionarios anidados\n",
    "\n",
    "Se dice que se tienen diccionarios anidados cuando uno o algunos de los valores del diccionario corresponden a otros diccionarios."
   ]
  },
  {
   "cell_type": "code",
   "execution_count": 53,
   "id": "08564b04-d4aa-4959-bfbe-06df8b83e531",
   "metadata": {
    "tags": []
   },
   "outputs": [],
   "source": [
    "dicc_anidado = {\n",
    "    \"llave_1\": {\n",
    "        \"sub_llave_1\":1\n",
    "    }\n",
    "}"
   ]
  },
  {
   "cell_type": "code",
   "execution_count": null,
   "id": "e45ee712-1e2e-4b9f-b1ae-ecf6e69ee465",
   "metadata": {},
   "outputs": [],
   "source": []
  }
 ],
 "metadata": {
  "kernelspec": {
   "display_name": "Python 3 (ipykernel)",
   "language": "python",
   "name": "python3"
  },
  "language_info": {
   "codemirror_mode": {
    "name": "ipython",
    "version": 3
   },
   "file_extension": ".py",
   "mimetype": "text/x-python",
   "name": "python",
   "nbconvert_exporter": "python",
   "pygments_lexer": "ipython3",
   "version": "3.10.6"
  }
 },
 "nbformat": 4,
 "nbformat_minor": 5
}
