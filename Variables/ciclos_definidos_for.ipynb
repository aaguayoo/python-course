{
 "cells": [
  {
   "cell_type": "markdown",
   "id": "b4d34116",
   "metadata": {},
   "source": [
    "# Ciclos definidos: _for_\n",
    "\n",
    "Dentro de las estructuras de código, se encuentran aquellas que nos permiten realizar ciclos sobre alguna colección (_iterable_), recorriendo los elementos uno a uno y almacenándolo en una variable temporal. A estos ciclos se les conoce como **ciclos definidos**, ya que en principio no se debe cumplir ninguna condición para finalizar, simplemente acabar de iterar sobre los elementos de la colección. Para definir éste tipo de estrcutruas de flujo existe la partícula **for**."
   ]
  },
  {
   "cell_type": "markdown",
   "id": "665a30a7",
   "metadata": {},
   "source": [
    "## Estrcutrua de un ciclo definido\n",
    "\n",
    "Sea una colección* \n",
    "```python\n",
    "numeros_pares = [2, 4, 6, 8]\n",
    "```\n",
    "\n",
    "Entonces definimos el ciclio definido de la siguiente forma:\n",
    "```python\n",
    "for variable_local in numeros_pares:\n",
    "    ··· codigo_a_ejecutar(variable_local)\n",
    "```\n",
    "\n",
    "Nótese que se declara una _variable_local_ en el ciclo, esta variable local es donde se irán alcmacenando los valores de la colección en cada ciclo.\n",
    "\n",
    "*NOTA: CUANDO DECIMOS UNA COLECCIÓN, NOS REFERIMOS A CUALQUIER OBJETO QUE PUEDA ALMACENAR OBJETOS O QUE SIMPLEMENTE SEA UN ITERABLE. Ejemplo: `list`, `tuple`, `set`, `dict`, `range`, ..."
   ]
  },
  {
   "cell_type": "code",
   "execution_count": 2,
   "id": "ea2101e6",
   "metadata": {},
   "outputs": [],
   "source": [
    "numeros_pares = [2, 4, 6, 8]"
   ]
  },
  {
   "cell_type": "code",
   "execution_count": 5,
   "id": "b6b86a15",
   "metadata": {
    "scrolled": false
   },
   "outputs": [
    {
     "name": "stdout",
     "output_type": "stream",
     "text": [
      "La variable local en este ciclo es 2\n",
      "La variable local en este ciclo es 4\n",
      "La variable local en este ciclo es 6\n",
      "La variable local en este ciclo es 8\n"
     ]
    }
   ],
   "source": [
    "for numero in numeros_pares:\n",
    "    print(f\"La variable local en este ciclo es {numero}\") # Aquí la sentencia que se realizará en el ciclo es simplemente un print"
   ]
  },
  {
   "cell_type": "markdown",
   "id": "af125611",
   "metadata": {},
   "source": [
    "El ciclo anterior iterará sobre todos los elementos de la colección, es decir, que realizará la setnencia `print(numero)` cuatro veces (o el número de veces correspondiente al tamaño de la colección) y el valor de la variable `numero` irá cambiando en cada iteración.\n",
    "\n"
   ]
  },
  {
   "cell_type": "markdown",
   "id": "bc6498e4",
   "metadata": {},
   "source": [
    "**NOTA: El nombre de la variable local (que siempre va entre el _for_ y el _in_) puede ser cualquiera, pero se recomienda, como con cualquier nombre de variable, que sea un nombre descriptivo, que tenga que ver con los elementos de la colección. Evitar el uso de variables como _i_, _x_, etc...** "
   ]
  },
  {
   "cell_type": "markdown",
   "id": "5fbd4d4e",
   "metadata": {},
   "source": [
    "Un ciclo definido en C, se ve de la siguiente forma:\n",
    "```c\n",
    "for (i=0; i <= 100; i++)\n",
    "{\n",
    "   ··· codigo_a_ejecutar(i)\n",
    "}\n",
    "```\n",
    "En C/C++ el ciclo no se realiza sobre un objeto iterable o colección, sino que se realiza literalmente sobre números que equivalen a índices de una lista."
   ]
  },
  {
   "cell_type": "markdown",
   "id": "b8884d80",
   "metadata": {},
   "source": [
    "## Iteración sobre listas"
   ]
  },
  {
   "cell_type": "markdown",
   "id": "4175570f",
   "metadata": {},
   "source": [
    "El ciclo definido _for_ se hace directo sobre el objeto iterable (o colección). En el caso de listas:"
   ]
  },
  {
   "cell_type": "code",
   "execution_count": 43,
   "id": "8acf83b3",
   "metadata": {},
   "outputs": [
    {
     "name": "stdout",
     "output_type": "stream",
     "text": [
      "manzana\n",
      "piña\n",
      "plátano\n"
     ]
    }
   ],
   "source": [
    "lista = [\"manzana\", \"piña\", \"plátano\"]\n",
    "\n",
    "for fruta in lista:\n",
    "    print(fruta)"
   ]
  },
  {
   "cell_type": "markdown",
   "id": "ef3c228e",
   "metadata": {},
   "source": [
    "## Iteración sobre diccionarios"
   ]
  },
  {
   "cell_type": "code",
   "execution_count": 8,
   "id": "882f579a",
   "metadata": {},
   "outputs": [],
   "source": [
    "diccionario = {\n",
    "    \"México\": \"Ciudad de México\",\n",
    "    \"Japón\": \"Tokio\",\n",
    "    \"Argentina\": \"Buenos Aires\"\n",
    "}"
   ]
  },
  {
   "cell_type": "code",
   "execution_count": 10,
   "id": "1093fbb8",
   "metadata": {},
   "outputs": [
    {
     "name": "stdout",
     "output_type": "stream",
     "text": [
      "México\n",
      "Japón\n",
      "Argentina\n"
     ]
    }
   ],
   "source": [
    "# Este ciclo agarra como variable_local las llaves del diccionario\n",
    "for variable in diccionario:\n",
    "    print(variable)"
   ]
  },
  {
   "cell_type": "code",
   "execution_count": 12,
   "id": "af3f7e04",
   "metadata": {},
   "outputs": [
    {
     "name": "stdout",
     "output_type": "stream",
     "text": [
      "Ciudad de México\n",
      "Tokio\n",
      "Buenos Aires\n"
     ]
    }
   ],
   "source": [
    "# Usando el método .values() en el diccionario, la variable local ahora agarra los valores\n",
    "for variable in diccionario.values():\n",
    "    print(variable)"
   ]
  },
  {
   "cell_type": "code",
   "execution_count": 45,
   "id": "94f50e9f",
   "metadata": {
    "scrolled": true
   },
   "outputs": [
    {
     "name": "stdout",
     "output_type": "stream",
     "text": [
      "('México', 'Ciudad de México')\n",
      "('Japón', 'Tokio')\n",
      "('Argentina', 'Buenos Aires')\n"
     ]
    }
   ],
   "source": [
    "# Usan el método .items() en el diccionario, podemos hacer que se agarren tanto llaves como valores del dict\n",
    "for variable in diccionario.items():\n",
    "    print(variable) # La variable ahora es una tupla con las (llaves, valores)"
   ]
  },
  {
   "cell_type": "code",
   "execution_count": 51,
   "id": "3607bdaa",
   "metadata": {},
   "outputs": [
    {
     "name": "stdout",
     "output_type": "stream",
     "text": [
      "México Ciudad de México\n",
      "Japón Tokio\n",
      "Argentina Buenos Aires\n"
     ]
    }
   ],
   "source": [
    "# Pero podemos definir dos variables locales, usando las propiedades de tupla que da la \",\" en Python\n",
    "for key, value in diccionario.items():\n",
    "    #print(f\"La llave es {key} y el valor es {value}\")\n",
    "    print(key, value)"
   ]
  },
  {
   "cell_type": "markdown",
   "id": "db745502",
   "metadata": {},
   "source": [
    "## Iteración sobre enumaraciones\n",
    "\n",
    "Se puede usar la _built-in function_ `enumerate` para obtener, de una colección iterable, el índice que le toca a cada elemento."
   ]
  },
  {
   "cell_type": "code",
   "execution_count": 22,
   "id": "db25e592",
   "metadata": {},
   "outputs": [],
   "source": [
    "paises = [\"México\", \"Guatemala\", \"El Salvador\", \"Costa Rica\"]"
   ]
  },
  {
   "cell_type": "code",
   "execution_count": 26,
   "id": "80e1dc7b",
   "metadata": {
    "scrolled": true
   },
   "outputs": [
    {
     "name": "stdout",
     "output_type": "stream",
     "text": [
      "0 México\n",
      "1 Guatemala\n",
      "2 El Salvador\n",
      "3 Costa Rica\n"
     ]
    }
   ],
   "source": [
    "# El enumerate regresa una lista de tuplas con el índice y el elemento que le toca\n",
    "for index, pais in enumerate(paises):\n",
    "    print(index, pais)"
   ]
  },
  {
   "cell_type": "markdown",
   "id": "5c1584c5",
   "metadata": {},
   "source": [
    "## Iteración usando range\n",
    "\n",
    "Si queremos hacer iteración sobre números enteros podemos usar `range`"
   ]
  },
  {
   "cell_type": "code",
   "execution_count": 40,
   "id": "d050ace6",
   "metadata": {},
   "outputs": [
    {
     "name": "stdout",
     "output_type": "stream",
     "text": [
      "CPU times: user 384 ms, sys: 0 ns, total: 384 ms\n",
      "Wall time: 383 ms\n"
     ]
    }
   ],
   "source": [
    "%%time\n",
    "# range(<inicio>, <final>, <de cuanto en cuanto>)\n",
    "for entero in range(1,10_000_000,1): # El final no lo toma en cuenta\n",
    "    pass # La partícula pass basicamente no hace nada"
   ]
  },
  {
   "cell_type": "code",
   "execution_count": 41,
   "id": "cb72395b",
   "metadata": {},
   "outputs": [
    {
     "data": {
      "text/plain": [
       "100000000"
      ]
     },
     "execution_count": 41,
     "metadata": {},
     "output_type": "execute_result"
    }
   ],
   "source": [
    "# Nota: Para escribir números muy grandes en Python, se puede usar el guión bajo para separar de tres en tres como\n",
    "# si fueran comas\n",
    "100_000_000"
   ]
  },
  {
   "cell_type": "markdown",
   "id": "334d684f",
   "metadata": {},
   "source": [
    "## Estructuras de flujo anidadas\n",
    "\n",
    "Es posible anidar estructuras de flujo, ya sean ciclos dentro de ciclos, condicionales dentro de ciclos o ciclcos dentro de condicionales, por mencionar algunas. Crear condicionales dentro de ciclos nos permite condicionarl el flujo según el valor que tenga la variable local"
   ]
  },
  {
   "cell_type": "code",
   "execution_count": 52,
   "id": "4161e6a1",
   "metadata": {},
   "outputs": [],
   "source": [
    "numeros_pares = [2, 4, 6, 8]"
   ]
  },
  {
   "cell_type": "code",
   "execution_count": 53,
   "id": "14b74ba2",
   "metadata": {
    "scrolled": true
   },
   "outputs": [
    {
     "name": "stdout",
     "output_type": "stream",
     "text": [
      "El número 2 es menor que 5\n",
      "El número 4 es menor que 5\n",
      "El número 6 es mayor o igual que 5\n",
      "El número 8 es mayor o igual que 5\n"
     ]
    }
   ],
   "source": [
    "for numero in numeros_pares:\n",
    "    if numero < 5:\n",
    "        print(f\"El número {numero} es menor que 5\")\n",
    "    else:\n",
    "        print(f\"El número {numero} es mayor o igual que 5\")"
   ]
  },
  {
   "cell_type": "markdown",
   "id": "056400f7",
   "metadata": {},
   "source": [
    "### Ciclos anidados\n",
    "\n",
    "Podemos realizar ciclos anidados sobre dos colecciones distintas de la siguiente forma:"
   ]
  },
  {
   "cell_type": "code",
   "execution_count": 74,
   "id": "8205b3dd",
   "metadata": {},
   "outputs": [],
   "source": [
    "ropa = [\"pantalón\", \"saco\"]\n",
    "colores = [\"azul\", \"negro\", \"beige\", \"gris\"]"
   ]
  },
  {
   "cell_type": "code",
   "execution_count": 82,
   "id": "ffcb8a58",
   "metadata": {},
   "outputs": [],
   "source": [
    "# Ejemplo de creación de listas con ciclos\n",
    "\n",
    "# Vamos a crear un par de listas en las cuales se va a guardar todas las combinaciones de color\n",
    "# para cada prenda\n",
    "pantalones = [] # Se definen vacías para después, usando .append() poderlas rellenar\n",
    "sacos = []\n",
    "\n",
    "for prenda in ropa:\n",
    "    for color in colores:\n",
    "        if prenda == \"pantalón\":\n",
    "            pantalones.append((prenda, color)) # Agrega la tupla (prenda, color)\n",
    "        elif prenda == \"saco\":\n",
    "            sacos.append((prenda, color))"
   ]
  },
  {
   "cell_type": "code",
   "execution_count": 87,
   "id": "4a364286",
   "metadata": {
    "scrolled": true
   },
   "outputs": [
    {
     "name": "stdout",
     "output_type": "stream",
     "text": [
      "('pantalón', 'azul') ('saco', 'azul')\n",
      "('pantalón', 'azul') ('saco', 'negro')\n",
      "('pantalón', 'azul') ('saco', 'beige')\n",
      "('pantalón', 'azul') ('saco', 'gris')\n",
      "('pantalón', 'negro') ('saco', 'azul')\n",
      "('pantalón', 'negro') ('saco', 'negro')\n",
      "('pantalón', 'negro') ('saco', 'beige')\n",
      "('pantalón', 'negro') ('saco', 'gris')\n",
      "('pantalón', 'beige') ('saco', 'azul')\n",
      "('pantalón', 'beige') ('saco', 'negro')\n",
      "('pantalón', 'beige') ('saco', 'beige')\n",
      "('pantalón', 'beige') ('saco', 'gris')\n",
      "('pantalón', 'gris') ('saco', 'azul')\n",
      "('pantalón', 'gris') ('saco', 'negro')\n",
      "('pantalón', 'gris') ('saco', 'beige')\n",
      "('pantalón', 'gris') ('saco', 'gris')\n"
     ]
    }
   ],
   "source": [
    "for pantalon in pantalones:\n",
    "    for saco in sacos:\n",
    "        print(pantalon, saco)"
   ]
  },
  {
   "cell_type": "code",
   "execution_count": 84,
   "id": "0c50cb1e",
   "metadata": {},
   "outputs": [
    {
     "data": {
      "text/plain": [
       "[('saco', 'azul'), ('saco', 'negro'), ('saco', 'beige'), ('saco', 'gris')]"
      ]
     },
     "execution_count": 84,
     "metadata": {},
     "output_type": "execute_result"
    }
   ],
   "source": [
    "sacos"
   ]
  },
  {
   "cell_type": "markdown",
   "id": "43da08b5",
   "metadata": {},
   "source": [
    "## Iteración sobre múltiples colecciones\n",
    "\n",
    "Supongamos el caso donde tenemos dos colecciones que deseamos recorrer al mismo tiempo, como parejas ordenadas.\n",
    "\n",
    "Ejemplo:\n",
    "\n",
    "Tenemos dos listas del mismo tamaño, una con nombres y otra con apellidos:"
   ]
  },
  {
   "cell_type": "code",
   "execution_count": 60,
   "id": "85c205f2",
   "metadata": {},
   "outputs": [],
   "source": [
    "nombres = [\"Luis\", \"Julia\", \"Ana\"]\n",
    "apellidos_paternos = [\"López\", \"González\", \"Ortiz\"]\n",
    "apellidos_maternos = [\"Fernández\", \"Urrutia\", \"Pérez\"]"
   ]
  },
  {
   "cell_type": "markdown",
   "id": "33134cf3",
   "metadata": {},
   "source": [
    "Para hacer el recorrido en el _for_ sobre ambas listas al mismo tiempo, podemos usar la _built-in function_ `zip`.\n",
    "Esta función lo que nos va a regresar es una lista de tuplas donde cada tupla contiene a los elementos de las listas"
   ]
  },
  {
   "cell_type": "code",
   "execution_count": 67,
   "id": "1529e7bb",
   "metadata": {},
   "outputs": [
    {
     "data": {
      "text/plain": [
       "[('Luis', 'López'), ('Julia', 'González'), ('Ana', 'Ortiz')]"
      ]
     },
     "execution_count": 67,
     "metadata": {},
     "output_type": "execute_result"
    }
   ],
   "source": [
    "list(zip(nombres, apellidos_paternos))"
   ]
  },
  {
   "cell_type": "code",
   "execution_count": 64,
   "id": "7f741a88",
   "metadata": {},
   "outputs": [
    {
     "name": "stdout",
     "output_type": "stream",
     "text": [
      "Luis López Fernández\n",
      "Julia González Urrutia\n",
      "Ana Ortiz Pérez\n"
     ]
    }
   ],
   "source": [
    "for nombre, apellido_paterno, apellido_materno in zip(nombres, apellidos_paternos, apellidos_maternos):\n",
    "    print(nombre, apellido_paterno, apellido_materno)"
   ]
  },
  {
   "cell_type": "code",
   "execution_count": null,
   "id": "13b8accc",
   "metadata": {},
   "outputs": [],
   "source": []
  }
 ],
 "metadata": {
  "kernelspec": {
   "display_name": "Python 3 (ipykernel)",
   "language": "python",
   "name": "python3"
  },
  "language_info": {
   "codemirror_mode": {
    "name": "ipython",
    "version": 3
   },
   "file_extension": ".py",
   "mimetype": "text/x-python",
   "name": "python",
   "nbconvert_exporter": "python",
   "pygments_lexer": "ipython3",
   "version": "3.10.6"
  }
 },
 "nbformat": 4,
 "nbformat_minor": 5
}
