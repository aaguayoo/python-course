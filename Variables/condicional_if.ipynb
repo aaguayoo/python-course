{
 "cells": [
  {
   "cell_type": "markdown",
   "id": "af554a34",
   "metadata": {},
   "source": [
    "# Declaraciones condicionales _if_, _elif_ y _else_"
   ]
  },
  {
   "cell_type": "markdown",
   "id": "6ed9a50c",
   "metadata": {},
   "source": [
    "Cuando comenzamos a programar, una de las primeras cosas que van a surgir es la necesidad de bifurccar el código, es decir, que si alguna condición se cumple, entonces queremos que suceda algo, mientras que si no sucede entonces queremos que sea otra parte del código la que se ejecute. A esto lo llamamos _condicionales_ y la forma de declararlo en Python es por medio del uso de las **partículas**: `if`, `elif` y `else`\n",
    "\n",
    "NOTA: En *Python* se le conoce como **partícula** a todas las palabras que tienen un significado especial dentro de la sintaxis de Python. Se pueden detectar, en casi cualquier editor de texto, como las palabras que cambian de color al momento de escribirlas.\n",
    "\n",
    "- True, False, def, class, @···, from, if, elif, else, for, while, match, case, import, as, in, or, and, not, is, ..."
   ]
  },
  {
   "cell_type": "markdown",
   "id": "6fd5305a",
   "metadata": {},
   "source": [
    "## Estructura de un condicional\n",
    "\n",
    "Los condicionales en **Python** son declarados siguiento la siguiente estructura:\n",
    "```python\n",
    "if condicion_a_evaluar:\n",
    "    ··· sentencia de código\n",
    "```\n",
    "\n",
    "Los elementos obligatorios para la declaración de la sentencia _if_, son las partículas **if** y **:**.\n",
    "\n",
    "La `condicion_a_evaluar` siempre será una sentencia que tenga como resultado un valor booleano. Ejemplo:\n",
    "\n",
    "| Condición a evaluar | Valor |\n",
    "|---------------------|-------|\n",
    "| `True`              | `True`  |\n",
    "| `False`             | `False` |\n",
    "| `1 < 2`             | `True`  |\n",
    "| `\"a\" in \"oso\"`      | `False` |\n",
    "| `5 == 6`            | `True`  |\n",
    "| `7 != 3`            | `True`  |\n",
    "| `\"1\" > \"2\"`         | `False` |"
   ]
  },
  {
   "cell_type": "code",
   "execution_count": 2,
   "id": "7c6d4d3b",
   "metadata": {},
   "outputs": [
    {
     "name": "stdout",
     "output_type": "stream",
     "text": [
      "La condición se cumplió\n"
     ]
    }
   ],
   "source": [
    "# Ejemplo sencillo donde se cumple la condición\n",
    "if True:\n",
    "    print(\"La condición se cumplió\")"
   ]
  },
  {
   "cell_type": "code",
   "execution_count": 3,
   "id": "e28be00a",
   "metadata": {},
   "outputs": [],
   "source": [
    "# Ejemplo sencillo donde no se cumple la condición\n",
    "if False:\n",
    "    print(\"Esto ni lo va a imprimir\")"
   ]
  },
  {
   "cell_type": "markdown",
   "id": "a4c7d7ac",
   "metadata": {},
   "source": [
    "## Declaración por medio de variables\n",
    "\n",
    "Podemos evaluar el valor contenido dentro de una variable al momento de crear sentencias condicionales"
   ]
  },
  {
   "cell_type": "code",
   "execution_count": 4,
   "id": "1913d550",
   "metadata": {},
   "outputs": [
    {
     "name": "stdout",
     "output_type": "stream",
     "text": [
      "Este mensaje solo se muestra si la respuesta es True.\n"
     ]
    }
   ],
   "source": [
    "respuesta = True\n",
    "\n",
    "if respuesta:\n",
    "    print(\"Este mensaje solo se muestra si la respuesta es True.\")"
   ]
  },
  {
   "cell_type": "markdown",
   "id": "0f3aecce",
   "metadata": {},
   "source": [
    "## Declaraciones por defecto\n",
    "\n",
    "Cuando evaluamos una condición lógica siempre tenemos dos posibles respuestas: _verdadero_ o _falso_. Las estructras que declaramos previamente sólo consideran el caso donde la condición es verdadera. Para poder bifurcar el código y cubrir ambos escenarios es necesario utilizar una condición por defecto que se estipula con la partícula **else**.\n",
    "\n",
    "```python\n",
    "if condición_a_evaluar:\n",
    "    ··· Condición que se ejecuta si la respuesta es True\n",
    "else:\n",
    "    ··· Condición por defecto que se ejecuta en caso contrario.\n",
    "```"
   ]
  },
  {
   "cell_type": "code",
   "execution_count": 8,
   "id": "05b829e1",
   "metadata": {},
   "outputs": [
    {
     "name": "stdout",
     "output_type": "stream",
     "text": [
      "Este mensaje se muestra si la respuesta no se cumple, es decir, si es False.\n"
     ]
    }
   ],
   "source": [
    "# Ejemplo\n",
    "respuesta = False\n",
    "\n",
    "if respuesta:\n",
    "    print(\"Este mensaje se muestra si la respuesta es True.\")\n",
    "else:\n",
    "    print(\"Este mensaje se muestra si la respuesta no se cumple, es decir, si es False.\")"
   ]
  },
  {
   "cell_type": "markdown",
   "id": "a1ca0c13",
   "metadata": {},
   "source": [
    "## Comparaciones en la condición\n",
    "\n",
    "No sólo es posible evaluar variables booleanas, sino que también se pueden realizar evaluaciones durante la sentencia. Es decir, se pueden tener sentencias mismas que regresen valores booleanos en la condición."
   ]
  },
  {
   "cell_type": "code",
   "execution_count": 9,
   "id": "a13b36d1",
   "metadata": {},
   "outputs": [
    {
     "name": "stdout",
     "output_type": "stream",
     "text": [
      "El color es azul\n"
     ]
    }
   ],
   "source": [
    "# Ejemplo\n",
    "color = \"azul\"\n",
    "\n",
    "if color == \"azul\":\n",
    "    print(\"El color es azul\")\n",
    "else:\n",
    "    print(\"El color no es azul\")"
   ]
  },
  {
   "cell_type": "markdown",
   "id": "b4785a13",
   "metadata": {},
   "source": [
    "### Comparaciones múltiples\n",
    "\n",
    "Es posible generar sentencias condicionales utilizando operadores lógicos para concatenar resultados de múltiples evaluaciones. Los operadores lógicos consisten en las partículas **and** y **or**.\n",
    "\n",
    "Por ejemplo, si tenemos las variables:\n",
    "\n",
    "- `color = \"azul\"`\n",
    "- `figura = \"triángulo\"`\n",
    "\n",
    "| Condición 1 | Operador | Condición 2 | Resultlado |\n",
    "|-------------|----------|-------------|-----------|\n",
    "| `color == \"azul\"` | `and` | `figura = \"triángulo\"` | True |\n",
    "| `color == \"azul\"` | `or` | `figura = \"cuadrado\"` | True |"
   ]
  },
  {
   "cell_type": "code",
   "execution_count": 11,
   "id": "b20fa2cb",
   "metadata": {},
   "outputs": [
    {
     "name": "stdout",
     "output_type": "stream",
     "text": [
      "Elemento azul y cuadrado\n"
     ]
    }
   ],
   "source": [
    "# Ejemplo\n",
    "color = \"azul\"\n",
    "figura = \"cuadrado\"\n",
    "\n",
    "if color == \"azul\" and figura == \"cuadrado\":\n",
    "    print(\"Elemento azul y cuadrado\")\n",
    "else:\n",
    "    print(\"Elemento desconocido\")"
   ]
  },
  {
   "cell_type": "code",
   "execution_count": 12,
   "id": "88f33387",
   "metadata": {},
   "outputs": [
    {
     "name": "stdout",
     "output_type": "stream",
     "text": [
      "Elemento azul y cuadrado\n"
     ]
    }
   ],
   "source": [
    "# Separación de comparaciones usando paréntesis\n",
    "if (color == \"azul\") and (figura == \"cuadrado\"):\n",
    "    print(\"Elemento azul y cuadrado\")\n",
    "else:\n",
    "    print(\"Elemento desconocido\")"
   ]
  },
  {
   "cell_type": "markdown",
   "id": "2b2f47ec",
   "metadata": {},
   "source": [
    "## Multiples condiciones\n",
    "\n",
    "En algunas ocaciones no nos será suficiente con tener una bifurcación, sino que requerimos evaluar mútliples condiciones. Para hacer esto es necesario utilizar la partícula **elif**, siguiendo la estructura:\n",
    "\n",
    "```python\n",
    "if condicion_primaria:\n",
    "    ··· # Sentencia primaria\n",
    "elif condicion_secundaria:\n",
    "    ··· # Sentencia secundaria\n",
    "···\n",
    "elif condicion_enesima:\n",
    "    ··· # Sentencia enésima\n",
    "else:\n",
    "    ··· # Sentencia por defecto\n",
    "```\n",
    "\n",
    "En Python 3.10 ya existe la partícula _switch_ que permite la bifurcación de código basado en muchos casos distintos, y que es un poco más eficiente que utilizar _if_ y _elif_."
   ]
  },
  {
   "cell_type": "code",
   "execution_count": 15,
   "id": "bd8d2b2e",
   "metadata": {},
   "outputs": [
    {
     "name": "stdout",
     "output_type": "stream",
     "text": [
      "Elemento de color amarillo.\n"
     ]
    }
   ],
   "source": [
    "# Ejemplo\n",
    "color = \"amarillo\"\n",
    "\n",
    "if color == \"azul\":\n",
    "    print(\"Elemento de color azul.\")\n",
    "elif color == \"rojo\":\n",
    "    print(\"Elemento de color rojo.\")\n",
    "elif color == \"amarillo\":\n",
    "    print(\"Elemento de color amarillo.\")\n",
    "else:\n",
    "    print(\"Elemento de color desconocido\")"
   ]
  },
  {
   "cell_type": "markdown",
   "id": "2e6dc2db",
   "metadata": {},
   "source": [
    "**NOTA**:\n",
    "- Las partículas **elif** van a la altura (en indentación) de **if** y siempre se escriben después.\n",
    "- Nunca se comienza un condicional con la partícula **elif**.\n",
    "- Es posible declarar tantos **elif** como se desee."
   ]
  },
  {
   "cell_type": "markdown",
   "id": "00970fde",
   "metadata": {},
   "source": [
    "## Condicionales en una línea"
   ]
  },
  {
   "cell_type": "markdown",
   "id": "4a0a498c",
   "metadata": {},
   "source": [
    "Es posible hacer declarciones con **if** en una sola línea.\n",
    "Esto sólo es en casos de condicionales sencillos, es decir, que no tengan **elif**.\n",
    "\n",
    "```python\n",
    "if condicion: sentencia\n",
    "```"
   ]
  },
  {
   "cell_type": "code",
   "execution_count": 25,
   "id": "e912e303",
   "metadata": {},
   "outputs": [
    {
     "name": "stdout",
     "output_type": "stream",
     "text": [
      "El color es azul\n"
     ]
    }
   ],
   "source": [
    "# Ejemplo\n",
    "color = \"azul\"\n",
    "\n",
    "if color == \"azul\": print(\"El color es azul\")"
   ]
  },
  {
   "cell_type": "markdown",
   "id": "2292cd18",
   "metadata": {},
   "source": [
    "### Ternarios\n",
    "Existen casos donde queremos asignar un valor a una variable según si se cumple o no alguna condición\n",
    "\n",
    "```python\n",
    "if condicion:\n",
    "    variable = valor_1\n",
    "else:\n",
    "    variable = valor_2\n",
    "```"
   ]
  },
  {
   "cell_type": "code",
   "execution_count": 30,
   "id": "e0baa5ae",
   "metadata": {},
   "outputs": [],
   "source": [
    "# Ejemplo\n",
    "condicion = 10 < 2\n",
    "\n",
    "if condicion:\n",
    "    variable = \"Menor a dos\"\n",
    "else:\n",
    "    variable = \"Mayor o igual a dos\""
   ]
  },
  {
   "cell_type": "code",
   "execution_count": 31,
   "id": "7abd618f",
   "metadata": {},
   "outputs": [],
   "source": [
    "# Usando ternarios\n",
    "variable = \"Menor a dos\" if condicion else \"Mayor o igual a dos\""
   ]
  },
  {
   "cell_type": "code",
   "execution_count": 35,
   "id": "4e78cb03",
   "metadata": {
    "scrolled": true
   },
   "outputs": [
    {
     "name": "stdout",
     "output_type": "stream",
     "text": [
      "triángulo\n"
     ]
    }
   ],
   "source": [
    "# Ejemplo\n",
    "color = \"azul\"\n",
    "\n",
    "figura = \"triángulo\" if color == \"azul\" else \"cuadrado\"\n",
    "print(figura)"
   ]
  },
  {
   "cell_type": "markdown",
   "id": "b811da21",
   "metadata": {},
   "source": [
    "Los ternarios en C se ven como\n",
    "```c\n",
    "variable = valor_1 ? condicion : valor_2\n",
    "```"
   ]
  },
  {
   "cell_type": "markdown",
   "id": "39521992",
   "metadata": {},
   "source": [
    "## Condicionales con variables no-booleanas\n",
    "\n",
    "En algunos casos se puede utilizar como condición una variable no booleana para definir si se cumple o no una sentencia."
   ]
  },
  {
   "cell_type": "code",
   "execution_count": 37,
   "id": "140654ab",
   "metadata": {},
   "outputs": [
    {
     "name": "stdout",
     "output_type": "stream",
     "text": [
      "La lista tiene elementos\n"
     ]
    }
   ],
   "source": [
    "# Listas vacias. Una lista vacía equivale a un False\n",
    "a = [\"a\"]\n",
    "\n",
    "if a:\n",
    "    print(\"La lista tiene elementos\")\n",
    "else:\n",
    "    print(\"La lista no tiene elementos\")"
   ]
  },
  {
   "cell_type": "code",
   "execution_count": 39,
   "id": "2a41616f",
   "metadata": {},
   "outputs": [
    {
     "name": "stdout",
     "output_type": "stream",
     "text": [
      "La cadena de texto está vacía\n"
     ]
    }
   ],
   "source": [
    "# Cadena de texto\n",
    "a = \"\"\n",
    "\n",
    "if a:\n",
    "    print(\"La cadena de texto está llena\")\n",
    "else:\n",
    "    print(\"La cadena de texto está vacía\")"
   ]
  },
  {
   "cell_type": "code",
   "execution_count": 45,
   "id": "ddacdca5",
   "metadata": {},
   "outputs": [
    {
     "name": "stdout",
     "output_type": "stream",
     "text": [
      "Equivalente a True\n"
     ]
    }
   ],
   "source": [
    "# Con 0 y 1. El cero es equivalente a False\n",
    "variable = -1\n",
    "\n",
    "if variable:\n",
    "    print(\"Equivalente a True\")\n",
    "else:\n",
    "    print(\"Equivalente a False\")"
   ]
  },
  {
   "cell_type": "markdown",
   "id": "72012e68",
   "metadata": {},
   "source": [
    "# Dudas"
   ]
  },
  {
   "cell_type": "code",
   "execution_count": 23,
   "id": "4b40f8aa",
   "metadata": {},
   "outputs": [
    {
     "name": "stdout",
     "output_type": "stream",
     "text": [
      "Si está\n",
      "No está\n"
     ]
    }
   ],
   "source": [
    "lista_valores_guardados = [\"string_1\", \"string_2\", \"string_3\"]\n",
    "lista_de_valores_a_buscar = [\"string_1\", \"casa\"]\n",
    "\n",
    "for valor in lista_de_valores_a_buscar:\n",
    "    if valor in lista_valores_guardados:\n",
    "        print(\"Si está\")\n",
    "    else:\n",
    "        print(\"No está\")"
   ]
  },
  {
   "cell_type": "code",
   "execution_count": 18,
   "id": "ceb22e98",
   "metadata": {},
   "outputs": [
    {
     "name": "stdout",
     "output_type": "stream",
     "text": [
      "string_1\n",
      "string_2\n"
     ]
    }
   ],
   "source": [
    "for valores in lista_valores:\n",
    "    print(valores)"
   ]
  },
  {
   "cell_type": "code",
   "execution_count": null,
   "id": "0ca9cd4e",
   "metadata": {},
   "outputs": [],
   "source": []
  }
 ],
 "metadata": {
  "kernelspec": {
   "display_name": "Python 3 (ipykernel)",
   "language": "python",
   "name": "python3"
  },
  "language_info": {
   "codemirror_mode": {
    "name": "ipython",
    "version": 3
   },
   "file_extension": ".py",
   "mimetype": "text/x-python",
   "name": "python",
   "nbconvert_exporter": "python",
   "pygments_lexer": "ipython3",
   "version": "3.10.6"
  }
 },
 "nbformat": 4,
 "nbformat_minor": 5
}
