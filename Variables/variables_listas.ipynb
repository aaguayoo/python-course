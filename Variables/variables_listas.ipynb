{
 "cells": [
  {
   "cell_type": "markdown",
   "id": "aa7e7306",
   "metadata": {},
   "source": [
    "# Listas\n",
    "\n",
    "Las listas son un tipo de estructura de dato básico que tiene Python, y que es uno de los más usados. Es una estructura de tipo secuencial, es decir, que se puede acceder a sus elementos por medio de índices.\n",
    "\n",
    "Los otros dos objetos a los cuales se puede acceder por índice, es decir, que son de tipo secuencial, son las cadenas de texto y las tuplas.\n",
    "\n",
    "La manera en que se define una lista en Python, y de hecho en básicamente cualquier otro lenguaje de programación, es usando los corchetes cuadrados `[]`:\n",
    "```python\n",
    "lista = [1, 2, 3.5, \"Hola, mundo!\", [-1, 7.3, \"a\", \"x\"]]\n",
    "```\n",
    "\n",
    "Como se puede observar, los elementos de una lista pueden ser de cualquier tipo, no hay ninguna restricción en cuanto a la compatibilidad entre elementos de distinto índice. Esto es importante porque esta es la razón por la que una lista es muy diferente a lo que comunmente se conoce en programación como un `array`. Los arrays son arreglos (u objetos) con características muy particulares, similares a las listas, pero con la peculiaridad de que todos sus elementos son del mismo tipo.\n",
    "\n",
    "A pesar de la libertad que existen en el tipado de los elementos de una lista, es una buena practica, siempre que se vaya a definir una lista, que sus elementos siempre sean del mismo tipo, para evitar problemas. Si se necesita una arreglo que contenga objetos de diferente tipo, de preferencia se puede usar mejor la tupla."
   ]
  },
  {
   "cell_type": "code",
   "execution_count": 1,
   "id": "23ce7034",
   "metadata": {},
   "outputs": [],
   "source": [
    "# Ejemplo\n",
    "lista = [1, 2, 3.5, \"Hola, mundo!\", [-1, 7.3, \"a\", \"x\"]]"
   ]
  },
  {
   "cell_type": "markdown",
   "id": "9b91850b",
   "metadata": {},
   "source": [
    "## Creación de lista"
   ]
  },
  {
   "cell_type": "code",
   "execution_count": 7,
   "id": "e2d7553f",
   "metadata": {
    "scrolled": true
   },
   "outputs": [
    {
     "name": "stdout",
     "output_type": "stream",
     "text": [
      "<class 'list'>\n"
     ]
    }
   ],
   "source": [
    "lista_vacia = []\n",
    "print(type(lista_vacia))"
   ]
  },
  {
   "cell_type": "code",
   "execution_count": 9,
   "id": "f6c4ca4b",
   "metadata": {},
   "outputs": [
    {
     "data": {
      "text/plain": [
       "list"
      ]
     },
     "execution_count": 9,
     "metadata": {},
     "output_type": "execute_result"
    }
   ],
   "source": [
    "lista_de_un_elemento = [1]\n",
    "type(lista_de_un_elemento)"
   ]
  },
  {
   "cell_type": "code",
   "execution_count": 2,
   "id": "03375a98",
   "metadata": {},
   "outputs": [],
   "source": [
    "lista = [1, 2, 3, 4, 5] # En un renglón, dejando espacio entre la coma y el siguiente elemento."
   ]
  },
  {
   "cell_type": "code",
   "execution_count": 3,
   "id": "9ed323d8",
   "metadata": {},
   "outputs": [],
   "source": [
    "lista = [\n",
    "    \"a\",\n",
    "    \"b\",\n",
    "    \"c\",\n",
    "    \"d\",\n",
    "] # Esta forma se utiliza por lo general cuando la lista es muy grande, para evitar pasar de los 88 caracteres\n",
    "# Del tamaño de renglón"
   ]
  },
  {
   "cell_type": "code",
   "execution_count": 4,
   "id": "3489c92b",
   "metadata": {},
   "outputs": [],
   "source": [
    "lista = [\n",
    "    1,2,3,\n",
    "    4,5,6,\n",
    "    7,8,9,\n",
    "]"
   ]
  },
  {
   "cell_type": "markdown",
   "id": "a837649a",
   "metadata": {},
   "source": [
    "## Tipado\n",
    "\n",
    "El tipo de objeto al que pertecen las listas es la clase `list` que, como un objeto en Python, tiene sus propios métodos y atributos que nos permitirán modificar la lista al gusto."
   ]
  },
  {
   "cell_type": "code",
   "execution_count": 5,
   "id": "43f61188",
   "metadata": {},
   "outputs": [
    {
     "data": {
      "text/plain": [
       "list"
      ]
     },
     "execution_count": 5,
     "metadata": {},
     "output_type": "execute_result"
    }
   ],
   "source": [
    "type([1,2,3])"
   ]
  },
  {
   "cell_type": "markdown",
   "id": "ae365c83",
   "metadata": {},
   "source": [
    "## Función len\n",
    "\n",
    "La función `len`, que es una de las funciones pre-construidas de Python, te regresa el número de elementos que contiene la lista"
   ]
  },
  {
   "cell_type": "code",
   "execution_count": 10,
   "id": "4f33b6a3",
   "metadata": {},
   "outputs": [
    {
     "data": {
      "text/plain": [
       "6"
      ]
     },
     "execution_count": 10,
     "metadata": {},
     "output_type": "execute_result"
    }
   ],
   "source": [
    "len([1,2,3,4,5,6])"
   ]
  },
  {
   "cell_type": "markdown",
   "id": "61c17f45",
   "metadata": {},
   "source": [
    "## Acceso a elementos de una lista\n",
    "\n",
    "Las listas, al ser colecciones ordenadas, tienen la característica de que sus elementos están asociados a índice de posición comenzando en `0`."
   ]
  },
  {
   "cell_type": "code",
   "execution_count": 11,
   "id": "da047dac",
   "metadata": {},
   "outputs": [],
   "source": [
    "lista_enteros = [1, 2, 3, 4, 5, 6]"
   ]
  },
  {
   "cell_type": "markdown",
   "id": "7583bbdb",
   "metadata": {},
   "source": [
    "| Índice | Índice inverso | Elemento |\n",
    "|--------|----------------|----------|\n",
    "| 0      | -6             | 1        |\n",
    "| 1      | -5             | 2        |\n",
    "| 2      | -4             | 3        |\n",
    "| 3      | -3             | 4        |\n",
    "| 4      | -2             | 5        |\n",
    "| 5      | -1             | 6        |"
   ]
  },
  {
   "cell_type": "markdown",
   "id": "e017305e",
   "metadata": {},
   "source": [
    "Es importante notar que el resultado obtenido de `len(lista)` no coincide con el índice asociado al último elemento"
   ]
  },
  {
   "cell_type": "code",
   "execution_count": 21,
   "id": "f6209318",
   "metadata": {},
   "outputs": [
    {
     "name": "stdout",
     "output_type": "stream",
     "text": [
      "El largo de la lista [1, 2, 3, 4, 5, 6] es 6\n",
      "Pero el índice del último elemento es 5\n"
     ]
    }
   ],
   "source": [
    "print(f\"El largo de la lista {lista_enteros} es {len(lista_enteros)}\")\n",
    "print(f\"Pero el índice del último elemento es {len(lista_enteros) - 1}\")"
   ]
  },
  {
   "cell_type": "markdown",
   "id": "29b5969a",
   "metadata": {},
   "source": [
    "## Subconjuntos de listas\n",
    "\n",
    "En algunas ocaciones nos veremos en la necesidad de obtener subocnjuntos de listas, omitiendo elementos antes, después de un índice o cada tantos elementos.\n",
    "\n",
    "Para ello hay que tener en cuenta cómo se debe acceder a los elementos de las listas por subconjuntos. La nomenclatura general es la siguiente:\n",
    "```python\n",
    "lista[<índice_inicial> : <índice_final> : <cada_cuantos>]\n",
    "```"
   ]
  },
  {
   "cell_type": "code",
   "execution_count": 28,
   "id": "85be4998",
   "metadata": {},
   "outputs": [],
   "source": [
    "lista_indices = [\n",
    "    0, 1, 2,\n",
    "    3, 4, 5,\n",
    "    6, 7, 8,\n",
    "] # Poner la coma en el último elemento es una buena práctica"
   ]
  },
  {
   "cell_type": "code",
   "execution_count": 31,
   "id": "b075f988",
   "metadata": {},
   "outputs": [
    {
     "data": {
      "text/plain": [
       "[3, 4, 5, 6, 7]"
      ]
     },
     "execution_count": 31,
     "metadata": {},
     "output_type": "execute_result"
    }
   ],
   "source": [
    "# Obtener los últimos 6 elementos usando sólo el índice inicial\n",
    "lista_indices[3:8] # Desde el índice 3 (ese sí lo agarra) hasta el 8 (ese no lo agarra)"
   ]
  },
  {
   "cell_type": "code",
   "execution_count": 32,
   "id": "b35e9df2",
   "metadata": {},
   "outputs": [],
   "source": [
    "lista_letras = [\n",
    "    \"a\", \"b\", \"c\",\n",
    "    \"d\", \"e\", \"f\",\n",
    "    \"g\", \"h\", \"i\",\n",
    "]"
   ]
  },
  {
   "cell_type": "code",
   "execution_count": 34,
   "id": "583914f4",
   "metadata": {},
   "outputs": [
    {
     "data": {
      "text/plain": [
       "['b', 'c', 'd', 'e']"
      ]
     },
     "execution_count": 34,
     "metadata": {},
     "output_type": "execute_result"
    }
   ],
   "source": [
    "lista_letras[1:5]"
   ]
  },
  {
   "cell_type": "code",
   "execution_count": 35,
   "id": "197e65c6",
   "metadata": {},
   "outputs": [
    {
     "data": {
      "text/plain": [
       "['d', 'e', 'f', 'g', 'h']"
      ]
     },
     "execution_count": 35,
     "metadata": {},
     "output_type": "execute_result"
    }
   ],
   "source": [
    "lista_letras[3:8]"
   ]
  },
  {
   "cell_type": "code",
   "execution_count": 36,
   "id": "1b50717a",
   "metadata": {},
   "outputs": [],
   "source": [
    "# La razón por la que el índice final no es tal cual el que se regresa, es para que se\n",
    "# se pueda usar el len de la lista para el final"
   ]
  },
  {
   "cell_type": "code",
   "execution_count": 37,
   "id": "190ca4e0",
   "metadata": {},
   "outputs": [
    {
     "data": {
      "text/plain": [
       "['d', 'e', 'f', 'g', 'h', 'i']"
      ]
     },
     "execution_count": 37,
     "metadata": {},
     "output_type": "execute_result"
    }
   ],
   "source": [
    "lista_letras[3:len(lista_letras)]"
   ]
  },
  {
   "cell_type": "code",
   "execution_count": 39,
   "id": "b8536fc3",
   "metadata": {},
   "outputs": [
    {
     "data": {
      "text/plain": [
       "['e', 'f', 'g', 'h', 'i']"
      ]
     },
     "execution_count": 39,
     "metadata": {},
     "output_type": "execute_result"
    }
   ],
   "source": [
    "# La forma correcta de agarrar un subconjunto que vaya de un índice incial al final\n",
    "lista_letras[4:] # Si no se pone índice final, se regresan todos hasta el final"
   ]
  },
  {
   "cell_type": "code",
   "execution_count": 43,
   "id": "cb87b78b",
   "metadata": {},
   "outputs": [
    {
     "data": {
      "text/plain": [
       "['a', 'b', 'c', 'd']"
      ]
     },
     "execution_count": 43,
     "metadata": {},
     "output_type": "execute_result"
    }
   ],
   "source": [
    "# Para agarra sólo los primero elementos, se deja libre el índice incial, y solo se usa el final\n",
    "lista_letras[:4]"
   ]
  },
  {
   "cell_type": "code",
   "execution_count": 49,
   "id": "0593bdfb",
   "metadata": {},
   "outputs": [
    {
     "data": {
      "text/plain": [
       "['a', 'c', 'e', 'g', 'i']"
      ]
     },
     "execution_count": 49,
     "metadata": {},
     "output_type": "execute_result"
    }
   ],
   "source": [
    "# Para obtener un subconjunto de la lista cada tantos elementos, se utilza la siguiente forma\n",
    "lista_letras[0:9:2] # Nos regresa toda la lista, pero se agarra de dos en dos\n",
    "lista_letras[::2]"
   ]
  },
  {
   "cell_type": "markdown",
   "id": "ebee4078-899b-4db9-8f2e-c384e172c6af",
   "metadata": {},
   "source": [
    "---"
   ]
  },
  {
   "cell_type": "markdown",
   "id": "7d83edba-e673-4d20-b156-947fd8b5b55e",
   "metadata": {
    "tags": []
   },
   "source": [
    "## Métodos básicos de una lista\n",
    "\n",
    "Como todo objeto en Python (o en cualquier lenguaje de programación orientada a objetos (OOP)), el objeto lista `list` tiene diferentes métodos y atributos asociados, con los cuales es posible modificar la lista.\n",
    "\n",
    "Pero antes veamos la _built-in function_ `list()`. Esta función te **convierte** en lista cualquier otro objeto iterable."
   ]
  },
  {
   "cell_type": "code",
   "execution_count": 7,
   "id": "f678beac-b15c-4974-bbff-b7fdd6bdfa9f",
   "metadata": {
    "tags": []
   },
   "outputs": [
    {
     "data": {
      "text/plain": [
       "[1, 2, 3]"
      ]
     },
     "execution_count": 7,
     "metadata": {},
     "output_type": "execute_result"
    }
   ],
   "source": [
    "# Convertir tupla, la cual usa paréntesis, a lista\n",
    "list((1, 2, 3)) # Tupla"
   ]
  },
  {
   "cell_type": "code",
   "execution_count": 18,
   "id": "0cc653eb-2e80-4ddb-80f1-115d6ebe415b",
   "metadata": {
    "tags": []
   },
   "outputs": [
    {
     "data": {
      "text/plain": [
       "tuple"
      ]
     },
     "execution_count": 18,
     "metadata": {},
     "output_type": "execute_result"
    }
   ],
   "source": [
    "# Si no se pone _list_, regresa la tupla\n",
    "type((1,2,3))"
   ]
  },
  {
   "cell_type": "code",
   "execution_count": 15,
   "id": "5865bc80-437a-4951-8b2b-e9a42003a88b",
   "metadata": {
    "tags": []
   },
   "outputs": [
    {
     "data": {
      "text/plain": [
       "range(0, 9)"
      ]
     },
     "execution_count": 15,
     "metadata": {},
     "output_type": "execute_result"
    }
   ],
   "source": [
    "# Por ejemplo, usemos la _built-in function_ range\n",
    "range(9) # Este objeto no tiene los mismo métodos y atributos que las listas"
   ]
  },
  {
   "cell_type": "markdown",
   "id": "2e094d37-fd26-434e-93c9-40f04af8ca20",
   "metadata": {},
   "source": [
    "La función `range` regresa un arreglo de números consecutivos. Pero `range` por si solo es un objeto, muy distinto a una lista, sin embargo es in iterable, por lo que se puede convertir en lista usando `list`"
   ]
  },
  {
   "cell_type": "code",
   "execution_count": 16,
   "id": "0d9a71fa-9df4-4d96-9a4f-7e4daaa6f512",
   "metadata": {
    "tags": []
   },
   "outputs": [
    {
     "data": {
      "text/plain": [
       "[0, 1, 2, 3, 4, 5, 6, 7, 8]"
      ]
     },
     "execution_count": 16,
     "metadata": {},
     "output_type": "execute_result"
    }
   ],
   "source": [
    "list(range(9))"
   ]
  },
  {
   "cell_type": "markdown",
   "id": "cc1aaee5-6cf6-45a0-aa62-b126550c4553",
   "metadata": {},
   "source": [
    "### Métodos de _list_"
   ]
  },
  {
   "cell_type": "code",
   "execution_count": 63,
   "id": "a6b94cd7",
   "metadata": {
    "tags": []
   },
   "outputs": [],
   "source": [
    "lista_numeros = [1, 2, 3, 4, 5, 6, 7, 8, 9]"
   ]
  },
  {
   "cell_type": "code",
   "execution_count": 65,
   "id": "1530635e",
   "metadata": {
    "tags": []
   },
   "outputs": [
    {
     "data": {
      "text/plain": [
       "4"
      ]
     },
     "execution_count": 65,
     "metadata": {},
     "output_type": "execute_result"
    }
   ],
   "source": [
    "# Remover un elemento según su posición con `pop()`\n",
    "lista_numeros.pop(3) # Le pasamos el índice que queremos quitar"
   ]
  },
  {
   "cell_type": "code",
   "execution_count": 66,
   "id": "d6924f29-8d4a-4e23-9bc7-0fbfbc063de0",
   "metadata": {
    "tags": []
   },
   "outputs": [
    {
     "data": {
      "text/plain": [
       "[1, 2, 3, 5, 6, 7, 8, 9]"
      ]
     },
     "execution_count": 66,
     "metadata": {},
     "output_type": "execute_result"
    }
   ],
   "source": [
    "lista_numeros"
   ]
  },
  {
   "cell_type": "code",
   "execution_count": 67,
   "id": "1ee4f4e9-c63b-4f30-a582-9f2fd62d5094",
   "metadata": {
    "tags": []
   },
   "outputs": [
    {
     "data": {
      "text/plain": [
       "[9, 8, 7, 6, 5, 3, 2, 1]"
      ]
     },
     "execution_count": 67,
     "metadata": {},
     "output_type": "execute_result"
    }
   ],
   "source": [
    "# Invertir lista\n",
    "lista_numeros[::-1] # Regresa la lista invertida, pero no modifica a la variable"
   ]
  },
  {
   "cell_type": "code",
   "execution_count": 68,
   "id": "010c0ac6-8fbb-40cf-9ae8-e01cb91c784f",
   "metadata": {
    "tags": []
   },
   "outputs": [],
   "source": [
    "lista_numeros.reverse() # Invierte la lista directo en la variable"
   ]
  },
  {
   "cell_type": "code",
   "execution_count": 69,
   "id": "21b8f53f-126a-475d-aefd-1346ba25985a",
   "metadata": {
    "tags": []
   },
   "outputs": [
    {
     "data": {
      "text/plain": [
       "[9, 8, 7, 6, 5, 3, 2, 1]"
      ]
     },
     "execution_count": 69,
     "metadata": {},
     "output_type": "execute_result"
    }
   ],
   "source": [
    "lista_numeros"
   ]
  },
  {
   "cell_type": "code",
   "execution_count": 70,
   "id": "0116257d-c9d4-4f43-9d2e-09daa157e319",
   "metadata": {
    "tags": []
   },
   "outputs": [
    {
     "data": {
      "text/plain": [
       "1"
      ]
     },
     "execution_count": 70,
     "metadata": {},
     "output_type": "execute_result"
    }
   ],
   "source": [
    "# Contar cuantas veces se repite un elemento en la lista\n",
    "lista_numeros.count(9)"
   ]
  },
  {
   "cell_type": "code",
   "execution_count": 71,
   "id": "c0696957-0c9d-4bc6-bd92-bb622f3dbfeb",
   "metadata": {
    "tags": []
   },
   "outputs": [
    {
     "data": {
      "text/plain": [
       "8"
      ]
     },
     "execution_count": 71,
     "metadata": {},
     "output_type": "execute_result"
    }
   ],
   "source": [
    "# El len te regresa el tamaño de la lista\n",
    "len(lista_numeros)"
   ]
  },
  {
   "cell_type": "code",
   "execution_count": 72,
   "id": "8ce839e0-5b57-4068-b38f-afd42e060a7a",
   "metadata": {
    "tags": []
   },
   "outputs": [],
   "source": [
    "# Agregar elementos a una lista con append\n",
    "lista_numeros.append(10) # Se modifica la lista internamente"
   ]
  },
  {
   "cell_type": "code",
   "execution_count": 73,
   "id": "79ff5a82-7dad-48e0-a49a-c23367dc6b08",
   "metadata": {
    "tags": []
   },
   "outputs": [
    {
     "data": {
      "text/plain": [
       "[9, 8, 7, 6, 5, 3, 2, 1, 10]"
      ]
     },
     "execution_count": 73,
     "metadata": {},
     "output_type": "execute_result"
    }
   ],
   "source": [
    "lista_numeros"
   ]
  },
  {
   "cell_type": "code",
   "execution_count": 74,
   "id": "ec27158b-da3c-4573-a700-b587a0dd58e5",
   "metadata": {
    "tags": []
   },
   "outputs": [],
   "source": [
    "# Agregar elementos en cierta posición con insert\n",
    "lista_numeros.insert(7,8234)"
   ]
  },
  {
   "cell_type": "code",
   "execution_count": 75,
   "id": "62982a7d-83ec-488e-a19c-645b5659c700",
   "metadata": {
    "tags": []
   },
   "outputs": [
    {
     "data": {
      "text/plain": [
       "[9, 8, 7, 6, 5, 3, 2, 8234, 1, 10]"
      ]
     },
     "execution_count": 75,
     "metadata": {},
     "output_type": "execute_result"
    }
   ],
   "source": [
    "lista_numeros"
   ]
  },
  {
   "cell_type": "code",
   "execution_count": 76,
   "id": "619b1260-1df7-4262-ab3c-02a0839c4ac8",
   "metadata": {
    "tags": []
   },
   "outputs": [],
   "source": [
    "# Sustitución de valor\n",
    "lista_numeros[7] = 1234"
   ]
  },
  {
   "cell_type": "code",
   "execution_count": 85,
   "id": "84441f88-2426-4daa-a898-dc9d53d00752",
   "metadata": {
    "tags": []
   },
   "outputs": [
    {
     "data": {
      "text/plain": [
       "[1234, 14, 13, 12, 10, 9, 8, 7, 6, 5, 3, 2, 1]"
      ]
     },
     "execution_count": 85,
     "metadata": {},
     "output_type": "execute_result"
    }
   ],
   "source": [
    "lista_numeros"
   ]
  },
  {
   "cell_type": "code",
   "execution_count": 78,
   "id": "6e941ac0-72ec-44e8-b0aa-bb3a7119991b",
   "metadata": {
    "tags": []
   },
   "outputs": [],
   "source": [
    "# Extender la lista usando otra lista con extend\n",
    "lista_numeros.extend([12,13,14])"
   ]
  },
  {
   "cell_type": "code",
   "execution_count": 79,
   "id": "0628b53c-e084-4927-8156-b4ae84f69c93",
   "metadata": {
    "tags": []
   },
   "outputs": [
    {
     "data": {
      "text/plain": [
       "[9, 8, 7, 6, 5, 3, 2, 1234, 1, 10, 12, 13, 14]"
      ]
     },
     "execution_count": 79,
     "metadata": {},
     "output_type": "execute_result"
    }
   ],
   "source": [
    "lista_numeros"
   ]
  },
  {
   "cell_type": "code",
   "execution_count": 97,
   "id": "2c438c0c-a440-4566-93de-f62da3f8b7d0",
   "metadata": {
    "tags": []
   },
   "outputs": [],
   "source": [
    "# Ordenar la lista usando sort, únicamente se puede usar si todos los elementos son enteros\n",
    "lista_numeros.sort() # Lista ordenada de menor a mayor"
   ]
  },
  {
   "cell_type": "code",
   "execution_count": 98,
   "id": "72e73a2c-f4a7-4a26-8a0a-ec64912c21b3",
   "metadata": {
    "tags": []
   },
   "outputs": [],
   "source": [
    "lista_numeros.sort(reverse=True) # Lista ordenada de mayor a menor"
   ]
  },
  {
   "cell_type": "code",
   "execution_count": 99,
   "id": "09bfb692-1123-462b-a6e3-95271b64f6a1",
   "metadata": {
    "tags": []
   },
   "outputs": [
    {
     "data": {
      "text/plain": [
       "[1234, 14, 13, 12, 10, 9, 8, 7, 6, 5, 3, 2, 1]"
      ]
     },
     "execution_count": 99,
     "metadata": {},
     "output_type": "execute_result"
    }
   ],
   "source": [
    "lista_numeros"
   ]
  },
  {
   "cell_type": "markdown",
   "id": "704b264c-a9a3-4a2f-a432-d2b997addf9f",
   "metadata": {},
   "source": [
    "---"
   ]
  },
  {
   "cell_type": "markdown",
   "id": "2ee2f6cd-cd01-4be3-b68d-62e06ada9d4d",
   "metadata": {
    "tags": []
   },
   "source": [
    "## Conversión de texto a lista"
   ]
  },
  {
   "cell_type": "markdown",
   "id": "f11133d5-cec6-4f1f-84ac-bb16a7c91017",
   "metadata": {},
   "source": [
    "Si tenemos una cadena de texto, uno de sus métodos más utilizados `split` regresa una lista de cadenas de texto, separadas dado un string-separados."
   ]
  },
  {
   "cell_type": "code",
   "execution_count": 100,
   "id": "f8ff08e8-0a7f-4d3e-8b37-90fe4d72dfaa",
   "metadata": {
    "tags": []
   },
   "outputs": [],
   "source": [
    "string = \"Esta es una cadena de texto lo suficientemente larga para obtener una lista de buen tamaño\""
   ]
  },
  {
   "cell_type": "code",
   "execution_count": 101,
   "id": "59dfd957-d797-4e46-b51a-d67093a8ebe7",
   "metadata": {
    "tags": []
   },
   "outputs": [
    {
     "data": {
      "text/plain": [
       "['Esta',\n",
       " 'es',\n",
       " 'una',\n",
       " 'cadena',\n",
       " 'de',\n",
       " 'texto',\n",
       " 'lo',\n",
       " 'suficientemente',\n",
       " 'larga',\n",
       " 'para',\n",
       " 'obtener',\n",
       " 'una',\n",
       " 'lista',\n",
       " 'de',\n",
       " 'buen',\n",
       " 'tamaño']"
      ]
     },
     "execution_count": 101,
     "metadata": {},
     "output_type": "execute_result"
    }
   ],
   "source": [
    "# Usamos split para separar string en una lista\n",
    "string.split(\" \") # El separador a usar será \" \" que significa espacio"
   ]
  },
  {
   "cell_type": "code",
   "execution_count": 106,
   "id": "7a674ce7-676a-48e6-aecf-0b3ca5f055e1",
   "metadata": {
    "tags": []
   },
   "outputs": [
    {
     "data": {
      "text/plain": [
       "'Este es un string a pedazos'"
      ]
     },
     "execution_count": 106,
     "metadata": {},
     "output_type": "execute_result"
    }
   ],
   "source": [
    "# Para regresar la lista a un string usamos el método _join_ \n",
    "\" \".join([\"Este\",\"es\",\"un\",\"string\",\"a\",\"pedazos\"])"
   ]
  },
  {
   "cell_type": "markdown",
   "id": "725d6603-1255-4eed-812d-408be5c196bf",
   "metadata": {},
   "source": [
    "---"
   ]
  },
  {
   "cell_type": "code",
   "execution_count": 107,
   "id": "8cc6e018",
   "metadata": {
    "tags": []
   },
   "outputs": [
    {
     "data": {
      "text/plain": [
       "(list, set, dict, tuple, int, str, float)"
      ]
     },
     "execution_count": 107,
     "metadata": {},
     "output_type": "execute_result"
    }
   ],
   "source": [
    "list, set, dict, tuple, int, str, float # Todas estas son funciones predefinidas de Python que te ayudan a convertir de un objeto a otro"
   ]
  },
  {
   "cell_type": "code",
   "execution_count": null,
   "id": "496dc305-5578-4d9c-98d8-9db20a0937bb",
   "metadata": {},
   "outputs": [],
   "source": []
  }
 ],
 "metadata": {
  "kernelspec": {
   "display_name": "Python 3 (ipykernel)",
   "language": "python",
   "name": "python3"
  },
  "language_info": {
   "codemirror_mode": {
    "name": "ipython",
    "version": 3
   },
   "file_extension": ".py",
   "mimetype": "text/x-python",
   "name": "python",
   "nbconvert_exporter": "python",
   "pygments_lexer": "ipython3",
   "version": "3.10.6"
  }
 },
 "nbformat": 4,
 "nbformat_minor": 5
}
