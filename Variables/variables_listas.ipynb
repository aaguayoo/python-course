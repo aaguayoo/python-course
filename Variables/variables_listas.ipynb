{
 "cells": [
  {
   "cell_type": "markdown",
   "id": "aa7e7306",
   "metadata": {},
   "source": [
    "# Listas\n",
    "\n",
    "Las listas son un tipo de estructura de dato básico que tiene Python, y que es uno de los más usados. Es una estructura de tipo secuencial, es decir, que se puede acceder a sus elementos por medio de índices.\n",
    "\n",
    "Los otros dos objetos a los cuales se puede acceder por índice, es decir, que son de tipo secuencial, son las cadenas de texto y las tuplas.\n",
    "\n",
    "La manera en que se define una lista en Python, y de hecho en básicamente cualquier otro lenguaje de programación, es usando los corchetes cuadrados `[]`:\n",
    "```python\n",
    "lista = [1, 2, 3.5, \"Hola, mundo!\", [-1, 7.3, \"a\", \"x\"]]\n",
    "```\n",
    "\n",
    "Como se puede observar, los elementos de una lista pueden ser de cualquier tipo, no hay ninguna restricción en cuanto a la compatibilidad entre elementos de distinto índice. Esto es importante porque esta es la razón por la que una lista es muy diferente a lo que comunmente se conoce en programación como un `array`. Los arrays son arreglos (u objetos) con características muy particulares, similares a las listas, pero con la peculiaridad de que todos sus elementos son del mismo tipo.\n",
    "\n",
    "A pesar de la libertad que existen en el tipado de los elementos de una lista, es una buena practica, siempre que se vaya a definir una lista, que sus elementos siempre sean del mismo tipo, para evitar problemas. Si se necesita una arreglo que contenga objetos de diferente tipo, de preferencia se puede usar mejor la tupla."
   ]
  },
  {
   "cell_type": "code",
   "execution_count": 1,
   "id": "23ce7034",
   "metadata": {},
   "outputs": [],
   "source": [
    "# Ejemplo\n",
    "lista = [1, 2, 3.5, \"Hola, mundo!\", [-1, 7.3, \"a\", \"x\"]]"
   ]
  },
  {
   "cell_type": "markdown",
   "id": "9b91850b",
   "metadata": {},
   "source": [
    "## Creación de lista"
   ]
  },
  {
   "cell_type": "code",
   "execution_count": 7,
   "id": "e2d7553f",
   "metadata": {
    "scrolled": true
   },
   "outputs": [
    {
     "name": "stdout",
     "output_type": "stream",
     "text": [
      "<class 'list'>\n"
     ]
    }
   ],
   "source": [
    "lista_vacia = []\n",
    "print(type(lista_vacia))"
   ]
  },
  {
   "cell_type": "code",
   "execution_count": 9,
   "id": "f6c4ca4b",
   "metadata": {},
   "outputs": [
    {
     "data": {
      "text/plain": [
       "list"
      ]
     },
     "execution_count": 9,
     "metadata": {},
     "output_type": "execute_result"
    }
   ],
   "source": [
    "lista_de_un_elemento = [1]\n",
    "type(lista_de_un_elemento)"
   ]
  },
  {
   "cell_type": "code",
   "execution_count": 2,
   "id": "03375a98",
   "metadata": {},
   "outputs": [],
   "source": [
    "lista = [1, 2, 3, 4, 5] # En un renglón, dejando espacio entre la coma y el siguiente elemento."
   ]
  },
  {
   "cell_type": "code",
   "execution_count": 3,
   "id": "9ed323d8",
   "metadata": {},
   "outputs": [],
   "source": [
    "lista = [\n",
    "    \"a\",\n",
    "    \"b\",\n",
    "    \"c\",\n",
    "    \"d\",\n",
    "] # Esta forma se utiliza por lo general cuando la lista es muy grande, para evitar pasar de los 88 caracteres\n",
    "# Del tamaño de renglón"
   ]
  },
  {
   "cell_type": "code",
   "execution_count": 4,
   "id": "3489c92b",
   "metadata": {},
   "outputs": [],
   "source": [
    "lista = [\n",
    "    1,2,3,\n",
    "    4,5,6,\n",
    "    7,8,9,\n",
    "]"
   ]
  },
  {
   "cell_type": "markdown",
   "id": "a837649a",
   "metadata": {},
   "source": [
    "## Tipado\n",
    "\n",
    "El tipo de objeto al que pertecen las listas es la clase `list` que, como un objeto en Python, tiene sus propios métodos y atributos que nos permitirán modificar la lista al gusto."
   ]
  },
  {
   "cell_type": "code",
   "execution_count": 5,
   "id": "43f61188",
   "metadata": {},
   "outputs": [
    {
     "data": {
      "text/plain": [
       "list"
      ]
     },
     "execution_count": 5,
     "metadata": {},
     "output_type": "execute_result"
    }
   ],
   "source": [
    "type([1,2,3])"
   ]
  },
  {
   "cell_type": "markdown",
   "id": "ae365c83",
   "metadata": {},
   "source": [
    "## Función len\n",
    "\n",
    "La función `len`, que es una de las funciones pre-construidas de Python, te regresa el número de elementos que contiene la lista"
   ]
  },
  {
   "cell_type": "code",
   "execution_count": 10,
   "id": "4f33b6a3",
   "metadata": {},
   "outputs": [
    {
     "data": {
      "text/plain": [
       "6"
      ]
     },
     "execution_count": 10,
     "metadata": {},
     "output_type": "execute_result"
    }
   ],
   "source": [
    "len([1,2,3,4,5,6])"
   ]
  },
  {
   "cell_type": "markdown",
   "id": "61c17f45",
   "metadata": {},
   "source": [
    "## Acceso a elementos de una lista\n",
    "\n",
    "Las listas, al ser colecciones ordenadas, tienen la característica de que sus elementos están asociados a índice de posición comenzando en `0`."
   ]
  },
  {
   "cell_type": "code",
   "execution_count": 11,
   "id": "da047dac",
   "metadata": {},
   "outputs": [],
   "source": [
    "lista_enteros = [1, 2, 3, 4, 5, 6]"
   ]
  },
  {
   "cell_type": "markdown",
   "id": "7583bbdb",
   "metadata": {},
   "source": [
    "| Índice | Índice inverso | Elemento |\n",
    "|--------|----------------|----------|\n",
    "| 0      | -6             | 1        |\n",
    "| 1      | -5             | 2        |\n",
    "| 2      | -4             | 3        |\n",
    "| 3      | -3             | 4        |\n",
    "| 4      | -2             | 5        |\n",
    "| 5      | -1             | 6        |"
   ]
  },
  {
   "cell_type": "markdown",
   "id": "e017305e",
   "metadata": {},
   "source": [
    "Es importante notar que el resultado obtenido de `len(lista)` no coincide con el índice asociado al último elemento"
   ]
  },
  {
   "cell_type": "code",
   "execution_count": 21,
   "id": "f6209318",
   "metadata": {},
   "outputs": [
    {
     "name": "stdout",
     "output_type": "stream",
     "text": [
      "El largo de la lista [1, 2, 3, 4, 5, 6] es 6\n",
      "Pero el índice del último elemento es 5\n"
     ]
    }
   ],
   "source": [
    "print(f\"El largo de la lista {lista_enteros} es {len(lista_enteros)}\")\n",
    "print(f\"Pero el índice del último elemento es {len(lista_enteros) - 1}\")"
   ]
  },
  {
   "cell_type": "markdown",
   "id": "29b5969a",
   "metadata": {},
   "source": [
    "## Subconjuntos de listas\n",
    "\n",
    "En algunas ocaciones nos veremos en la necesidad de obtener subocnjuntos de listas, omitiendo elementos antes, después de un índice o cada tantos elementos.\n",
    "\n",
    "Para ello hay que tener en cuenta cómo se debe acceder a los elementos de las listas por subconjuntos. La nomenclatura general es la siguiente:\n",
    "```python\n",
    "lista[<índice_inicial> : <índice_final> : <cada_cuantos>]\n",
    "```"
   ]
  },
  {
   "cell_type": "code",
   "execution_count": 28,
   "id": "85be4998",
   "metadata": {},
   "outputs": [],
   "source": [
    "lista_indices = [\n",
    "    0, 1, 2,\n",
    "    3, 4, 5,\n",
    "    6, 7, 8,\n",
    "] # Poner la coma en el último elemento es una buena práctica"
   ]
  },
  {
   "cell_type": "code",
   "execution_count": 31,
   "id": "b075f988",
   "metadata": {},
   "outputs": [
    {
     "data": {
      "text/plain": [
       "[3, 4, 5, 6, 7]"
      ]
     },
     "execution_count": 31,
     "metadata": {},
     "output_type": "execute_result"
    }
   ],
   "source": [
    "# Obtener los últimos 6 elementos usando sólo el índice inicial\n",
    "lista_indices[3:8] # Desde el índice 3 (ese sí lo agarra) hasta el 8 (ese no lo agarra)"
   ]
  },
  {
   "cell_type": "code",
   "execution_count": 32,
   "id": "b35e9df2",
   "metadata": {},
   "outputs": [],
   "source": [
    "lista_letras = [\n",
    "    \"a\", \"b\", \"c\",\n",
    "    \"d\", \"e\", \"f\",\n",
    "    \"g\", \"h\", \"i\",\n",
    "]"
   ]
  },
  {
   "cell_type": "code",
   "execution_count": 34,
   "id": "583914f4",
   "metadata": {},
   "outputs": [
    {
     "data": {
      "text/plain": [
       "['b', 'c', 'd', 'e']"
      ]
     },
     "execution_count": 34,
     "metadata": {},
     "output_type": "execute_result"
    }
   ],
   "source": [
    "lista_letras[1:5]"
   ]
  },
  {
   "cell_type": "code",
   "execution_count": 35,
   "id": "197e65c6",
   "metadata": {},
   "outputs": [
    {
     "data": {
      "text/plain": [
       "['d', 'e', 'f', 'g', 'h']"
      ]
     },
     "execution_count": 35,
     "metadata": {},
     "output_type": "execute_result"
    }
   ],
   "source": [
    "lista_letras[3:8]"
   ]
  },
  {
   "cell_type": "code",
   "execution_count": 36,
   "id": "1b50717a",
   "metadata": {},
   "outputs": [],
   "source": [
    "# La razón por la que el índice final no es tal cual el que se regresa, es para que se\n",
    "# se pueda usar el len de la lista para el final"
   ]
  },
  {
   "cell_type": "code",
   "execution_count": 37,
   "id": "190ca4e0",
   "metadata": {},
   "outputs": [
    {
     "data": {
      "text/plain": [
       "['d', 'e', 'f', 'g', 'h', 'i']"
      ]
     },
     "execution_count": 37,
     "metadata": {},
     "output_type": "execute_result"
    }
   ],
   "source": [
    "lista_letras[3:len(lista_letras)]"
   ]
  },
  {
   "cell_type": "code",
   "execution_count": 39,
   "id": "b8536fc3",
   "metadata": {},
   "outputs": [
    {
     "data": {
      "text/plain": [
       "['e', 'f', 'g', 'h', 'i']"
      ]
     },
     "execution_count": 39,
     "metadata": {},
     "output_type": "execute_result"
    }
   ],
   "source": [
    "# La forma correcta de agarrar un subconjunto que vaya de un índice incial al final\n",
    "lista_letras[4:] # Si no se pone índice final, se regresan todos hasta el final"
   ]
  },
  {
   "cell_type": "code",
   "execution_count": 43,
   "id": "cb87b78b",
   "metadata": {},
   "outputs": [
    {
     "data": {
      "text/plain": [
       "['a', 'b', 'c', 'd']"
      ]
     },
     "execution_count": 43,
     "metadata": {},
     "output_type": "execute_result"
    }
   ],
   "source": [
    "# Para agarra sólo los primero elementos, se deja libre el índice incial, y solo se usa el final\n",
    "lista_letras[:4]"
   ]
  },
  {
   "cell_type": "code",
   "execution_count": 49,
   "id": "0593bdfb",
   "metadata": {},
   "outputs": [
    {
     "data": {
      "text/plain": [
       "['a', 'c', 'e', 'g', 'i']"
      ]
     },
     "execution_count": 49,
     "metadata": {},
     "output_type": "execute_result"
    }
   ],
   "source": [
    "# Para obtener un subconjunto de la lista cada tantos elementos, se utilza la siguiente forma\n",
    "lista_letras[0:9:2] # Nos regresa toda la lista, pero se agarra de dos en dos\n",
    "lista_letras[::2]"
   ]
  },
  {
   "cell_type": "code",
   "execution_count": null,
   "id": "3b1c96cf",
   "metadata": {},
   "outputs": [],
   "source": []
  },
  {
   "cell_type": "code",
   "execution_count": null,
   "id": "a6b94cd7",
   "metadata": {},
   "outputs": [],
   "source": []
  },
  {
   "cell_type": "code",
   "execution_count": null,
   "id": "1530635e",
   "metadata": {},
   "outputs": [],
   "source": []
  },
  {
   "cell_type": "code",
   "execution_count": null,
   "id": "bae435f7",
   "metadata": {},
   "outputs": [],
   "source": []
  },
  {
   "cell_type": "code",
   "execution_count": null,
   "id": "8cc6e018",
   "metadata": {},
   "outputs": [],
   "source": []
  }
 ],
 "metadata": {
  "kernelspec": {
   "display_name": "Python 3 (ipykernel)",
   "language": "python",
   "name": "python3"
  },
  "language_info": {
   "codemirror_mode": {
    "name": "ipython",
    "version": 3
   },
   "file_extension": ".py",
   "mimetype": "text/x-python",
   "name": "python",
   "nbconvert_exporter": "python",
   "pygments_lexer": "ipython3",
   "version": "3.10.6"
  }
 },
 "nbformat": 4,
 "nbformat_minor": 5
}
