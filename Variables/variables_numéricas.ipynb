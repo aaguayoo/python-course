{
 "cells": [
  {
   "cell_type": "markdown",
   "id": "8d1fbae4-86fe-451b-9225-f27eb67792c0",
   "metadata": {},
   "source": [
    "# Variables numéricas\n",
    "\n",
    "Checar página https://www.w3schools.com/python/python_numbers.asp\n",
    "\n",
    "Entener los aspectos básicos de trabajar con variables numéricas dentro de Python, concer los principales operadores en operaciones artiméticas y operaciones de auto-asignación."
   ]
  },
  {
   "cell_type": "markdown",
   "id": "71855500-ccc5-43b0-b81e-e332121f7002",
   "metadata": {},
   "source": [
    "Las variables numéricas son las variables más utilizadas en Data Science, porque son las indicadas para la resolución de problemas matemáticos, entre otros tantos."
   ]
  },
  {
   "cell_type": "markdown",
   "id": "0996a6bd-7a25-4b8a-8346-ab5c71a77742",
   "metadata": {},
   "source": [
    "En **Python** existen dos tipos de variables nuḿericas:\n",
    "- Enteros `int`\n",
    "- Flotantes `float`"
   ]
  },
  {
   "cell_type": "markdown",
   "id": "11353819-8684-4a7f-9846-93892b6682ed",
   "metadata": {},
   "source": [
    "## Variables enteras"
   ]
  },
  {
   "cell_type": "markdown",
   "id": "26dd2909-6540-495a-8303-741f10210047",
   "metadata": {},
   "source": [
    "El tipado de las variables enteras es `int` y se declaran como:"
   ]
  },
  {
   "cell_type": "code",
   "execution_count": 169,
   "id": "57e51291-312d-4528-b0fc-1bde4cdc80e6",
   "metadata": {
    "tags": []
   },
   "outputs": [],
   "source": [
    "edad = 21 # No tiene punto decimal"
   ]
  },
  {
   "cell_type": "code",
   "execution_count": 170,
   "id": "e3af8191-27de-4d5c-bd99-bb05c87b3f47",
   "metadata": {
    "tags": []
   },
   "outputs": [
    {
     "data": {
      "text/plain": [
       "int"
      ]
     },
     "execution_count": 170,
     "metadata": {},
     "output_type": "execute_result"
    }
   ],
   "source": [
    "# Usando a built-in function `type`\n",
    "type(edad)"
   ]
  },
  {
   "cell_type": "markdown",
   "id": "15af28bf-77ff-4f4b-9d4a-5718508d26f6",
   "metadata": {},
   "source": [
    "En C++ se definen variables como:\n",
    "```c\n",
    "int edad = 21\n",
    "```\n",
    "y de esta forma el programa reserva un pedazo de la memoria RAM a la variable `edad`"
   ]
  },
  {
   "cell_type": "code",
   "execution_count": 171,
   "id": "13c78ac5-4971-4ccb-ab51-45ef1fad77ae",
   "metadata": {
    "tags": []
   },
   "outputs": [],
   "source": [
    "edad = \"texto\" # Esto no se permite en C/C++"
   ]
  },
  {
   "cell_type": "markdown",
   "id": "ca938b0f-ff2a-481d-ac5c-4cffc8018047",
   "metadata": {},
   "source": [
    "## Variables flotantes"
   ]
  },
  {
   "cell_type": "markdown",
   "id": "9cba8828-e212-4297-8621-b7cba689e47c",
   "metadata": {},
   "source": [
    "El tipado de las variables flotantes es `float` y se declaran como:"
   ]
  },
  {
   "cell_type": "code",
   "execution_count": 172,
   "id": "1343d542-3df6-4d66-951e-981a38ba75ce",
   "metadata": {
    "tags": []
   },
   "outputs": [],
   "source": [
    "pi = 3.141592 # Tienen punto flotante"
   ]
  },
  {
   "cell_type": "code",
   "execution_count": 173,
   "id": "c4a23c0a-0e7d-48fd-a42b-e2b3385b73d9",
   "metadata": {
    "tags": []
   },
   "outputs": [
    {
     "data": {
      "text/plain": [
       "float"
      ]
     },
     "execution_count": 173,
     "metadata": {},
     "output_type": "execute_result"
    }
   ],
   "source": [
    "type(pi)"
   ]
  },
  {
   "cell_type": "code",
   "execution_count": 174,
   "id": "c273229d-f203-40b1-808c-d62ed0443cd7",
   "metadata": {
    "tags": []
   },
   "outputs": [],
   "source": [
    "# Si tenemos un valor entero, pero queremos que Python lo asuma como flotante\n",
    "edad = 21.0\n",
    "edad = 21."
   ]
  },
  {
   "cell_type": "code",
   "execution_count": 175,
   "id": "256b246c-bbcd-4106-bb78-470a57349541",
   "metadata": {
    "tags": []
   },
   "outputs": [
    {
     "data": {
      "text/plain": [
       "float"
      ]
     },
     "execution_count": 175,
     "metadata": {},
     "output_type": "execute_result"
    }
   ],
   "source": [
    "type(edad)"
   ]
  },
  {
   "cell_type": "markdown",
   "id": "ec75e11c-b179-4fee-9023-f1c201ef20cc",
   "metadata": {},
   "source": [
    "## Conversión de entero a flotante, y viceversa, y también a cadena de texto"
   ]
  },
  {
   "cell_type": "code",
   "execution_count": 176,
   "id": "bf61aa6f-6743-4830-b9db-569f74eccf2f",
   "metadata": {
    "tags": []
   },
   "outputs": [],
   "source": [
    "altura = 1.72 # Este es flotante"
   ]
  },
  {
   "cell_type": "code",
   "execution_count": 177,
   "id": "60254598-a88e-4981-9254-b2a83d767e62",
   "metadata": {
    "tags": []
   },
   "outputs": [
    {
     "name": "stdout",
     "output_type": "stream",
     "text": [
      "1.72\n"
     ]
    }
   ],
   "source": [
    "print(altura)"
   ]
  },
  {
   "cell_type": "code",
   "execution_count": 178,
   "id": "1cee2117-581a-4e50-9678-3720f4e58dc3",
   "metadata": {
    "tags": []
   },
   "outputs": [
    {
     "name": "stdout",
     "output_type": "stream",
     "text": [
      "1\n"
     ]
    }
   ],
   "source": [
    "# Usando la built-in function `int` sobre una variable flotante\n",
    "print(int(altura)) # Quita los decimales"
   ]
  },
  {
   "cell_type": "code",
   "execution_count": 179,
   "id": "961f3c4c-ef5b-4170-ac66-a9a8b0a7330a",
   "metadata": {
    "tags": []
   },
   "outputs": [
    {
     "name": "stdout",
     "output_type": "stream",
     "text": [
      "23.0\n"
     ]
    }
   ],
   "source": [
    "# Usando la built-in function `float` sobre una variable entera\n",
    "entero = 23\n",
    "print(float(23)) # Convierte a flotante"
   ]
  },
  {
   "cell_type": "code",
   "execution_count": 180,
   "id": "517600e3-b3c6-4a83-8fd1-707f44c1330f",
   "metadata": {
    "tags": []
   },
   "outputs": [
    {
     "name": "stdout",
     "output_type": "stream",
     "text": [
      "1.72\n"
     ]
    },
    {
     "ename": "ValueError",
     "evalue": "invalid literal for int() with base 10: '1.72'",
     "output_type": "error",
     "traceback": [
      "\u001b[0;31m---------------------------------------------------------------------------\u001b[0m",
      "\u001b[0;31mValueError\u001b[0m                                Traceback (most recent call last)",
      "Cell \u001b[0;32mIn[180], line 4\u001b[0m\n\u001b[1;32m      2\u001b[0m altura \u001b[38;5;241m=\u001b[39m \u001b[38;5;124m\"\u001b[39m\u001b[38;5;124m1.72\u001b[39m\u001b[38;5;124m\"\u001b[39m\n\u001b[1;32m      3\u001b[0m \u001b[38;5;28mprint\u001b[39m(\u001b[38;5;28mfloat\u001b[39m(altura))\n\u001b[0;32m----> 4\u001b[0m \u001b[38;5;28mprint\u001b[39m(\u001b[38;5;28;43mint\u001b[39;49m\u001b[43m(\u001b[49m\u001b[43maltura\u001b[49m\u001b[43m)\u001b[49m) \u001b[38;5;66;03m# Este falla\u001b[39;00m\n",
      "\u001b[0;31mValueError\u001b[0m: invalid literal for int() with base 10: '1.72'"
     ]
    }
   ],
   "source": [
    "# Si la variable es cadena de texto\n",
    "altura = \"1.72\"\n",
    "print(float(altura))\n",
    "print(int(altura)) # Este falla"
   ]
  },
  {
   "cell_type": "code",
   "execution_count": 181,
   "id": "d5886bfa-5ef6-4607-90ec-b7c68aba5fc9",
   "metadata": {
    "tags": []
   },
   "outputs": [
    {
     "name": "stdout",
     "output_type": "stream",
     "text": [
      "23\n"
     ]
    }
   ],
   "source": [
    "print(str(entero))"
   ]
  },
  {
   "cell_type": "code",
   "execution_count": 182,
   "id": "d0aeb573-aa26-45c8-9f9a-94548ec1afec",
   "metadata": {
    "tags": []
   },
   "outputs": [
    {
     "name": "stdout",
     "output_type": "stream",
     "text": [
      "<class 'int'>\n",
      "<class 'str'>\n"
     ]
    }
   ],
   "source": [
    "print(type(entero))\n",
    "print(type(str(entero)))"
   ]
  },
  {
   "cell_type": "markdown",
   "id": "341514a1-5160-492f-a829-00a7ce7861df",
   "metadata": {},
   "source": [
    "## Operadores aritméticos"
   ]
  },
  {
   "cell_type": "markdown",
   "id": "5190d49e-8d85-44ec-bb20-11db559ef0b7",
   "metadata": {},
   "source": [
    "Los mas utilizados son:\n",
    "\n",
    "- Suma `+`\n",
    "- Resta `-`\n",
    "- Multiplicación `*`\n",
    "- División `/`\n",
    "- Potencia `**`\n",
    "- Módulo `%`\n",
    "- División Entera `//`"
   ]
  },
  {
   "cell_type": "markdown",
   "id": "2747d216-ac4b-4858-b76c-632ff1f57ada",
   "metadata": {
    "tags": []
   },
   "source": [
    "### Ejemplos de operadores aritméticos"
   ]
  },
  {
   "cell_type": "markdown",
   "id": "68de8c34-0b06-4dda-97c7-4493565c08c4",
   "metadata": {},
   "source": [
    "#### Suma y Resta"
   ]
  },
  {
   "cell_type": "code",
   "execution_count": 183,
   "id": "7eba726e-6875-4286-a611-a0677daa52c4",
   "metadata": {
    "tags": []
   },
   "outputs": [
    {
     "data": {
      "text/plain": [
       "2"
      ]
     },
     "execution_count": 183,
     "metadata": {},
     "output_type": "execute_result"
    }
   ],
   "source": [
    "1 + 1"
   ]
  },
  {
   "cell_type": "code",
   "execution_count": 184,
   "id": "e9dd61c1-fbd7-4dce-b62a-e12a83139500",
   "metadata": {
    "tags": []
   },
   "outputs": [
    {
     "data": {
      "text/plain": [
       "2.2"
      ]
     },
     "execution_count": 184,
     "metadata": {},
     "output_type": "execute_result"
    }
   ],
   "source": [
    "1 + 1.2"
   ]
  },
  {
   "cell_type": "code",
   "execution_count": 185,
   "id": "69f35c72-94fc-4b70-90e1-6916103ce51c",
   "metadata": {
    "tags": []
   },
   "outputs": [
    {
     "data": {
      "text/plain": [
       "-1"
      ]
     },
     "execution_count": 185,
     "metadata": {},
     "output_type": "execute_result"
    }
   ],
   "source": [
    "1 - 2"
   ]
  },
  {
   "cell_type": "code",
   "execution_count": 186,
   "id": "7bf5b5b7-86b0-4f64-9cfd-348452a22765",
   "metadata": {
    "tags": []
   },
   "outputs": [
    {
     "data": {
      "text/plain": [
       "1.71"
      ]
     },
     "execution_count": 186,
     "metadata": {},
     "output_type": "execute_result"
    }
   ],
   "source": [
    "3.23 - 1.52"
   ]
  },
  {
   "cell_type": "markdown",
   "id": "03e0a86d-c2cc-4da3-98f7-79a16cdd16b0",
   "metadata": {
    "tags": []
   },
   "source": [
    "#### Multiplicación y División"
   ]
  },
  {
   "cell_type": "code",
   "execution_count": 187,
   "id": "07ad4a65-02aa-4730-8551-0b888dccfe4b",
   "metadata": {
    "tags": []
   },
   "outputs": [
    {
     "data": {
      "text/plain": [
       "9"
      ]
     },
     "execution_count": 187,
     "metadata": {},
     "output_type": "execute_result"
    }
   ],
   "source": [
    "3 * 3"
   ]
  },
  {
   "cell_type": "code",
   "execution_count": 188,
   "id": "e5531db1-1fc4-4a35-bc9d-1a803642b943",
   "metadata": {
    "tags": []
   },
   "outputs": [
    {
     "data": {
      "text/plain": [
       "7.050000000000001"
      ]
     },
     "execution_count": 188,
     "metadata": {},
     "output_type": "execute_result"
    }
   ],
   "source": [
    "3 * 2.35 # El resultado real es 7.05, pero Python regresa 7.050000000000001"
   ]
  },
  {
   "cell_type": "code",
   "execution_count": 189,
   "id": "f17c8b8f-5569-4579-bcbe-e1cd0dc6d0a4",
   "metadata": {
    "tags": []
   },
   "outputs": [
    {
     "data": {
      "text/plain": [
       "1.276595744680851"
      ]
     },
     "execution_count": 189,
     "metadata": {},
     "output_type": "execute_result"
    }
   ],
   "source": [
    "3 / 2.35 # La división siempre regresa flotantes"
   ]
  },
  {
   "cell_type": "code",
   "execution_count": 190,
   "id": "a3888d1c-486a-4566-a854-cfbd9199df50",
   "metadata": {
    "tags": []
   },
   "outputs": [
    {
     "data": {
      "text/plain": [
       "2.0"
      ]
     },
     "execution_count": 190,
     "metadata": {},
     "output_type": "execute_result"
    }
   ],
   "source": [
    "4 / 2"
   ]
  },
  {
   "cell_type": "markdown",
   "id": "239c0b5a-756f-4284-97bc-1f84f5255a97",
   "metadata": {},
   "source": [
    "#### Potencia"
   ]
  },
  {
   "cell_type": "code",
   "execution_count": 191,
   "id": "6ed2fcc8-3844-429c-8f40-fe167e196532",
   "metadata": {
    "tags": []
   },
   "outputs": [
    {
     "data": {
      "text/plain": [
       "6561"
      ]
     },
     "execution_count": 191,
     "metadata": {},
     "output_type": "execute_result"
    }
   ],
   "source": [
    "3 ** 8"
   ]
  },
  {
   "cell_type": "code",
   "execution_count": 192,
   "id": "f00e83c1-1d0c-43a7-b46c-867a92afdf26",
   "metadata": {
    "tags": []
   },
   "outputs": [
    {
     "data": {
      "text/plain": [
       "1.7621279569677928"
      ]
     },
     "execution_count": 192,
     "metadata": {},
     "output_type": "execute_result"
    }
   ],
   "source": [
    "5 ** 0.352"
   ]
  },
  {
   "cell_type": "markdown",
   "id": "6823d068-38ce-442e-be6e-6bf0efa6480e",
   "metadata": {},
   "source": [
    "#### Módulo"
   ]
  },
  {
   "cell_type": "code",
   "execution_count": 193,
   "id": "27966be5-a47f-4e0e-a920-f864ee1fdff8",
   "metadata": {
    "tags": []
   },
   "outputs": [
    {
     "data": {
      "text/plain": [
       "1"
      ]
     },
     "execution_count": 193,
     "metadata": {},
     "output_type": "execute_result"
    }
   ],
   "source": [
    "7 % 2"
   ]
  },
  {
   "cell_type": "markdown",
   "id": "cfd07fd4-072b-438d-a7e5-7138c357bd37",
   "metadata": {},
   "source": [
    "#### División entera"
   ]
  },
  {
   "cell_type": "code",
   "execution_count": 194,
   "id": "34021d7d-063a-48d2-877b-05e16f64cfdf",
   "metadata": {
    "tags": []
   },
   "outputs": [
    {
     "data": {
      "text/plain": [
       "100.06300484652665"
      ]
     },
     "execution_count": 194,
     "metadata": {},
     "output_type": "execute_result"
    }
   ],
   "source": [
    "123878 / 1238"
   ]
  },
  {
   "cell_type": "code",
   "execution_count": 195,
   "id": "544d1bae-c4ee-4379-b42e-f089316b757f",
   "metadata": {
    "tags": []
   },
   "outputs": [
    {
     "data": {
      "text/plain": [
       "100"
      ]
     },
     "execution_count": 195,
     "metadata": {},
     "output_type": "execute_result"
    }
   ],
   "source": [
    "123875 // 1238"
   ]
  },
  {
   "cell_type": "markdown",
   "id": "b4bc798d-aca4-4a48-aa0b-ff69f063528f",
   "metadata": {},
   "source": [
    "#### Buenas prácticas"
   ]
  },
  {
   "cell_type": "markdown",
   "id": "824de754-76c5-4a26-a27f-ade1319d6457",
   "metadata": {
    "tags": []
   },
   "source": [
    "✅ 1 + 1\n",
    "\n",
    "❌ 1+1"
   ]
  },
  {
   "cell_type": "markdown",
   "id": "a34e99f3-63e9-4c67-b4b1-b787ba3e8d09",
   "metadata": {
    "tags": []
   },
   "source": [
    "#### Operaciones con variables"
   ]
  },
  {
   "cell_type": "code",
   "execution_count": 79,
   "id": "c1ef1277-0a40-4d08-a0fa-2976c7ba58fd",
   "metadata": {
    "tags": []
   },
   "outputs": [],
   "source": [
    "entero = 23\n",
    "flotante = 582.283"
   ]
  },
  {
   "cell_type": "code",
   "execution_count": 80,
   "id": "98037e04-8b6b-4992-9851-2fc69183bc4d",
   "metadata": {
    "tags": []
   },
   "outputs": [],
   "source": [
    "resultado = entero * flotante"
   ]
  },
  {
   "cell_type": "code",
   "execution_count": 81,
   "id": "6e6c4b51-02c0-4c5e-abca-00195c6eec85",
   "metadata": {
    "tags": []
   },
   "outputs": [
    {
     "name": "stdout",
     "output_type": "stream",
     "text": [
      "13392.509\n"
     ]
    }
   ],
   "source": [
    "print(resultado)"
   ]
  },
  {
   "cell_type": "markdown",
   "id": "cdb65680-e020-4c97-bec7-f7036a7a03ed",
   "metadata": {},
   "source": [
    "### Prioridad de las operaciones\n",
    "\n",
    "Es posible priorizar el orden en que se realizan las operaciones utilizando los paréntesis `()` para dividir secciones y jerarquías de las operaciones."
   ]
  },
  {
   "cell_type": "code",
   "execution_count": 83,
   "id": "bff7f96b-f0c8-4d5a-95e5-126bad48d99c",
   "metadata": {
    "tags": []
   },
   "outputs": [
    {
     "data": {
      "text/plain": [
       "7"
      ]
     },
     "execution_count": 83,
     "metadata": {},
     "output_type": "execute_result"
    }
   ],
   "source": [
    "1 + 2 * 3 # Puesto así, la prioridad la tiene la multiplicación, y luego al suma"
   ]
  },
  {
   "cell_type": "code",
   "execution_count": 87,
   "id": "a5997591-efeb-4587-b11a-a1fa26cf73d9",
   "metadata": {
    "tags": []
   },
   "outputs": [
    {
     "data": {
      "text/plain": [
       "9"
      ]
     },
     "execution_count": 87,
     "metadata": {},
     "output_type": "execute_result"
    }
   ],
   "source": [
    "# Siempre mejor usar paréntesis\n",
    "\n",
    "(1 + 2) * 3"
   ]
  },
  {
   "cell_type": "code",
   "execution_count": 88,
   "id": "16b2e030-e32c-4e2a-9ece-ae968c06ddce",
   "metadata": {
    "tags": []
   },
   "outputs": [
    {
     "data": {
      "text/plain": [
       "7"
      ]
     },
     "execution_count": 88,
     "metadata": {},
     "output_type": "execute_result"
    }
   ],
   "source": [
    "1 + (2 * 3)"
   ]
  },
  {
   "cell_type": "markdown",
   "id": "de73946b-31b7-4177-877f-6a22b250e610",
   "metadata": {},
   "source": [
    "---"
   ]
  },
  {
   "cell_type": "markdown",
   "id": "5faac9b2-7d6c-4f20-a718-8439ee316db5",
   "metadata": {},
   "source": [
    "## Operadores de auto-asignación"
   ]
  },
  {
   "cell_type": "markdown",
   "id": "62afc9cf-6509-4f6b-b74e-6307c2b99000",
   "metadata": {},
   "source": [
    "Es posible hacer una reasignación de la variable utilizando el valor existente, para esto existen los operadores de reasignación, o auto-asignación"
   ]
  },
  {
   "cell_type": "code",
   "execution_count": 95,
   "id": "66e4496e-b930-410b-a89b-319bc15dac45",
   "metadata": {
    "tags": []
   },
   "outputs": [
    {
     "name": "stdout",
     "output_type": "stream",
     "text": [
      "1\n"
     ]
    }
   ],
   "source": [
    "contador = 1\n",
    "print(contador)"
   ]
  },
  {
   "cell_type": "code",
   "execution_count": 96,
   "id": "211e4eb3-2637-4bdc-ba91-94fc7d771773",
   "metadata": {
    "tags": []
   },
   "outputs": [
    {
     "name": "stdout",
     "output_type": "stream",
     "text": [
      "1\n",
      "2\n"
     ]
    }
   ],
   "source": [
    "# Queremos agregarle un 1 a esa variable.\n",
    "print(contador)\n",
    "contador = contador + 1\n",
    "print(contador)\n",
    "# En este caso la variable contador de renombra, o reasigna, como su valor anterior mas uno"
   ]
  },
  {
   "cell_type": "markdown",
   "id": "943de040-d56e-4b00-8643-00a693e2b6c2",
   "metadata": {},
   "source": [
    "Del código anterior hay que recordar que el operador `=` no significa lo mismo que en matemáticas.\n",
    "\n",
    "En matemáticas, al ecuación\n",
    "$$\n",
    "x = x + 1\n",
    "$$\n",
    "no existe, ya que si simplificamos nos queda $0 = 1$.\n",
    "\n",
    "En programación el signo `=` significa asignación, es decir, hay una correspondencia unilateral. Lo de la izquierda no es igual a lo de la derecha."
   ]
  },
  {
   "cell_type": "markdown",
   "id": "109ba63e-0832-4342-813d-fb8f45c84705",
   "metadata": {},
   "source": [
    "Una mejor manera de hacer una reasignación a la variable es utilizando los operadores de re-asignación:\n",
    "- Suma o concatena al valor existente `+=`\n",
    "- Resta al valor existente `-=`\n",
    "- Multiplica o reproduce el valor existente `*=`\n",
    "- Divide el valor existente `/=`"
   ]
  },
  {
   "cell_type": "code",
   "execution_count": 100,
   "id": "5f2e7e6e-4c08-4233-98a3-c71ab32d9d1d",
   "metadata": {
    "tags": []
   },
   "outputs": [
    {
     "name": "stdout",
     "output_type": "stream",
     "text": [
      "1\n"
     ]
    }
   ],
   "source": [
    "contador = 1\n",
    "print(contador)"
   ]
  },
  {
   "cell_type": "code",
   "execution_count": 103,
   "id": "88ee4a1f-cb0c-4675-a89f-6b69772b8bd6",
   "metadata": {
    "tags": []
   },
   "outputs": [
    {
     "name": "stdout",
     "output_type": "stream",
     "text": [
      "2\n"
     ]
    }
   ],
   "source": [
    "contador += 1 # Esto es equivalente a contador = contador + 1\n",
    "print(contador)"
   ]
  },
  {
   "cell_type": "code",
   "execution_count": 107,
   "id": "9e5564d3-a257-4421-8459-f0f38cc4cbe3",
   "metadata": {
    "tags": []
   },
   "outputs": [
    {
     "name": "stdout",
     "output_type": "stream",
     "text": [
      "-10\n"
     ]
    }
   ],
   "source": [
    "contador -= 10\n",
    "print(contador)"
   ]
  },
  {
   "cell_type": "code",
   "execution_count": 109,
   "id": "6e831da2-c6a2-443e-9832-4bce3368fb80",
   "metadata": {
    "tags": []
   },
   "outputs": [
    {
     "name": "stdout",
     "output_type": "stream",
     "text": [
      "-280.9\n"
     ]
    }
   ],
   "source": [
    "contador *= 5.3\n",
    "print(contador)"
   ]
  },
  {
   "cell_type": "code",
   "execution_count": 110,
   "id": "97eca7fd-f529-4a65-969b-5dedbc72ce0c",
   "metadata": {
    "tags": []
   },
   "outputs": [
    {
     "name": "stdout",
     "output_type": "stream",
     "text": [
      "-40.128571428571426\n"
     ]
    }
   ],
   "source": [
    "contador /= 7\n",
    "print(contador)"
   ]
  },
  {
   "cell_type": "code",
   "execution_count": 114,
   "id": "01d0dd8f-65b2-42ff-8248-3d3196ffe24b",
   "metadata": {
    "tags": []
   },
   "outputs": [
    {
     "name": "stdout",
     "output_type": "stream",
     "text": [
      "hola\n"
     ]
    }
   ],
   "source": [
    "contador = \"hola\" # Python no te cuida de que cambies de variable numérica a cadena de texto\n",
    "print(contador)"
   ]
  },
  {
   "cell_type": "markdown",
   "id": "beb0ab96-4685-4fbb-a80a-1d625cc18a77",
   "metadata": {},
   "source": [
    "## Variables numéricas como objetos"
   ]
  },
  {
   "cell_type": "markdown",
   "id": "e8c7e18c-864c-45e2-ad15-a7384d21cd1b",
   "metadata": {},
   "source": [
    "Todo en **Python** es un objeto. Eso significa que tienen _atributos_ y/o _métodos_ con los cuales se puede modificar el valor de la variable, regresar información, etc. Todo dependerá del tipo de objeto que sea la variable.\n",
    "\n",
    "Las variables numéricas tienen cierto atributos y métodos, debido a que pertenencen a la clase de tipo `int` y `float`\n",
    "\n",
    "**NOTA**: Si queremos acceder a un método, tenemos que agregar los paréntesis al final, y si es un atributo, no necesita paréntesis"
   ]
  },
  {
   "cell_type": "code",
   "execution_count": 168,
   "id": "3f1dc74c-7ee1-4a63-9caf-74fe17e30e0f",
   "metadata": {
    "tags": []
   },
   "outputs": [],
   "source": [
    "entero_1 = 23\n",
    "entero_2 = 753"
   ]
  },
  {
   "cell_type": "code",
   "execution_count": 157,
   "id": "a984b9a6-e7ce-4ae2-a111-8557c5964021",
   "metadata": {
    "tags": []
   },
   "outputs": [],
   "source": [
    "# Para acceder a los atributos y métodos, se utilizar el `.` después de la variable"
   ]
  },
  {
   "cell_type": "code",
   "execution_count": 158,
   "id": "4165c7b1-016e-4a10-b037-845ad928fd65",
   "metadata": {
    "tags": []
   },
   "outputs": [
    {
     "data": {
      "text/plain": [
       "4"
      ]
     },
     "execution_count": 158,
     "metadata": {},
     "output_type": "execute_result"
    }
   ],
   "source": [
    "entero.bit_count() # Con <Tab> después del punto, desplegamos todos los atributos y métodos del objeto"
   ]
  },
  {
   "cell_type": "code",
   "execution_count": 167,
   "id": "60110282-db11-4b4e-addf-4cb1056a16b2",
   "metadata": {
    "tags": []
   },
   "outputs": [
    {
     "data": {
      "text/plain": [
       "(23, 1)"
      ]
     },
     "execution_count": 167,
     "metadata": {},
     "output_type": "execute_result"
    }
   ],
   "source": [
    "entero.as_integer_ratio() # Método"
   ]
  },
  {
   "cell_type": "code",
   "execution_count": 160,
   "id": "7aa54f77-8c3f-479d-ac24-99fc7b6fda88",
   "metadata": {
    "tags": []
   },
   "outputs": [],
   "source": [
    "# Con los signos de interrogación accedemos a la documentaicón"
   ]
  },
  {
   "cell_type": "code",
   "execution_count": 163,
   "id": "b652fc06-b131-4b8e-9020-9ccecb9d4a63",
   "metadata": {
    "tags": []
   },
   "outputs": [
    {
     "data": {
      "text/plain": [
       "\u001b[0;31mSignature:\u001b[0m \u001b[0mentero\u001b[0m\u001b[0;34m.\u001b[0m\u001b[0mbit_length\u001b[0m\u001b[0;34m(\u001b[0m\u001b[0;34m)\u001b[0m\u001b[0;34m\u001b[0m\u001b[0;34m\u001b[0m\u001b[0m\n",
       "\u001b[0;31mDocstring:\u001b[0m\n",
       "Number of bits necessary to represent self in binary.\n",
       "\n",
       ">>> bin(37)\n",
       "'0b100101'\n",
       ">>> (37).bit_length()\n",
       "6\n",
       "\u001b[0;31mType:\u001b[0m      builtin_function_or_method"
      ]
     },
     "metadata": {},
     "output_type": "display_data"
    }
   ],
   "source": [
    "entero.bit_length?"
   ]
  },
  {
   "cell_type": "code",
   "execution_count": 164,
   "id": "784afcde-aca9-4571-8b50-8a824bc138a1",
   "metadata": {
    "tags": []
   },
   "outputs": [
    {
     "data": {
      "text/plain": [
       "23"
      ]
     },
     "execution_count": 164,
     "metadata": {},
     "output_type": "execute_result"
    }
   ],
   "source": [
    "entero.real"
   ]
  },
  {
   "cell_type": "code",
   "execution_count": 165,
   "id": "97cb628e-2512-48ae-b14c-53eeaf540cac",
   "metadata": {
    "tags": []
   },
   "outputs": [
    {
     "data": {
      "text/plain": [
       "0"
      ]
     },
     "execution_count": 165,
     "metadata": {},
     "output_type": "execute_result"
    }
   ],
   "source": [
    "entero.imag"
   ]
  },
  {
   "cell_type": "code",
   "execution_count": 166,
   "id": "31b7c4e8-3bc5-4b8a-b46a-f15abf9de35c",
   "metadata": {
    "tags": []
   },
   "outputs": [
    {
     "data": {
      "text/plain": [
       "23"
      ]
     },
     "execution_count": 166,
     "metadata": {},
     "output_type": "execute_result"
    }
   ],
   "source": [
    "entero.numerator"
   ]
  },
  {
   "cell_type": "markdown",
   "id": "20a15040-1406-4c9b-a3fe-80a45f2de896",
   "metadata": {},
   "source": [
    "---"
   ]
  },
  {
   "cell_type": "markdown",
   "id": "43e8c01e-80a9-4907-857b-036871560689",
   "metadata": {},
   "source": [
    "En **Python 2.x**:\n",
    "```python\n",
    "print 54\n",
    "```\n",
    "En **Python 3.x**:\n",
    "```python\n",
    "print(54)\n",
    "```"
   ]
  },
  {
   "cell_type": "code",
   "execution_count": 40,
   "id": "3287b4d2-830f-4a88-8695-370cadb6dcde",
   "metadata": {
    "tags": []
   },
   "outputs": [
    {
     "name": "stdin",
     "output_type": "stream",
     "text": [
      "¿Cuál es tu edad? Ventiun años\n"
     ]
    },
    {
     "ename": "ValueError",
     "evalue": "invalid literal for int() with base 10: 'Ventiun años'",
     "output_type": "error",
     "traceback": [
      "\u001b[0;31m---------------------------------------------------------------------------\u001b[0m",
      "\u001b[0;31mValueError\u001b[0m                                Traceback (most recent call last)",
      "Cell \u001b[0;32mIn[40], line 1\u001b[0m\n\u001b[0;32m----> 1\u001b[0m edad \u001b[38;5;241m=\u001b[39m \u001b[38;5;28;43mint\u001b[39;49m\u001b[43m(\u001b[49m\u001b[38;5;28;43minput\u001b[39;49m\u001b[43m(\u001b[49m\u001b[38;5;124;43m\"\u001b[39;49m\u001b[38;5;124;43m¿Cuál es tu edad?\u001b[39;49m\u001b[38;5;124;43m\"\u001b[39;49m\u001b[43m)\u001b[49m\u001b[43m)\u001b[49m\n",
      "\u001b[0;31mValueError\u001b[0m: invalid literal for int() with base 10: 'Ventiun años'"
     ]
    }
   ],
   "source": [
    "edad = int(input(\"¿Cuál es tu edad?\"))"
   ]
  },
  {
   "cell_type": "code",
   "execution_count": 38,
   "id": "80d09ff1-d061-4351-bc04-f16d374f5ce8",
   "metadata": {
    "tags": []
   },
   "outputs": [
    {
     "data": {
      "text/plain": [
       "str"
      ]
     },
     "execution_count": 38,
     "metadata": {},
     "output_type": "execute_result"
    }
   ],
   "source": [
    "type(edad)"
   ]
  },
  {
   "cell_type": "code",
   "execution_count": 39,
   "id": "9e09642e-b405-44ee-b011-499e3918942e",
   "metadata": {
    "tags": []
   },
   "outputs": [
    {
     "data": {
      "text/plain": [
       "'sdlkrjrtf añslekfjañ slekfjas ñldfcjvs lkdjf sclvjbañ seklrjs ñldk'"
      ]
     },
     "execution_count": 39,
     "metadata": {},
     "output_type": "execute_result"
    }
   ],
   "source": [
    "edad"
   ]
  },
  {
   "cell_type": "code",
   "execution_count": 42,
   "id": "35c32391-3fe1-4837-aa96-609132265420",
   "metadata": {
    "tags": []
   },
   "outputs": [
    {
     "name": "stdout",
     "output_type": "stream",
     "text": [
      "El resultado 5\n"
     ]
    }
   ],
   "source": [
    "variable = 5\n",
    "print(f\"El resultado {variable}\")"
   ]
  },
  {
   "cell_type": "code",
   "execution_count": 43,
   "id": "fce25c3b-4175-441d-9012-b288c4526c9e",
   "metadata": {
    "tags": []
   },
   "outputs": [
    {
     "name": "stdout",
     "output_type": "stream",
     "text": [
      "El resultado es %d\n"
     ]
    }
   ],
   "source": [
    "print(\"El resultado es %d\".format(variable))"
   ]
  },
  {
   "cell_type": "code",
   "execution_count": null,
   "id": "18fa5971-73fa-4133-95e9-f6ab68405944",
   "metadata": {},
   "outputs": [],
   "source": []
  }
 ],
 "metadata": {
  "kernelspec": {
   "display_name": "Python 3 (ipykernel)",
   "language": "python",
   "name": "python3"
  },
  "language_info": {
   "codemirror_mode": {
    "name": "ipython",
    "version": 3
   },
   "file_extension": ".py",
   "mimetype": "text/x-python",
   "name": "python",
   "nbconvert_exporter": "python",
   "pygments_lexer": "ipython3",
   "version": "3.10.6"
  }
 },
 "nbformat": 4,
 "nbformat_minor": 5
}
