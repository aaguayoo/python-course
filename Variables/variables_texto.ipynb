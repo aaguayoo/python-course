{
 "cells": [
  {
   "cell_type": "markdown",
   "id": "7c5cf625-c2ad-4ef3-b9e9-5565e0bcd56b",
   "metadata": {},
   "source": [
    "# Variables de texto\n",
    "\n",
    "Las cadenas de texto son aquellas que almacenan información tipo texto. Aunque alguna vecesx se les condiera como variables simples, la verdad es que no lo son, ya que consisten de un almacenamiento ordenado de una serie de caracteres, por lo que es más una colección de elemncs que un elemento en sí.\n",
    "\n",
    "La forma en que podemos declarar cadenas de texto es utilizando cualquiera de los siguientes caracteres\n",
    "- `'Usando comilla simple'` (Este es el estándar aceptado)\n",
    "- `\"Usando doble comilla\"`\n",
    "- `\"\"\"Usando triple-doble comilla\"\"\"` (Este se utiliza para documentación, por lo general)"
   ]
  },
  {
   "cell_type": "code",
   "execution_count": 1,
   "id": "15805ae2-9902-4215-873d-f016c471f0d7",
   "metadata": {
    "tags": []
   },
   "outputs": [
    {
     "data": {
      "text/plain": [
       "'Hola mundo!'"
      ]
     },
     "execution_count": 1,
     "metadata": {},
     "output_type": "execute_result"
    }
   ],
   "source": [
    "# Ejemplo rápido\n",
    "'Hola mundo!'"
   ]
  },
  {
   "cell_type": "code",
   "execution_count": 2,
   "id": "ce09e189-d557-4915-94f3-96b07a65b3d8",
   "metadata": {
    "tags": []
   },
   "outputs": [
    {
     "data": {
      "text/plain": [
       "'ñ!#$%#$%&/$'"
      ]
     },
     "execution_count": 2,
     "metadata": {},
     "output_type": "execute_result"
    }
   ],
   "source": [
    "\"ñ!#$%#$%&/$\""
   ]
  },
  {
   "cell_type": "code",
   "execution_count": 3,
   "id": "fdd0f164-9ce3-495c-bf83-1bbf7f48f3a8",
   "metadata": {
    "tags": []
   },
   "outputs": [
    {
     "name": "stdout",
     "output_type": "stream",
     "text": [
      "Hola mundo!\n"
     ]
    }
   ],
   "source": [
    "print('Hola mundo!') # En el output no regresa las comillas"
   ]
  },
  {
   "cell_type": "markdown",
   "id": "de077102-144c-42b1-b78b-a62d50e9dd71",
   "metadata": {},
   "source": [
    "En caso de que nuestro texto contenga alguna comilla simple o doble, es conveniente asignarlo con el restante, ya que interpretará que el elemento indica el fin de la cadena:\n",
    "\n",
    "❌ `'Hi, I'm a human'`\n",
    "\n",
    "✅ `\"Hi, I'm a human\"`"
   ]
  },
  {
   "cell_type": "code",
   "execution_count": 5,
   "id": "bd677fe1-cacc-4774-8bd6-012b7eddf828",
   "metadata": {
    "tags": []
   },
   "outputs": [
    {
     "ename": "SyntaxError",
     "evalue": "unterminated string literal (detected at line 2) (297221296.py, line 2)",
     "output_type": "error",
     "traceback": [
      "\u001b[0;36m  Cell \u001b[0;32mIn[5], line 2\u001b[0;36m\u001b[0m\n\u001b[0;31m    'Hi, I'm a human'\u001b[0m\n\u001b[0m                    ^\u001b[0m\n\u001b[0;31mSyntaxError\u001b[0m\u001b[0;31m:\u001b[0m unterminated string literal (detected at line 2)\n"
     ]
    }
   ],
   "source": [
    "# Este string regresa error: `SyntaxError`\n",
    "'Hi, I'm a human'"
   ]
  },
  {
   "cell_type": "code",
   "execution_count": 6,
   "id": "e1de19e6-836d-4c1c-ab86-a7febffa2e73",
   "metadata": {
    "tags": []
   },
   "outputs": [
    {
     "data": {
      "text/plain": [
       "\"Hi, I'm a human\""
      ]
     },
     "execution_count": 6,
     "metadata": {},
     "output_type": "execute_result"
    }
   ],
   "source": [
    "\"Hi, I'm a human\""
   ]
  },
  {
   "cell_type": "markdown",
   "id": "91681ae2-0e82-4fa2-b704-527082c1b6c4",
   "metadata": {},
   "source": [
    "## Textos multilineales\n",
    "\n",
    "Para crear cadenas de texto en múltiples líneas se utiliza `\"\"\"` como declaración de texto."
   ]
  },
  {
   "cell_type": "code",
   "execution_count": 7,
   "id": "0aba419c-c4ad-4676-957f-ad4c62ab8c26",
   "metadata": {
    "tags": []
   },
   "outputs": [
    {
     "data": {
      "text/plain": [
       "'Hola\\neste es un texto\\nmultilineal\\n'"
      ]
     },
     "execution_count": 7,
     "metadata": {},
     "output_type": "execute_result"
    }
   ],
   "source": [
    "\"\"\"Hola\n",
    "este es un texto\n",
    "multilineal\n",
    "\"\"\""
   ]
  },
  {
   "cell_type": "code",
   "execution_count": 8,
   "id": "5a2c5927-9c38-4c35-80fc-e3683d976c56",
   "metadata": {
    "tags": []
   },
   "outputs": [
    {
     "name": "stdout",
     "output_type": "stream",
     "text": [
      "Hola\n",
      "    este es un texto\n",
      "    multilineal\n",
      "    \n"
     ]
    }
   ],
   "source": [
    "print(\n",
    "    \"\"\"Hola\n",
    "    este es un texto\n",
    "    multilineal\n",
    "    \"\"\"\n",
    ")"
   ]
  },
  {
   "cell_type": "markdown",
   "id": "c2e57bad-a4ee-4c26-aa57-8e2730e325d4",
   "metadata": {},
   "source": [
    "Normalmente en Python, existe un número máximo de caracteres que pueden llenar una línea de código. Según el estándar de PEP8 este número es de 88 caracteres. Pero existen ocasiones en que alguna variable declarada como cadena de texto, necesite que el texto tenga mucho más que sólo 88 caracteres. La pregunta es: ¿cómo puedo escribir este texto sin pasarme del estándar de los 88 caracteres?"
   ]
  },
  {
   "cell_type": "code",
   "execution_count": 10,
   "id": "acaa0caf-a2ad-4918-8330-4b0ba85e7c2e",
   "metadata": {
    "tags": []
   },
   "outputs": [],
   "source": [
    "# Problema:\n",
    "cadena_texto = \"Hola esta es una cadena de texto lo suficientemente larga para que tenga mas que sólo 88 caracteres.\""
   ]
  },
  {
   "cell_type": "code",
   "execution_count": 14,
   "id": "ba62afbb-0fa2-4570-b50d-d09ae7a7d257",
   "metadata": {
    "tags": []
   },
   "outputs": [
    {
     "data": {
      "text/plain": [
       "'Hola esta es una cadena de texto lo suficientemente larga para que tenga mas que sólo 88 caracteres.'"
      ]
     },
     "execution_count": 14,
     "metadata": {},
     "output_type": "execute_result"
    }
   ],
   "source": [
    "cadena_texto"
   ]
  },
  {
   "cell_type": "code",
   "execution_count": 12,
   "id": "1abfe044-6e8f-4cd2-ad90-44a6d654ca5f",
   "metadata": {
    "tags": []
   },
   "outputs": [],
   "source": [
    "# Solución\n",
    "cadena_texto = (\n",
    "    \"Hola esta es una cadena de texto lo suficientemente \"\n",
    "    \"larga para que tenga mas que sólo 88 caracteres.\"\n",
    ")"
   ]
  },
  {
   "cell_type": "code",
   "execution_count": 13,
   "id": "dd5320b8-05f3-4b02-966b-8c2561583d7f",
   "metadata": {
    "tags": []
   },
   "outputs": [
    {
     "data": {
      "text/plain": [
       "'Hola esta es una cadena de texto lo suficientemente larga para que tenga mas que sólo 88 caracteres.'"
      ]
     },
     "execution_count": 13,
     "metadata": {},
     "output_type": "execute_result"
    }
   ],
   "source": [
    "cadena_texto"
   ]
  },
  {
   "cell_type": "markdown",
   "id": "3281a606-f52c-445f-8a50-4005a1960e94",
   "metadata": {},
   "source": [
    "## Tipado\n",
    "\n",
    "Las cadenas de texto en Python son objetos de la clase `str`"
   ]
  },
  {
   "cell_type": "code",
   "execution_count": 15,
   "id": "4d0a563d-75d2-48e0-976c-e8aa437c921d",
   "metadata": {
    "tags": []
   },
   "outputs": [
    {
     "name": "stdout",
     "output_type": "stream",
     "text": [
      "<class 'str'>\n"
     ]
    }
   ],
   "source": [
    "texto = \"Hola, mundo!\"\n",
    "print(type(texto))"
   ]
  },
  {
   "cell_type": "markdown",
   "id": "e253c1ea-0eea-4c0a-8e84-6566b5b59774",
   "metadata": {},
   "source": [
    "## Posición en cadenas de texto\n",
    "\n",
    "Debido a que estas variables son una concatenación de distintos elementos de texto, es posible a acceder a dichos elementos por medio de índices y de forma independiente"
   ]
  },
  {
   "cell_type": "code",
   "execution_count": 17,
   "id": "bacec395-9a30-498c-9ac5-2dd5f3829422",
   "metadata": {
    "tags": []
   },
   "outputs": [],
   "source": [
    "nombre = \"Manuel \""
   ]
  },
  {
   "cell_type": "code",
   "execution_count": 21,
   "id": "514091cc-2972-403d-964e-60c70d34d5c6",
   "metadata": {
    "tags": []
   },
   "outputs": [
    {
     "name": "stdout",
     "output_type": "stream",
     "text": [
      "M\n",
      "a\n",
      "n\n",
      "u\n",
      "e\n",
      "l\n",
      " \n"
     ]
    }
   ],
   "source": [
    "# Accedemos a alguno de los caracteres utilizando [<indice>] y un índice, el cual va de 0 hasta el largo del string menos 1\n",
    "print(nombre[0])\n",
    "print(nombre[1])\n",
    "print(nombre[2])\n",
    "print(nombre[3])\n",
    "print(nombre[4])\n",
    "print(nombre[5])\n",
    "print(nombre[6])"
   ]
  },
  {
   "cell_type": "code",
   "execution_count": 24,
   "id": "9d9c4059-7ed6-443e-86a1-4566c7648c78",
   "metadata": {
    "tags": []
   },
   "outputs": [
    {
     "name": "stdout",
     "output_type": "stream",
     "text": [
      " \n",
      "l\n",
      "e\n",
      "u\n",
      "n\n",
      "a\n",
      "M\n"
     ]
    }
   ],
   "source": [
    "print(nombre[-1])\n",
    "print(nombre[-2])\n",
    "print(nombre[-3])\n",
    "print(nombre[-4])\n",
    "print(nombre[-5])\n",
    "print(nombre[-6])\n",
    "print(nombre[-7])"
   ]
  },
  {
   "cell_type": "markdown",
   "id": "b6f73e3c-62c7-4902-be60-6784eaca3462",
   "metadata": {},
   "source": [
    "## Operaciones con cadenas de texto\n",
    "\n",
    "Las cadenas de texto admiten dos tipos de operaciones en Python que es:\n",
    "- `+` o concatenación\n",
    "- `*` o repetición"
   ]
  },
  {
   "cell_type": "code",
   "execution_count": 25,
   "id": "8ebf5446-f0d1-479e-b5b1-c0b3034d3659",
   "metadata": {
    "tags": []
   },
   "outputs": [
    {
     "name": "stdout",
     "output_type": "stream",
     "text": [
      "Hola, Alejandro\n"
     ]
    }
   ],
   "source": [
    "# Suma o concatenación\n",
    "\n",
    "saludo = \"Hola, \"\n",
    "nombre = \"Alejandro\"\n",
    "\n",
    "print(saludo + nombre)"
   ]
  },
  {
   "cell_type": "code",
   "execution_count": 41,
   "id": "4e21dfb9-222c-466a-8485-e07b4b821445",
   "metadata": {
    "tags": []
   },
   "outputs": [
    {
     "name": "stdout",
     "output_type": "stream",
     "text": [
      "Hola, Hola, Hola, Hola, Hola, Hola, Hola, Hola, Hola, Hola, \n"
     ]
    }
   ],
   "source": [
    "# Producto o repetición\n",
    "saludo = \"Hola, \"\n",
    "print(saludo*10)"
   ]
  },
  {
   "cell_type": "code",
   "execution_count": 42,
   "id": "6083e858-42a1-42e9-b338-d3a45e271d38",
   "metadata": {
    "tags": []
   },
   "outputs": [
    {
     "name": "stdout",
     "output_type": "stream",
     "text": [
      "HolaHolaHolaHolaHolaHolaHolaHolaHolaHola\n"
     ]
    }
   ],
   "source": [
    "saludo = \"Hola\"\n",
    "print(saludo*10)"
   ]
  },
  {
   "cell_type": "code",
   "execution_count": 43,
   "id": "82342e8a-6345-4239-bb54-637122a5431e",
   "metadata": {
    "tags": []
   },
   "outputs": [
    {
     "name": "stdout",
     "output_type": "stream",
     "text": [
      "\n",
      "Hola\n",
      "Hola\n",
      "Hola\n",
      "Hola\n",
      "Hola\n",
      "Hola\n",
      "Hola\n",
      "Hola\n",
      "Hola\n",
      "Hola\n"
     ]
    }
   ],
   "source": [
    "print((\"\\n\"+saludo)*10) # Esta es la menos eficiente"
   ]
  },
  {
   "cell_type": "code",
   "execution_count": 44,
   "id": "9edc9752-89aa-4ec4-b373-7fae9365ee56",
   "metadata": {
    "tags": []
   },
   "outputs": [
    {
     "name": "stdout",
     "output_type": "stream",
     "text": [
      "Hola\n",
      "Hola\n",
      "Hola\n",
      "Hola\n",
      "Hola\n",
      "Hola\n",
      "Hola\n",
      "Hola\n",
      "Hola\n",
      "Hola\n",
      "\n"
     ]
    }
   ],
   "source": [
    "saludo = \"Hola\\n\"\n",
    "print(saludo*10) # Esta es la más eficiente"
   ]
  },
  {
   "cell_type": "markdown",
   "id": "53ccdc24-24b7-4661-8253-8de0ec3aee11",
   "metadata": {},
   "source": [
    "## Operadores lógicos"
   ]
  },
  {
   "cell_type": "code",
   "execution_count": 48,
   "id": "9e246ac4-9e31-454c-ae20-871fc16cf199",
   "metadata": {
    "tags": []
   },
   "outputs": [
    {
     "data": {
      "text/plain": [
       "True"
      ]
     },
     "execution_count": 48,
     "metadata": {},
     "output_type": "execute_result"
    }
   ],
   "source": [
    "# Igualdad\n",
    "\"a\" == \"a\""
   ]
  },
  {
   "cell_type": "code",
   "execution_count": 49,
   "id": "65065c16-d5a5-4e47-8ab4-de99f20455f9",
   "metadata": {
    "tags": []
   },
   "outputs": [
    {
     "data": {
      "text/plain": [
       "True"
      ]
     },
     "execution_count": 49,
     "metadata": {},
     "output_type": "execute_result"
    }
   ],
   "source": [
    "\"a\" != \"b\""
   ]
  },
  {
   "cell_type": "code",
   "execution_count": 52,
   "id": "2efd65dc-3f1e-4aeb-b5a2-b02bc341cb22",
   "metadata": {
    "tags": []
   },
   "outputs": [
    {
     "data": {
      "text/plain": [
       "False"
      ]
     },
     "execution_count": 52,
     "metadata": {},
     "output_type": "execute_result"
    }
   ],
   "source": [
    "\"Hola mundo\" == \"hola Mundo\""
   ]
  },
  {
   "cell_type": "code",
   "execution_count": null,
   "id": "96802d12-b020-43ba-aae0-7d647a3a8fc2",
   "metadata": {},
   "outputs": [],
   "source": []
  }
 ],
 "metadata": {
  "kernelspec": {
   "display_name": "Python 3 (ipykernel)",
   "language": "python",
   "name": "python3"
  },
  "language_info": {
   "codemirror_mode": {
    "name": "ipython",
    "version": 3
   },
   "file_extension": ".py",
   "mimetype": "text/x-python",
   "name": "python",
   "nbconvert_exporter": "python",
   "pygments_lexer": "ipython3",
   "version": "3.10.6"
  }
 },
 "nbformat": 4,
 "nbformat_minor": 5
}
