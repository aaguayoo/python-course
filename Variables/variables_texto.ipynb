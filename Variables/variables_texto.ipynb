{
 "cells": [
  {
   "cell_type": "markdown",
   "id": "7c5cf625-c2ad-4ef3-b9e9-5565e0bcd56b",
   "metadata": {},
   "source": [
    "# Variables de texto\n",
    "\n",
    "Las cadenas de texto son aquellas que almacenan información tipo texto. Aunque alguna vecesx se les condiera como variables simples, la verdad es que no lo son, ya que consisten de un almacenamiento ordenado de una serie de caracteres, por lo que es más una colección de elemncs que un elemento en sí.\n",
    "\n",
    "La forma en que podemos declarar cadenas de texto es utilizando cualquiera de los siguientes caracteres\n",
    "- `'Usando comilla simple'` (Este es el estándar aceptado)\n",
    "- `\"Usando doble comilla\"`\n",
    "- `\"\"\"Usando triple-doble comilla\"\"\"` (Este se utiliza para documentación, por lo general)"
   ]
  },
  {
   "cell_type": "code",
   "execution_count": 1,
   "id": "15805ae2-9902-4215-873d-f016c471f0d7",
   "metadata": {
    "tags": []
   },
   "outputs": [
    {
     "data": {
      "text/plain": [
       "'Hola mundo!'"
      ]
     },
     "execution_count": 1,
     "metadata": {},
     "output_type": "execute_result"
    }
   ],
   "source": [
    "# Ejemplo rápido\n",
    "'Hola mundo!'"
   ]
  },
  {
   "cell_type": "code",
   "execution_count": 2,
   "id": "ce09e189-d557-4915-94f3-96b07a65b3d8",
   "metadata": {
    "tags": []
   },
   "outputs": [
    {
     "data": {
      "text/plain": [
       "'ñ!#$%#$%&/$'"
      ]
     },
     "execution_count": 2,
     "metadata": {},
     "output_type": "execute_result"
    }
   ],
   "source": [
    "\"ñ!#$%#$%&/$\""
   ]
  },
  {
   "cell_type": "code",
   "execution_count": 3,
   "id": "fdd0f164-9ce3-495c-bf83-1bbf7f48f3a8",
   "metadata": {
    "tags": []
   },
   "outputs": [
    {
     "name": "stdout",
     "output_type": "stream",
     "text": [
      "Hola mundo!\n"
     ]
    }
   ],
   "source": [
    "print('Hola mundo!') # En el output no regresa las comillas"
   ]
  },
  {
   "cell_type": "markdown",
   "id": "de077102-144c-42b1-b78b-a62d50e9dd71",
   "metadata": {},
   "source": [
    "En caso de que nuestro texto contenga alguna comilla simple o doble, es conveniente asignarlo con el restante, ya que interpretará que el elemento indica el fin de la cadena:\n",
    "\n",
    "❌ `'Hi, I'm a human'`\n",
    "\n",
    "✅ `\"Hi, I'm a human\"`"
   ]
  },
  {
   "cell_type": "code",
   "execution_count": 5,
   "id": "bd677fe1-cacc-4774-8bd6-012b7eddf828",
   "metadata": {
    "tags": []
   },
   "outputs": [
    {
     "ename": "SyntaxError",
     "evalue": "unterminated string literal (detected at line 2) (297221296.py, line 2)",
     "output_type": "error",
     "traceback": [
      "\u001b[0;36m  Cell \u001b[0;32mIn[5], line 2\u001b[0;36m\u001b[0m\n\u001b[0;31m    'Hi, I'm a human'\u001b[0m\n\u001b[0m                    ^\u001b[0m\n\u001b[0;31mSyntaxError\u001b[0m\u001b[0;31m:\u001b[0m unterminated string literal (detected at line 2)\n"
     ]
    }
   ],
   "source": [
    "# Este string regresa error: `SyntaxError`\n",
    "'Hi, I'm a human'"
   ]
  },
  {
   "cell_type": "code",
   "execution_count": 6,
   "id": "e1de19e6-836d-4c1c-ab86-a7febffa2e73",
   "metadata": {
    "tags": []
   },
   "outputs": [
    {
     "data": {
      "text/plain": [
       "\"Hi, I'm a human\""
      ]
     },
     "execution_count": 6,
     "metadata": {},
     "output_type": "execute_result"
    }
   ],
   "source": [
    "\"Hi, I'm a human\""
   ]
  },
  {
   "cell_type": "markdown",
   "id": "91681ae2-0e82-4fa2-b704-527082c1b6c4",
   "metadata": {},
   "source": [
    "## Textos multilineales\n",
    "\n",
    "Para crear cadenas de texto en múltiples líneas se utiliza `\"\"\"` como declaración de texto."
   ]
  },
  {
   "cell_type": "code",
   "execution_count": 7,
   "id": "0aba419c-c4ad-4676-957f-ad4c62ab8c26",
   "metadata": {
    "tags": []
   },
   "outputs": [
    {
     "data": {
      "text/plain": [
       "'Hola\\neste es un texto\\nmultilineal\\n'"
      ]
     },
     "execution_count": 7,
     "metadata": {},
     "output_type": "execute_result"
    }
   ],
   "source": [
    "\"\"\"Hola\n",
    "este es un texto\n",
    "multilineal\n",
    "\"\"\""
   ]
  },
  {
   "cell_type": "code",
   "execution_count": 8,
   "id": "5a2c5927-9c38-4c35-80fc-e3683d976c56",
   "metadata": {
    "tags": []
   },
   "outputs": [
    {
     "name": "stdout",
     "output_type": "stream",
     "text": [
      "Hola\n",
      "    este es un texto\n",
      "    multilineal\n",
      "    \n"
     ]
    }
   ],
   "source": [
    "print(\n",
    "    \"\"\"Hola\n",
    "    este es un texto\n",
    "    multilineal\n",
    "    \"\"\"\n",
    ")"
   ]
  },
  {
   "cell_type": "markdown",
   "id": "c2e57bad-a4ee-4c26-aa57-8e2730e325d4",
   "metadata": {},
   "source": [
    "Normalmente en Python, existe un número máximo de caracteres que pueden llenar una línea de código. Según el estándar de PEP8 este número es de 88 caracteres. Pero existen ocasiones en que alguna variable declarada como cadena de texto, necesite que el texto tenga mucho más que sólo 88 caracteres. La pregunta es: ¿cómo puedo escribir este texto sin pasarme del estándar de los 88 caracteres?"
   ]
  },
  {
   "cell_type": "code",
   "execution_count": 10,
   "id": "acaa0caf-a2ad-4918-8330-4b0ba85e7c2e",
   "metadata": {
    "tags": []
   },
   "outputs": [],
   "source": [
    "# Problema:\n",
    "cadena_texto = \"Hola esta es una cadena de texto lo suficientemente larga para que tenga mas que sólo 88 caracteres.\""
   ]
  },
  {
   "cell_type": "code",
   "execution_count": 14,
   "id": "ba62afbb-0fa2-4570-b50d-d09ae7a7d257",
   "metadata": {
    "tags": []
   },
   "outputs": [
    {
     "data": {
      "text/plain": [
       "'Hola esta es una cadena de texto lo suficientemente larga para que tenga mas que sólo 88 caracteres.'"
      ]
     },
     "execution_count": 14,
     "metadata": {},
     "output_type": "execute_result"
    }
   ],
   "source": [
    "cadena_texto"
   ]
  },
  {
   "cell_type": "code",
   "execution_count": 12,
   "id": "1abfe044-6e8f-4cd2-ad90-44a6d654ca5f",
   "metadata": {
    "tags": []
   },
   "outputs": [],
   "source": [
    "# Solución\n",
    "cadena_texto = (\n",
    "    \"Hola esta es una cadena de texto lo suficientemente \"\n",
    "    \"larga para que tenga mas que sólo 88 caracteres.\"\n",
    ")"
   ]
  },
  {
   "cell_type": "code",
   "execution_count": 13,
   "id": "dd5320b8-05f3-4b02-966b-8c2561583d7f",
   "metadata": {
    "tags": []
   },
   "outputs": [
    {
     "data": {
      "text/plain": [
       "'Hola esta es una cadena de texto lo suficientemente larga para que tenga mas que sólo 88 caracteres.'"
      ]
     },
     "execution_count": 13,
     "metadata": {},
     "output_type": "execute_result"
    }
   ],
   "source": [
    "cadena_texto"
   ]
  },
  {
   "cell_type": "markdown",
   "id": "3281a606-f52c-445f-8a50-4005a1960e94",
   "metadata": {},
   "source": [
    "## Tipado\n",
    "\n",
    "Las cadenas de texto en Python son objetos de la clase `str`"
   ]
  },
  {
   "cell_type": "code",
   "execution_count": 15,
   "id": "4d0a563d-75d2-48e0-976c-e8aa437c921d",
   "metadata": {
    "tags": []
   },
   "outputs": [
    {
     "name": "stdout",
     "output_type": "stream",
     "text": [
      "<class 'str'>\n"
     ]
    }
   ],
   "source": [
    "texto = \"Hola, mundo!\"\n",
    "print(type(texto))"
   ]
  },
  {
   "cell_type": "markdown",
   "id": "e253c1ea-0eea-4c0a-8e84-6566b5b59774",
   "metadata": {},
   "source": [
    "## Posición en cadenas de texto\n",
    "\n",
    "Debido a que estas variables son una concatenación de distintos elementos de texto, es posible a acceder a dichos elementos por medio de índices y de forma independiente"
   ]
  },
  {
   "cell_type": "code",
   "execution_count": 17,
   "id": "bacec395-9a30-498c-9ac5-2dd5f3829422",
   "metadata": {
    "tags": []
   },
   "outputs": [],
   "source": [
    "nombre = \"Manuel \""
   ]
  },
  {
   "cell_type": "code",
   "execution_count": 21,
   "id": "514091cc-2972-403d-964e-60c70d34d5c6",
   "metadata": {
    "tags": []
   },
   "outputs": [
    {
     "name": "stdout",
     "output_type": "stream",
     "text": [
      "M\n",
      "a\n",
      "n\n",
      "u\n",
      "e\n",
      "l\n",
      " \n"
     ]
    }
   ],
   "source": [
    "# Accedemos a alguno de los caracteres utilizando [<indice>] y un índice, el cual va de 0 hasta el largo del string menos 1\n",
    "print(nombre[0])\n",
    "print(nombre[1])\n",
    "print(nombre[2])\n",
    "print(nombre[3])\n",
    "print(nombre[4])\n",
    "print(nombre[5])\n",
    "print(nombre[6])"
   ]
  },
  {
   "cell_type": "code",
   "execution_count": 24,
   "id": "9d9c4059-7ed6-443e-86a1-4566c7648c78",
   "metadata": {
    "tags": []
   },
   "outputs": [
    {
     "name": "stdout",
     "output_type": "stream",
     "text": [
      " \n",
      "l\n",
      "e\n",
      "u\n",
      "n\n",
      "a\n",
      "M\n"
     ]
    }
   ],
   "source": [
    "print(nombre[-1])\n",
    "print(nombre[-2])\n",
    "print(nombre[-3])\n",
    "print(nombre[-4])\n",
    "print(nombre[-5])\n",
    "print(nombre[-6])\n",
    "print(nombre[-7])"
   ]
  },
  {
   "cell_type": "markdown",
   "id": "b6f73e3c-62c7-4902-be60-6784eaca3462",
   "metadata": {},
   "source": [
    "## Operaciones con cadenas de texto\n",
    "\n",
    "Las cadenas de texto admiten dos tipos de operaciones en Python que es:\n",
    "- `+` o concatenación\n",
    "- `*` o repetición"
   ]
  },
  {
   "cell_type": "code",
   "execution_count": 25,
   "id": "8ebf5446-f0d1-479e-b5b1-c0b3034d3659",
   "metadata": {
    "tags": []
   },
   "outputs": [
    {
     "name": "stdout",
     "output_type": "stream",
     "text": [
      "Hola, Alejandro\n"
     ]
    }
   ],
   "source": [
    "# Suma o concatenación\n",
    "\n",
    "saludo = \"Hola, \"\n",
    "nombre = \"Alejandro\"\n",
    "\n",
    "print(saludo + nombre)"
   ]
  },
  {
   "cell_type": "code",
   "execution_count": 41,
   "id": "4e21dfb9-222c-466a-8485-e07b4b821445",
   "metadata": {
    "tags": []
   },
   "outputs": [
    {
     "name": "stdout",
     "output_type": "stream",
     "text": [
      "Hola, Hola, Hola, Hola, Hola, Hola, Hola, Hola, Hola, Hola, \n"
     ]
    }
   ],
   "source": [
    "# Producto o repetición\n",
    "saludo = \"Hola, \"\n",
    "print(saludo*10)"
   ]
  },
  {
   "cell_type": "code",
   "execution_count": 42,
   "id": "6083e858-42a1-42e9-b338-d3a45e271d38",
   "metadata": {
    "tags": []
   },
   "outputs": [
    {
     "name": "stdout",
     "output_type": "stream",
     "text": [
      "HolaHolaHolaHolaHolaHolaHolaHolaHolaHola\n"
     ]
    }
   ],
   "source": [
    "saludo = \"Hola\"\n",
    "print(saludo*10)"
   ]
  },
  {
   "cell_type": "code",
   "execution_count": 43,
   "id": "82342e8a-6345-4239-bb54-637122a5431e",
   "metadata": {
    "tags": []
   },
   "outputs": [
    {
     "name": "stdout",
     "output_type": "stream",
     "text": [
      "\n",
      "Hola\n",
      "Hola\n",
      "Hola\n",
      "Hola\n",
      "Hola\n",
      "Hola\n",
      "Hola\n",
      "Hola\n",
      "Hola\n",
      "Hola\n"
     ]
    }
   ],
   "source": [
    "print((\"\\n\"+saludo)*10) # Esta es la menos eficiente"
   ]
  },
  {
   "cell_type": "code",
   "execution_count": 44,
   "id": "9edc9752-89aa-4ec4-b373-7fae9365ee56",
   "metadata": {
    "tags": []
   },
   "outputs": [
    {
     "name": "stdout",
     "output_type": "stream",
     "text": [
      "Hola\n",
      "Hola\n",
      "Hola\n",
      "Hola\n",
      "Hola\n",
      "Hola\n",
      "Hola\n",
      "Hola\n",
      "Hola\n",
      "Hola\n",
      "\n"
     ]
    }
   ],
   "source": [
    "saludo = \"Hola\\n\"\n",
    "print(saludo*10) # Esta es la más eficiente"
   ]
  },
  {
   "cell_type": "markdown",
   "id": "53ccdc24-24b7-4661-8253-8de0ec3aee11",
   "metadata": {},
   "source": [
    "## Operadores lógicos"
   ]
  },
  {
   "cell_type": "code",
   "execution_count": 48,
   "id": "9e246ac4-9e31-454c-ae20-871fc16cf199",
   "metadata": {
    "tags": []
   },
   "outputs": [
    {
     "data": {
      "text/plain": [
       "True"
      ]
     },
     "execution_count": 48,
     "metadata": {},
     "output_type": "execute_result"
    }
   ],
   "source": [
    "# Igualdad\n",
    "\"a\" == \"a\""
   ]
  },
  {
   "cell_type": "code",
   "execution_count": 49,
   "id": "65065c16-d5a5-4e47-8ab4-de99f20455f9",
   "metadata": {
    "tags": []
   },
   "outputs": [
    {
     "data": {
      "text/plain": [
       "True"
      ]
     },
     "execution_count": 49,
     "metadata": {},
     "output_type": "execute_result"
    }
   ],
   "source": [
    "\"a\" != \"b\""
   ]
  },
  {
   "cell_type": "code",
   "execution_count": 52,
   "id": "2efd65dc-3f1e-4aeb-b5a2-b02bc341cb22",
   "metadata": {
    "tags": []
   },
   "outputs": [
    {
     "data": {
      "text/plain": [
       "False"
      ]
     },
     "execution_count": 52,
     "metadata": {},
     "output_type": "execute_result"
    }
   ],
   "source": [
    "\"Hola mundo\" == \"hola Mundo\""
   ]
  },
  {
   "cell_type": "markdown",
   "id": "39b15fec",
   "metadata": {},
   "source": [
    "## Métodos asociados a los objetos de texto (cadenas de texto)\n",
    "\n",
    "- Métodos: son como funciones y por tanto necesitan los paréntesis al final del nombre del método y, de ser necesarios, argumentos requeridos\n",
    "```python\n",
    "objeto.nombre_del_metodo(arg1, arg2, arg3)\n",
    "```\n",
    "\n",
    "- Atributos: son variables u otros objetos internos al objeto principal y no necesitan paréntesis\n",
    "```python\n",
    "objeto.atributo\n",
    "```"
   ]
  },
  {
   "cell_type": "code",
   "execution_count": 2,
   "id": "cf1a20e0",
   "metadata": {
    "scrolled": false
   },
   "outputs": [
    {
     "data": {
      "text/plain": [
       "'Hola, mundo'"
      ]
     },
     "execution_count": 2,
     "metadata": {},
     "output_type": "execute_result"
    }
   ],
   "source": [
    "# Para acceder a los métodos y atributos de los objeto se usa el .\n",
    "\"Hola, mundo\". # TAB para acceder a los métodos y atributos"
   ]
  },
  {
   "cell_type": "code",
   "execution_count": 3,
   "id": "84f4959f",
   "metadata": {},
   "outputs": [],
   "source": [
    "# Método upper(), regresa todo en mayúsculas\n",
    "# RECORDAR: para saber qué hace o cómo se usa un método se utilizan los signos ??\n",
    "variable = \"Hola, mundo\"\n",
    "variable.upper??"
   ]
  },
  {
   "cell_type": "code",
   "execution_count": 4,
   "id": "31cb7e9a",
   "metadata": {},
   "outputs": [
    {
     "data": {
      "text/plain": [
       "'HOLA, MUNDO'"
      ]
     },
     "execution_count": 4,
     "metadata": {},
     "output_type": "execute_result"
    }
   ],
   "source": [
    "variable.upper()"
   ]
  },
  {
   "cell_type": "code",
   "execution_count": 5,
   "id": "8ef437b2",
   "metadata": {},
   "outputs": [
    {
     "data": {
      "text/plain": [
       "'hola, mundo'"
      ]
     },
     "execution_count": 5,
     "metadata": {},
     "output_type": "execute_result"
    }
   ],
   "source": [
    "# Método lower(), regresa todo en mínusculas\n",
    "variable.lower()"
   ]
  },
  {
   "cell_type": "code",
   "execution_count": 7,
   "id": "cc7ed46c",
   "metadata": {},
   "outputs": [
    {
     "data": {
      "text/plain": [
       "'Hola, mundo'"
      ]
     },
     "execution_count": 7,
     "metadata": {},
     "output_type": "execute_result"
    }
   ],
   "source": [
    "# Método capitalize, regresa sólo la primera en mayúscula\n",
    "variable.lower().capitalize()"
   ]
  },
  {
   "cell_type": "code",
   "execution_count": 10,
   "id": "67523b30",
   "metadata": {},
   "outputs": [
    {
     "data": {
      "text/plain": [
       "'Hola, Mundo'"
      ]
     },
     "execution_count": 10,
     "metadata": {},
     "output_type": "execute_result"
    }
   ],
   "source": [
    "# Método title, regresa las primeras en mayúscula\n",
    "variable.title()"
   ]
  },
  {
   "cell_type": "code",
   "execution_count": 11,
   "id": "84aa34ad",
   "metadata": {},
   "outputs": [
    {
     "ename": "TypeError",
     "evalue": "str.upper() takes no arguments (1 given)",
     "output_type": "error",
     "traceback": [
      "\u001b[0;31m---------------------------------------------------------------------------\u001b[0m",
      "\u001b[0;31mTypeError\u001b[0m                                 Traceback (most recent call last)",
      "Cell \u001b[0;32mIn[11], line 2\u001b[0m\n\u001b[1;32m      1\u001b[0m \u001b[38;5;66;03m# Ingresar argumento cuando no lo necesita\u001b[39;00m\n\u001b[0;32m----> 2\u001b[0m \u001b[43mvariable\u001b[49m\u001b[38;5;241;43m.\u001b[39;49m\u001b[43mupper\u001b[49m\u001b[43m(\u001b[49m\u001b[38;5;124;43m\"\u001b[39;49m\u001b[38;5;124;43m1\u001b[39;49m\u001b[38;5;124;43m\"\u001b[39;49m\u001b[43m)\u001b[49m\n",
      "\u001b[0;31mTypeError\u001b[0m: str.upper() takes no arguments (1 given)"
     ]
    }
   ],
   "source": [
    "# Ingresar argumento cuando no lo necesita\n",
    "variable.upper(\"1\")"
   ]
  },
  {
   "cell_type": "code",
   "execution_count": 14,
   "id": "02dee6d4",
   "metadata": {},
   "outputs": [
    {
     "data": {
      "text/plain": [
       "['Hola,', 'mundo']"
      ]
     },
     "execution_count": 14,
     "metadata": {},
     "output_type": "execute_result"
    }
   ],
   "source": [
    "# Método split(), recibe hasta dos argumentos, pero ya tiene valores pre-definidos\n",
    "variable.split() # Sin argumentos, te separa por palabras usando como separador el espacio"
   ]
  },
  {
   "cell_type": "code",
   "execution_count": 17,
   "id": "fe660c90",
   "metadata": {},
   "outputs": [
    {
     "data": {
      "text/plain": [
       "['', 'Users', 'astrid', 'Documentos', 'Carpeta', 'Archivos', 'archivo.py']"
      ]
     },
     "execution_count": 17,
     "metadata": {},
     "output_type": "execute_result"
    }
   ],
   "source": [
    "variable_ruta_de_archivo = \"/Users/astrid/Documentos/Carpeta/Archivos/archivo.py\"\n",
    "# Si queremos únicamente el nombre del archivo\n",
    "variable_ruta_de_archivo.split(\"/\") # Regresa lista de cadenas de texto, cada una correspondiente a una carpeta o archivo de la ruta"
   ]
  },
  {
   "cell_type": "code",
   "execution_count": 24,
   "id": "254534a5",
   "metadata": {},
   "outputs": [
    {
     "data": {
      "text/plain": [
       "'archivo.py'"
      ]
     },
     "execution_count": 24,
     "metadata": {},
     "output_type": "execute_result"
    }
   ],
   "source": [
    "variable_ruta_de_archivo.split(\"/\")[-1] # Hacemos split y agarramos el último elemento"
   ]
  },
  {
   "cell_type": "code",
   "execution_count": 29,
   "id": "d53c8668",
   "metadata": {},
   "outputs": [
    {
     "data": {
      "text/plain": [
       "['', 'Users', 'astrid/Documentos/Carpeta/Archivos/archivo.py']"
      ]
     },
     "execution_count": 29,
     "metadata": {},
     "output_type": "execute_result"
    }
   ],
   "source": [
    "variable_ruta_de_archivo.split(\"/\", maxsplit=2)"
   ]
  },
  {
   "cell_type": "code",
   "execution_count": 31,
   "id": "33ebbc38",
   "metadata": {},
   "outputs": [
    {
     "ename": "TypeError",
     "evalue": "must be str or None, not int",
     "output_type": "error",
     "traceback": [
      "\u001b[0;31m---------------------------------------------------------------------------\u001b[0m",
      "\u001b[0;31mTypeError\u001b[0m                                 Traceback (most recent call last)",
      "Cell \u001b[0;32mIn[31], line 1\u001b[0m\n\u001b[0;32m----> 1\u001b[0m \u001b[43mvariable_ruta_de_archivo\u001b[49m\u001b[38;5;241;43m.\u001b[39;49m\u001b[43msplit\u001b[49m\u001b[43m(\u001b[49m\u001b[38;5;241;43m1\u001b[39;49m\u001b[43m)\u001b[49m \u001b[38;5;66;03m# Nos regresa error porque es un int y esta esperando un str\u001b[39;00m\n",
      "\u001b[0;31mTypeError\u001b[0m: must be str or None, not int"
     ]
    }
   ],
   "source": [
    "variable_ruta_de_archivo.split(1) # Nos regresa error porque es un int y esta esperando un str"
   ]
  },
  {
   "cell_type": "code",
   "execution_count": 38,
   "id": "800c3e44",
   "metadata": {},
   "outputs": [
    {
     "data": {
      "text/plain": [
       "'/Users/astrid/Dacumentas/Carpeta/Archivas/archiva.py'"
      ]
     },
     "execution_count": 38,
     "metadata": {},
     "output_type": "execute_result"
    }
   ],
   "source": [
    "# Método replace()\n",
    "variable_ruta_de_archivo.replace(\"o\",\"a\") # Los argumentos en este método, los primeros dos, son obligatorios"
   ]
  },
  {
   "cell_type": "code",
   "execution_count": 39,
   "id": "a53f6475",
   "metadata": {},
   "outputs": [],
   "source": [
    "# Método format\n",
    "variable = \"Hola, mundo\"\n",
    "variable.format??"
   ]
  },
  {
   "cell_type": "markdown",
   "id": "21afc65b",
   "metadata": {},
   "source": [
    "El método `format` recibe como argumentos `*args, **kwargs`. Esto lo que indica es que basicamente puedes mandar lo que \"quieras\", sin embargo lo que mandes debe cumplir con ciertas reglas que no son precisamente definidas por el método. En este caso, las reglas de qué argumentos mandar están definidas por los argumentos que pueda recibir la función `printf`, `std.out` y otras funciones de C/C++ para imprimir en consola.\n",
    "\n",
    "El método format sirve para poder agregar dentro de una cadena de texto el valor de alguna variable previamente declarada. \n",
    "\n",
    "```python\n",
    "numero = 3\n",
    "\n",
    "string_numero = \"La variable numero tiene como valor {}\".format(numero)\n",
    "```\n",
    "\n",
    "Utilizando corchetes podemos indicar el lugar dentro del string donde queremos agregar el valor de la variable. Podemos agregar tantos corchetemos como queramos, dependiendo de cuántas variables querramos agregar, por supuesto siguiendo un orden.\n",
    "\n",
    "```python\n",
    "numero_1 = 3\n",
    "numero_2 = 5\n",
    "\n",
    "string = \"La primer variable es {} y la segunda es {}\".format(numero_1, numero_2)\n",
    "```"
   ]
  },
  {
   "cell_type": "code",
   "execution_count": 44,
   "id": "5bd612c5",
   "metadata": {},
   "outputs": [
    {
     "data": {
      "text/plain": [
       "'La varialbe numero tiene como valor 1'"
      ]
     },
     "execution_count": 44,
     "metadata": {},
     "output_type": "execute_result"
    }
   ],
   "source": [
    "numero = 1\n",
    "\"La varialbe numero tiene como valor {}\".format(numero)"
   ]
  },
  {
   "cell_type": "code",
   "execution_count": 47,
   "id": "e51879b1",
   "metadata": {},
   "outputs": [
    {
     "data": {
      "text/plain": [
       "'La primer variable es 5 y la segunda es 35'"
      ]
     },
     "execution_count": 47,
     "metadata": {},
     "output_type": "execute_result"
    }
   ],
   "source": [
    "numero_1 = 35\n",
    "numero_2 = 5\n",
    "\n",
    "\"La primer variable es {} y la segunda es {}\".format(numero_2, numero_1)"
   ]
  },
  {
   "cell_type": "markdown",
   "id": "fa4c4d1b",
   "metadata": {},
   "source": [
    "Dentro de los corchetes se puede formatear la variable, en particular, en los caso numéricos. El formato debe ser la siguiente forma:\n",
    "\n",
    "```python\n",
    "{:.Nx}\n",
    "```\n",
    "\n",
    "donde `N` es un número entero que indicara, en caso de ser necesario, el número de decimales depués del punto y `x` es una letra minúscula que puede ser `f`, `g`, `e`, `d`, `i` dependiendo de si queremos que regrese un flotante, numero general, científico, entero, entero."
   ]
  },
  {
   "cell_type": "code",
   "execution_count": 62,
   "id": "fd074bf2",
   "metadata": {},
   "outputs": [
    {
     "data": {
      "text/plain": [
       "'Esta es la variable pero con solo 3 decimales: 3.124'"
      ]
     },
     "execution_count": 62,
     "metadata": {},
     "output_type": "execute_result"
    }
   ],
   "source": [
    "variable = 3.1238412384719238\n",
    "\"Esta es la variable pero con solo 3 decimales: {:.3f}\".format(variable) # 100% basado en C/C++"
   ]
  },
  {
   "cell_type": "markdown",
   "id": "3ceb4579",
   "metadata": {},
   "source": [
    "El estandar actual ya no considera el uso del método `format` sino que utiliza el `f\"\"`"
   ]
  },
  {
   "cell_type": "code",
   "execution_count": 63,
   "id": "f059d0a5",
   "metadata": {},
   "outputs": [
    {
     "data": {
      "text/plain": [
       "'Esta es la variable pero con solo 3 decimales 3.124'"
      ]
     },
     "execution_count": 63,
     "metadata": {},
     "output_type": "execute_result"
    }
   ],
   "source": [
    "f\"Esta es la variable pero con solo 3 decimales {variable:.3f}\" # Único de Python"
   ]
  },
  {
   "cell_type": "code",
   "execution_count": 65,
   "id": "0e1e8405",
   "metadata": {},
   "outputs": [],
   "source": [
    "# Para hacer el redondeo en la variable y dentro del programa\n",
    "variable = round(variable,3)"
   ]
  },
  {
   "cell_type": "code",
   "execution_count": 66,
   "id": "82ae139a",
   "metadata": {},
   "outputs": [
    {
     "data": {
      "text/plain": [
       "3.124"
      ]
     },
     "execution_count": 66,
     "metadata": {},
     "output_type": "execute_result"
    }
   ],
   "source": [
    "variable"
   ]
  },
  {
   "cell_type": "code",
   "execution_count": 69,
   "id": "1eb29acd",
   "metadata": {},
   "outputs": [
    {
     "data": {
      "text/plain": [
       "'Este es el texto en mayúsculas: TEXTO EN MAYUSCULAS'"
      ]
     },
     "execution_count": 69,
     "metadata": {},
     "output_type": "execute_result"
    }
   ],
   "source": [
    "texto_a_imprimir = \"texto en mayusculas\"\n",
    "\"Este es el texto en mayúsculas: {}\".format(texto_a_imprimir.upper())"
   ]
  },
  {
   "cell_type": "code",
   "execution_count": null,
   "id": "b582b786",
   "metadata": {},
   "outputs": [],
   "source": []
  }
 ],
 "metadata": {
  "kernelspec": {
   "display_name": "Python 3 (ipykernel)",
   "language": "python",
   "name": "python3"
  },
  "language_info": {
   "codemirror_mode": {
    "name": "ipython",
    "version": 3
   },
   "file_extension": ".py",
   "mimetype": "text/x-python",
   "name": "python",
   "nbconvert_exporter": "python",
   "pygments_lexer": "ipython3",
   "version": "3.10.6"
  }
 },
 "nbformat": 4,
 "nbformat_minor": 5
}
