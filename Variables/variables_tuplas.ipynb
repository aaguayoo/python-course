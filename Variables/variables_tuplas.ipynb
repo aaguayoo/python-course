{
 "cells": [
  {
   "cell_type": "markdown",
   "id": "bd1d67f3-4e64-4796-8cf6-9bb1d29d8bbe",
   "metadata": {},
   "source": [
    "# Variables - Tuplas"
   ]
  },
  {
   "cell_type": "markdown",
   "id": "e8ecd8a9-b910-4477-a205-29276425b59f",
   "metadata": {},
   "source": [
    "Las tuplas son parte de los objeto capaces de alacenar coleccions de objetos, al igual que las cadenas de texto, listas o diccionarios. Tienen la característica de ser **inmutables**."
   ]
  },
  {
   "cell_type": "markdown",
   "id": "9f752aee-f92f-45e9-899b-679d9718b876",
   "metadata": {},
   "source": [
    "## Declaración de tuplas\n",
    "Las tuplas son declaradas de la siguiente forma:\n",
    "```python\n",
    "tupla_1 = (objeto_1, objeto_2, objeto_3, ..., objeto_N)\n",
    "```"
   ]
  },
  {
   "cell_type": "code",
   "execution_count": 1,
   "id": "07bb12a2-2b65-464f-8af1-487d1d44000f",
   "metadata": {
    "tags": []
   },
   "outputs": [],
   "source": [
    "# Ejemplo\n",
    "tupla = (1, 2, 3, 4)"
   ]
  },
  {
   "cell_type": "code",
   "execution_count": 6,
   "id": "d364ff84-672d-490f-b42b-936faff58219",
   "metadata": {
    "tags": []
   },
   "outputs": [
    {
     "data": {
      "text/plain": [
       "1"
      ]
     },
     "execution_count": 6,
     "metadata": {},
     "output_type": "execute_result"
    }
   ],
   "source": [
    "# Veamos que es inmutable\n",
    "tupla[0] # La manera en que se acceden a los datos es igual que con una lista, con índices"
   ]
  },
  {
   "cell_type": "code",
   "execution_count": 7,
   "id": "8c9b5685-8853-4716-8444-e175e35e6047",
   "metadata": {
    "tags": []
   },
   "outputs": [
    {
     "ename": "TypeError",
     "evalue": "'tuple' object does not support item assignment",
     "output_type": "error",
     "traceback": [
      "\u001b[0;31m---------------------------------------------------------------------------\u001b[0m",
      "\u001b[0;31mTypeError\u001b[0m                                 Traceback (most recent call last)",
      "Cell \u001b[0;32mIn[7], line 1\u001b[0m\n\u001b[0;32m----> 1\u001b[0m \u001b[43mtupla\u001b[49m\u001b[43m[\u001b[49m\u001b[38;5;241;43m0\u001b[39;49m\u001b[43m]\u001b[49m \u001b[38;5;241m=\u001b[39m \u001b[38;5;241m1234\u001b[39m\n",
      "\u001b[0;31mTypeError\u001b[0m: 'tuple' object does not support item assignment"
     ]
    }
   ],
   "source": [
    "tupla[0] = 1234"
   ]
  },
  {
   "cell_type": "markdown",
   "id": "28b51439-0608-4f04-951b-50e60e232563",
   "metadata": {},
   "source": [
    "Fuera de esta inmutabilidad, la manera de acceder a sus elementos, subconjuntos de los mismos y orden, es identico que con una lista o cadena de texto."
   ]
  },
  {
   "cell_type": "markdown",
   "id": "4160a185-7a8e-42cf-bd47-d06e5c23b158",
   "metadata": {},
   "source": [
    "## Métodos de una tupla"
   ]
  },
  {
   "cell_type": "code",
   "execution_count": 9,
   "id": "7cd3ff73-5119-4e9b-afc8-17f0ed842962",
   "metadata": {
    "tags": []
   },
   "outputs": [],
   "source": [
    "tupla = (1, 2, 3, 4, 4, 4, 2, 4, 5, 3, 4, 2, 1)"
   ]
  },
  {
   "cell_type": "code",
   "execution_count": 10,
   "id": "ae8f6d19-312a-4170-933a-ece9eec8b140",
   "metadata": {
    "tags": []
   },
   "outputs": [
    {
     "data": {
      "text/plain": [
       "5"
      ]
     },
     "execution_count": 10,
     "metadata": {},
     "output_type": "execute_result"
    }
   ],
   "source": [
    "# Count para contar número de repeticiones un elemento\n",
    "tupla.count(4)"
   ]
  },
  {
   "cell_type": "code",
   "execution_count": 14,
   "id": "57fa7c57-8c69-4ed3-9c86-b74a5134f2e4",
   "metadata": {
    "tags": []
   },
   "outputs": [
    {
     "data": {
      "text/plain": [
       "1"
      ]
     },
     "execution_count": 14,
     "metadata": {},
     "output_type": "execute_result"
    }
   ],
   "source": [
    "# Regresa el índice de la primera aparición\n",
    "tupla.index(2)"
   ]
  },
  {
   "cell_type": "code",
   "execution_count": null,
   "id": "e20e10e1-6ceb-4b65-a1ca-76909c158a82",
   "metadata": {},
   "outputs": [],
   "source": []
  }
 ],
 "metadata": {
  "kernelspec": {
   "display_name": "Python 3 (ipykernel)",
   "language": "python",
   "name": "python3"
  },
  "language_info": {
   "codemirror_mode": {
    "name": "ipython",
    "version": 3
   },
   "file_extension": ".py",
   "mimetype": "text/x-python",
   "name": "python",
   "nbconvert_exporter": "python",
   "pygments_lexer": "ipython3",
   "version": "3.10.6"
  }
 },
 "nbformat": 4,
 "nbformat_minor": 5
}
