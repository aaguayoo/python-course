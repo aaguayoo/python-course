{
 "cells": [
  {
   "cell_type": "markdown",
   "id": "bd1d67f3-4e64-4796-8cf6-9bb1d29d8bbe",
   "metadata": {},
   "source": [
    "# Variables - Tuplas"
   ]
  },
  {
   "cell_type": "markdown",
   "id": "e8ecd8a9-b910-4477-a205-29276425b59f",
   "metadata": {},
   "source": [
    "Las tuplas son parte de los objeto capaces de alacenar coleccions de objetos, al igual que las cadenas de texto, listas o diccionarios. Tienen la característica de ser **inmutables**."
   ]
  },
  {
   "cell_type": "markdown",
   "id": "9f752aee-f92f-45e9-899b-679d9718b876",
   "metadata": {},
   "source": [
    "## Declaración de tuplas\n",
    "Las tuplas son declaradas de la siguiente forma:\n",
    "```python\n",
    "tupla_1 = (objeto_1, objeto_2, objeto_3, ..., objeto_N)\n",
    "```"
   ]
  },
  {
   "cell_type": "code",
   "execution_count": 1,
   "id": "07bb12a2-2b65-464f-8af1-487d1d44000f",
   "metadata": {
    "tags": []
   },
   "outputs": [],
   "source": [
    "# Ejemplo\n",
    "tupla = (1, 2, 3, 4)"
   ]
  },
  {
   "cell_type": "code",
   "execution_count": 6,
   "id": "d364ff84-672d-490f-b42b-936faff58219",
   "metadata": {
    "tags": []
   },
   "outputs": [
    {
     "data": {
      "text/plain": [
       "1"
      ]
     },
     "execution_count": 6,
     "metadata": {},
     "output_type": "execute_result"
    }
   ],
   "source": [
    "# Veamos que es inmutable\n",
    "tupla[0] # La manera en que se acceden a los datos es igual que con una lista, con índices"
   ]
  },
  {
   "cell_type": "code",
   "execution_count": 7,
   "id": "8c9b5685-8853-4716-8444-e175e35e6047",
   "metadata": {
    "tags": []
   },
   "outputs": [
    {
     "ename": "TypeError",
     "evalue": "'tuple' object does not support item assignment",
     "output_type": "error",
     "traceback": [
      "\u001b[0;31m---------------------------------------------------------------------------\u001b[0m",
      "\u001b[0;31mTypeError\u001b[0m                                 Traceback (most recent call last)",
      "Cell \u001b[0;32mIn[7], line 1\u001b[0m\n\u001b[0;32m----> 1\u001b[0m \u001b[43mtupla\u001b[49m\u001b[43m[\u001b[49m\u001b[38;5;241;43m0\u001b[39;49m\u001b[43m]\u001b[49m \u001b[38;5;241m=\u001b[39m \u001b[38;5;241m1234\u001b[39m\n",
      "\u001b[0;31mTypeError\u001b[0m: 'tuple' object does not support item assignment"
     ]
    }
   ],
   "source": [
    "tupla[0] = 1234"
   ]
  },
  {
   "cell_type": "markdown",
   "id": "28b51439-0608-4f04-951b-50e60e232563",
   "metadata": {},
   "source": [
    "Fuera de esta inmutabilidad, la manera de acceder a sus elementos, subconjuntos de los mismos y orden, es identico que con una lista o cadena de texto."
   ]
  },
  {
   "cell_type": "markdown",
   "id": "4160a185-7a8e-42cf-bd47-d06e5c23b158",
   "metadata": {},
   "source": [
    "## Métodos de una tupla"
   ]
  },
  {
   "cell_type": "code",
   "execution_count": 9,
   "id": "7cd3ff73-5119-4e9b-afc8-17f0ed842962",
   "metadata": {
    "tags": []
   },
   "outputs": [],
   "source": [
    "tupla = (1, 2, 3, 4, 4, 4, 2, 4, 5, 3, 4, 2, 1)"
   ]
  },
  {
   "cell_type": "code",
   "execution_count": 10,
   "id": "ae8f6d19-312a-4170-933a-ece9eec8b140",
   "metadata": {
    "tags": []
   },
   "outputs": [
    {
     "data": {
      "text/plain": [
       "5"
      ]
     },
     "execution_count": 10,
     "metadata": {},
     "output_type": "execute_result"
    }
   ],
   "source": [
    "# Count para contar número de repeticiones un elemento\n",
    "tupla.count(4)"
   ]
  },
  {
   "cell_type": "code",
   "execution_count": 14,
   "id": "57fa7c57-8c69-4ed3-9c86-b74a5134f2e4",
   "metadata": {
    "tags": []
   },
   "outputs": [
    {
     "data": {
      "text/plain": [
       "1"
      ]
     },
     "execution_count": 14,
     "metadata": {},
     "output_type": "execute_result"
    }
   ],
   "source": [
    "# Regresa el índice de la primera aparición\n",
    "tupla.index(2)"
   ]
  },
  {
   "cell_type": "markdown",
   "id": "440dcf4c",
   "metadata": {},
   "source": [
    "## Declarión múltiple de variables usando tuplas"
   ]
  },
  {
   "cell_type": "code",
   "execution_count": 1,
   "id": "0768e03d",
   "metadata": {},
   "outputs": [],
   "source": [
    "frutas = (\"manzana\", \"plátano\", \"cereza\") # Se define la variable frutas, como una tupla"
   ]
  },
  {
   "cell_type": "code",
   "execution_count": 2,
   "id": "3fdb67ae",
   "metadata": {},
   "outputs": [
    {
     "data": {
      "text/plain": [
       "tuple"
      ]
     },
     "execution_count": 2,
     "metadata": {},
     "output_type": "execute_result"
    }
   ],
   "source": [
    "type(frutas)"
   ]
  },
  {
   "cell_type": "code",
   "execution_count": 3,
   "id": "20b763e1",
   "metadata": {},
   "outputs": [
    {
     "data": {
      "text/plain": [
       "'plátano'"
      ]
     },
     "execution_count": 3,
     "metadata": {},
     "output_type": "execute_result"
    }
   ],
   "source": [
    "frutas[1]"
   ]
  },
  {
   "cell_type": "code",
   "execution_count": 6,
   "id": "afd8c871",
   "metadata": {},
   "outputs": [],
   "source": [
    "# Python, siempre que vea una coma, lo va a asociar con una tupla, a menos que se indique [], {}\n",
    "fruta = \"manzana\", \"platano\""
   ]
  },
  {
   "cell_type": "code",
   "execution_count": 5,
   "id": "913e2b0c",
   "metadata": {},
   "outputs": [
    {
     "data": {
      "text/plain": [
       "('manzana', 'platano')"
      ]
     },
     "execution_count": 5,
     "metadata": {},
     "output_type": "execute_result"
    }
   ],
   "source": [
    "fruta"
   ]
  },
  {
   "cell_type": "code",
   "execution_count": 8,
   "id": "690d38ab",
   "metadata": {},
   "outputs": [
    {
     "data": {
      "text/plain": [
       "(1, 2)"
      ]
     },
     "execution_count": 8,
     "metadata": {},
     "output_type": "execute_result"
    }
   ],
   "source": [
    "# Esto lo ve como una tupla\n",
    "1, 2"
   ]
  },
  {
   "cell_type": "code",
   "execution_count": 9,
   "id": "3c7996f0",
   "metadata": {},
   "outputs": [],
   "source": [
    "# También es posible definir variables múltiples usando las propiedades de tupla que acepta Python\n",
    "fruta = \"manzana\" \n",
    "verdura = \"espinaca\" \n",
    "tubérculo = \"papa\""
   ]
  },
  {
   "cell_type": "code",
   "execution_count": 10,
   "id": "785c2f94",
   "metadata": {},
   "outputs": [],
   "source": [
    "fruta, verdura, tuberculo = \"manzana\", \"espinaca\", \"papa\""
   ]
  },
  {
   "cell_type": "code",
   "execution_count": 11,
   "id": "2f773db1",
   "metadata": {},
   "outputs": [
    {
     "name": "stdout",
     "output_type": "stream",
     "text": [
      "manzana\n",
      "espinaca\n",
      "papa\n"
     ]
    }
   ],
   "source": [
    "print(fruta)\n",
    "print(verdura)\n",
    "print(tuberculo)"
   ]
  },
  {
   "cell_type": "code",
   "execution_count": 12,
   "id": "f491d072",
   "metadata": {},
   "outputs": [
    {
     "data": {
      "text/plain": [
       "('manzana', 'plátano', 'cereza')"
      ]
     },
     "execution_count": 12,
     "metadata": {},
     "output_type": "execute_result"
    }
   ],
   "source": [
    "frutas"
   ]
  },
  {
   "cell_type": "code",
   "execution_count": 13,
   "id": "79344db4",
   "metadata": {},
   "outputs": [],
   "source": [
    "green, yellow, red = frutas"
   ]
  },
  {
   "cell_type": "code",
   "execution_count": 14,
   "id": "f307d0e1",
   "metadata": {},
   "outputs": [
    {
     "name": "stdout",
     "output_type": "stream",
     "text": [
      "manzana\n"
     ]
    }
   ],
   "source": [
    "print(green)"
   ]
  },
  {
   "cell_type": "code",
   "execution_count": 15,
   "id": "71a86c0f",
   "metadata": {},
   "outputs": [
    {
     "name": "stdout",
     "output_type": "stream",
     "text": [
      "plátano\n"
     ]
    }
   ],
   "source": [
    "print(yellow)"
   ]
  },
  {
   "cell_type": "code",
   "execution_count": 16,
   "id": "a522fe25",
   "metadata": {},
   "outputs": [
    {
     "name": "stdout",
     "output_type": "stream",
     "text": [
      "cereza\n"
     ]
    }
   ],
   "source": [
    "print(red)"
   ]
  },
  {
   "cell_type": "code",
   "execution_count": 17,
   "id": "0fa0a89a",
   "metadata": {},
   "outputs": [
    {
     "ename": "ValueError",
     "evalue": "not enough values to unpack (expected 4, got 3)",
     "output_type": "error",
     "traceback": [
      "\u001b[0;31m---------------------------------------------------------------------------\u001b[0m",
      "\u001b[0;31mValueError\u001b[0m                                Traceback (most recent call last)",
      "Cell \u001b[0;32mIn[17], line 1\u001b[0m\n\u001b[0;32m----> 1\u001b[0m green, yellow, red, purple \u001b[38;5;241m=\u001b[39m frutas\n",
      "\u001b[0;31mValueError\u001b[0m: not enough values to unpack (expected 4, got 3)"
     ]
    }
   ],
   "source": [
    "# Si ponemos una variable más a asigna, de las que contiene nuestra tupla, saldrá error\n",
    "green, yellow, red, purple = frutas"
   ]
  },
  {
   "cell_type": "code",
   "execution_count": 19,
   "id": "60ea4258",
   "metadata": {},
   "outputs": [
    {
     "ename": "ValueError",
     "evalue": "too many values to unpack (expected 2)",
     "output_type": "error",
     "traceback": [
      "\u001b[0;31m---------------------------------------------------------------------------\u001b[0m",
      "\u001b[0;31mValueError\u001b[0m                                Traceback (most recent call last)",
      "Cell \u001b[0;32mIn[19], line 2\u001b[0m\n\u001b[1;32m      1\u001b[0m \u001b[38;5;66;03m# Aquí tiene menos valores de los que tiene la tupla\u001b[39;00m\n\u001b[0;32m----> 2\u001b[0m green, yellow \u001b[38;5;241m=\u001b[39m frutas\n",
      "\u001b[0;31mValueError\u001b[0m: too many values to unpack (expected 2)"
     ]
    }
   ],
   "source": [
    "# Aquí tiene menos valores de los que tiene la tupla\n",
    "green, yellow = frutas"
   ]
  },
  {
   "cell_type": "code",
   "execution_count": 21,
   "id": "c90c9433",
   "metadata": {},
   "outputs": [],
   "source": [
    "frutas = (1,2,(3,4))\n",
    "a, b, c = frutas"
   ]
  },
  {
   "cell_type": "code",
   "execution_count": 22,
   "id": "375ddb55",
   "metadata": {},
   "outputs": [
    {
     "data": {
      "text/plain": [
       "(1, 2, (3, 4))"
      ]
     },
     "execution_count": 22,
     "metadata": {},
     "output_type": "execute_result"
    }
   ],
   "source": [
    "a, b, c"
   ]
  },
  {
   "cell_type": "markdown",
   "id": "f80dbcf0",
   "metadata": {},
   "source": [
    "## Intercambio de valores entre variables"
   ]
  },
  {
   "cell_type": "code",
   "execution_count": 28,
   "id": "b40e862c",
   "metadata": {},
   "outputs": [],
   "source": [
    "a = \"a\""
   ]
  },
  {
   "cell_type": "code",
   "execution_count": 29,
   "id": "e458ab7b",
   "metadata": {},
   "outputs": [],
   "source": [
    "b = \"b\""
   ]
  },
  {
   "cell_type": "code",
   "execution_count": 30,
   "id": "1793113e",
   "metadata": {},
   "outputs": [],
   "source": [
    "temp = a\n",
    "a = b\n",
    "b = temp"
   ]
  },
  {
   "cell_type": "code",
   "execution_count": 31,
   "id": "2fbbcbdb",
   "metadata": {},
   "outputs": [
    {
     "data": {
      "text/plain": [
       "('b', 'a')"
      ]
     },
     "execution_count": 31,
     "metadata": {},
     "output_type": "execute_result"
    }
   ],
   "source": [
    "a, b"
   ]
  },
  {
   "cell_type": "code",
   "execution_count": 32,
   "id": "58e29972",
   "metadata": {},
   "outputs": [],
   "source": [
    "a=\"a\"\n",
    "b=\"b\""
   ]
  },
  {
   "cell_type": "code",
   "execution_count": 36,
   "id": "2f10654d",
   "metadata": {},
   "outputs": [],
   "source": [
    "# con esto se hace el swap de las variables\n",
    "a, b = b, a"
   ]
  },
  {
   "cell_type": "code",
   "execution_count": 37,
   "id": "4f326275",
   "metadata": {},
   "outputs": [
    {
     "data": {
      "text/plain": [
       "('b', 'a')"
      ]
     },
     "execution_count": 37,
     "metadata": {},
     "output_type": "execute_result"
    }
   ],
   "source": [
    "a,b "
   ]
  },
  {
   "cell_type": "markdown",
   "id": "d5b02ce6",
   "metadata": {},
   "source": [
    "### Ejemplo"
   ]
  },
  {
   "cell_type": "code",
   "execution_count": 38,
   "id": "17942cfc",
   "metadata": {},
   "outputs": [],
   "source": [
    "carro = \"Fiat\"\n",
    "moto = \"Ducati\""
   ]
  },
  {
   "cell_type": "code",
   "execution_count": 39,
   "id": "35445770",
   "metadata": {},
   "outputs": [],
   "source": [
    "carro, moto = moto, carro"
   ]
  },
  {
   "cell_type": "code",
   "execution_count": 40,
   "id": "dfe3e002",
   "metadata": {},
   "outputs": [
    {
     "data": {
      "text/plain": [
       "'Ducati'"
      ]
     },
     "execution_count": 40,
     "metadata": {},
     "output_type": "execute_result"
    }
   ],
   "source": [
    "carro"
   ]
  },
  {
   "cell_type": "code",
   "execution_count": 41,
   "id": "b81970cc",
   "metadata": {},
   "outputs": [
    {
     "data": {
      "text/plain": [
       "'Fiat'"
      ]
     },
     "execution_count": 41,
     "metadata": {},
     "output_type": "execute_result"
    }
   ],
   "source": [
    "moto"
   ]
  },
  {
   "cell_type": "markdown",
   "id": "6e413824",
   "metadata": {},
   "source": [
    "## Tupla como puntero"
   ]
  },
  {
   "cell_type": "markdown",
   "id": "1ad337c4",
   "metadata": {},
   "source": [
    "En programación, en particular, en programación basada en lenguaje C/C++, existe un tipo de variable conocida como _puntero_ el cual basicamente es una variable que, como su nombre lo indica, apunta hacia otra variable. Normalmente se utiliza para utilizar una sola variable que apunte hacia un array, lista, o conjunto de bits asignados dentro de la memoria RAM.\n",
    "\n",
    "```c\n",
    "int *puntero;\n",
    "```\n",
    "\n",
    "Se está asignando con la variable `*puntero` la dirección donde se va a guardar una lista (o array) de tamaño desconocido de puros valores enteros.\n",
    "\n",
    "Python por su parte hereda el hecho de que el `*` permite señal que no se sabe con precisión el número de elementos que va a tener dicha variable."
   ]
  },
  {
   "cell_type": "code",
   "execution_count": 47,
   "id": "f6cd702d",
   "metadata": {},
   "outputs": [],
   "source": [
    "# Ejemplo\n",
    "frutas = (\"manzana\", \"mango\", \"papaya\", \"plátano\", \"piña\", \"cereza\")\n",
    "green, *yellow , red = frutas "
   ]
  },
  {
   "cell_type": "code",
   "execution_count": 48,
   "id": "fe4790ed",
   "metadata": {},
   "outputs": [
    {
     "data": {
      "text/plain": [
       "'manzana'"
      ]
     },
     "execution_count": 48,
     "metadata": {},
     "output_type": "execute_result"
    }
   ],
   "source": [
    "green"
   ]
  },
  {
   "cell_type": "code",
   "execution_count": 49,
   "id": "cced0c21",
   "metadata": {},
   "outputs": [
    {
     "data": {
      "text/plain": [
       "'cereza'"
      ]
     },
     "execution_count": 49,
     "metadata": {},
     "output_type": "execute_result"
    }
   ],
   "source": [
    "red"
   ]
  },
  {
   "cell_type": "code",
   "execution_count": 50,
   "id": "866ca8cb",
   "metadata": {},
   "outputs": [
    {
     "data": {
      "text/plain": [
       "['mango', 'papaya', 'plátano', 'piña']"
      ]
     },
     "execution_count": 50,
     "metadata": {},
     "output_type": "execute_result"
    }
   ],
   "source": [
    "yellow # Lo regresa como lista"
   ]
  },
  {
   "cell_type": "code",
   "execution_count": 51,
   "id": "a0b671f8",
   "metadata": {},
   "outputs": [],
   "source": [
    "# Adelantandonos un poco a funciones\n",
    "def sumadora(*sumandos):\n",
    "    return sum(sumandos)"
   ]
  },
  {
   "cell_type": "markdown",
   "id": "37d9c87e",
   "metadata": {},
   "source": [
    "La función pre-definida `sum` es una función de Python que recibe cualquier arreglo de enteros o flotantes, y regresa su sumatoria."
   ]
  },
  {
   "cell_type": "code",
   "execution_count": null,
   "id": "d9482999",
   "metadata": {},
   "outputs": [],
   "source": []
  },
  {
   "cell_type": "code",
   "execution_count": 54,
   "id": "49f44826",
   "metadata": {},
   "outputs": [
    {
     "data": {
      "text/plain": [
       "116"
      ]
     },
     "execution_count": 54,
     "metadata": {},
     "output_type": "execute_result"
    }
   ],
   "source": [
    "sumadora(1,2,1,2,3,4,51,2,35,12,3)"
   ]
  },
  {
   "cell_type": "code",
   "execution_count": 55,
   "id": "f607a923",
   "metadata": {},
   "outputs": [],
   "source": [
    "def sumador(sumando_1, sumando_2):\n",
    "    return sumando_1 + sumando_2"
   ]
  },
  {
   "cell_type": "code",
   "execution_count": 58,
   "id": "a163815d",
   "metadata": {},
   "outputs": [
    {
     "ename": "TypeError",
     "evalue": "sumador() takes 2 positional arguments but 3 were given",
     "output_type": "error",
     "traceback": [
      "\u001b[0;31m---------------------------------------------------------------------------\u001b[0m",
      "\u001b[0;31mTypeError\u001b[0m                                 Traceback (most recent call last)",
      "Cell \u001b[0;32mIn[58], line 1\u001b[0m\n\u001b[0;32m----> 1\u001b[0m \u001b[43msumador\u001b[49m\u001b[43m(\u001b[49m\u001b[38;5;241;43m1\u001b[39;49m\u001b[43m,\u001b[49m\u001b[38;5;241;43m2\u001b[39;49m\u001b[43m,\u001b[49m\u001b[38;5;241;43m3\u001b[39;49m\u001b[43m)\u001b[49m\n",
      "\u001b[0;31mTypeError\u001b[0m: sumador() takes 2 positional arguments but 3 were given"
     ]
    }
   ],
   "source": [
    "sumador(1,2,3)"
   ]
  },
  {
   "cell_type": "code",
   "execution_count": null,
   "id": "c8255d90",
   "metadata": {},
   "outputs": [],
   "source": []
  }
 ],
 "metadata": {
  "kernelspec": {
   "display_name": "Python 3 (ipykernel)",
   "language": "python",
   "name": "python3"
  },
  "language_info": {
   "codemirror_mode": {
    "name": "ipython",
    "version": 3
   },
   "file_extension": ".py",
   "mimetype": "text/x-python",
   "name": "python",
   "nbconvert_exporter": "python",
   "pygments_lexer": "ipython3",
   "version": "3.10.6"
  }
 },
 "nbformat": 4,
 "nbformat_minor": 5
}
