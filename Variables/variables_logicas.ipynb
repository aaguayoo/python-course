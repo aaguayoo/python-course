{
 "cells": [
  {
   "cell_type": "markdown",
   "id": "6a07cc04-58cc-4a1b-adaf-05c70235242d",
   "metadata": {},
   "source": [
    "# Variables lógicas\n",
    "\n",
    "Las variables lógicas se refieren a las variables binarias Verdadero (`True`) y False (`False`)"
   ]
  },
  {
   "cell_type": "code",
   "execution_count": 3,
   "id": "a036ccba-d187-4cb6-9758-079523f80f73",
   "metadata": {
    "tags": []
   },
   "outputs": [
    {
     "data": {
      "text/plain": [
       "True"
      ]
     },
     "execution_count": 3,
     "metadata": {},
     "output_type": "execute_result"
    }
   ],
   "source": [
    "True"
   ]
  },
  {
   "cell_type": "code",
   "execution_count": 4,
   "id": "7ca6dabb-ec5e-4508-942f-4f7b1a8b7548",
   "metadata": {
    "tags": []
   },
   "outputs": [
    {
     "data": {
      "text/plain": [
       "False"
      ]
     },
     "execution_count": 4,
     "metadata": {},
     "output_type": "execute_result"
    }
   ],
   "source": [
    "False"
   ]
  },
  {
   "cell_type": "markdown",
   "id": "2d1ee8ee-27e3-4bde-9e32-f46d2dfaf78a",
   "metadata": {},
   "source": [
    "## Operadores de comparación\n",
    "\n",
    "Adicionalmente, es posible obtener uan respuesta lógica a través de alguna comparación entre variables de otro tipo (como númericas o cadenas de texto)\n",
    "\n",
    "| Nombre | Operador | Tipo |\n",
    "| ------ | -------- | ---- |\n",
    "| Y (AND)|    and     | Conjunción |\n",
    "| O (OR) |    or     | Conjunción |\n",
    "| Mayor que (GT) | > | Operador |\n",
    "| Menor que (LT) | < | Operador |\n",
    "| Mayor igual (GE) | >= | Operador |\n",
    "| Menor igual (LE) | <= | Operador |\n",
    "| Igual (EQ) | == | Operador |\n",
    "| Distinto (NE) | != | Operador |"
   ]
  },
  {
   "cell_type": "markdown",
   "id": "a03bb44d-3109-45ba-a788-d7263d4ee86b",
   "metadata": {},
   "source": [
    "### Uso de operadores con variables numéricas"
   ]
  },
  {
   "cell_type": "code",
   "execution_count": 5,
   "id": "1b5b7ab0-a3aa-41b9-8217-034250396c2b",
   "metadata": {
    "tags": []
   },
   "outputs": [
    {
     "data": {
      "text/plain": [
       "True"
      ]
     },
     "execution_count": 5,
     "metadata": {},
     "output_type": "execute_result"
    }
   ],
   "source": [
    "1 < 2"
   ]
  },
  {
   "cell_type": "code",
   "execution_count": 6,
   "id": "4222f5a9-4f7f-4d01-a49b-d05617089aa4",
   "metadata": {
    "tags": []
   },
   "outputs": [
    {
     "data": {
      "text/plain": [
       "False"
      ]
     },
     "execution_count": 6,
     "metadata": {},
     "output_type": "execute_result"
    }
   ],
   "source": [
    "1 > 2"
   ]
  },
  {
   "cell_type": "code",
   "execution_count": 7,
   "id": "735d6163-0e84-4ad4-b43c-7049923d8b60",
   "metadata": {
    "tags": []
   },
   "outputs": [
    {
     "data": {
      "text/plain": [
       "True"
      ]
     },
     "execution_count": 7,
     "metadata": {},
     "output_type": "execute_result"
    }
   ],
   "source": [
    "3 == 3"
   ]
  },
  {
   "cell_type": "code",
   "execution_count": 8,
   "id": "ef85c799-4720-479a-afd4-ba865e01f872",
   "metadata": {
    "tags": []
   },
   "outputs": [
    {
     "data": {
      "text/plain": [
       "True"
      ]
     },
     "execution_count": 8,
     "metadata": {},
     "output_type": "execute_result"
    }
   ],
   "source": [
    "2 != 23"
   ]
  },
  {
   "cell_type": "code",
   "execution_count": 9,
   "id": "08580da9-2664-496b-ab75-f9d392e94b76",
   "metadata": {
    "tags": []
   },
   "outputs": [
    {
     "data": {
      "text/plain": [
       "False"
      ]
     },
     "execution_count": 9,
     "metadata": {},
     "output_type": "execute_result"
    }
   ],
   "source": [
    "5 != 5"
   ]
  },
  {
   "cell_type": "code",
   "execution_count": 10,
   "id": "428d6481-e394-4032-9359-68bc3d277d92",
   "metadata": {
    "tags": []
   },
   "outputs": [
    {
     "data": {
      "text/plain": [
       "True"
      ]
     },
     "execution_count": 10,
     "metadata": {},
     "output_type": "execute_result"
    }
   ],
   "source": [
    "5 >= -3"
   ]
  },
  {
   "cell_type": "markdown",
   "id": "bbe999f6-59d5-40d4-a4f8-7f03984be2cd",
   "metadata": {},
   "source": [
    "### Declaración de variables lógicas"
   ]
  },
  {
   "cell_type": "code",
   "execution_count": 11,
   "id": "0e956206-d5a5-497c-876f-93a8ed702053",
   "metadata": {
    "tags": []
   },
   "outputs": [],
   "source": [
    "variable_verdadera = 5 == 5"
   ]
  },
  {
   "cell_type": "code",
   "execution_count": 12,
   "id": "7a313481-5023-4c9f-b6d1-79a902dd9773",
   "metadata": {
    "tags": []
   },
   "outputs": [
    {
     "name": "stdout",
     "output_type": "stream",
     "text": [
      "True\n"
     ]
    }
   ],
   "source": [
    "print(variable_verdadera)"
   ]
  },
  {
   "cell_type": "markdown",
   "id": "eae49ec6-7c19-4e90-b669-90e09d2e91c2",
   "metadata": {},
   "source": [
    "### Uso de conjunciones"
   ]
  },
  {
   "cell_type": "code",
   "execution_count": 21,
   "id": "52bb623d-aa72-4ec2-803d-0a3c35b2b581",
   "metadata": {
    "tags": []
   },
   "outputs": [
    {
     "data": {
      "text/plain": [
       "False"
      ]
     },
     "execution_count": 21,
     "metadata": {},
     "output_type": "execute_result"
    }
   ],
   "source": [
    "1 == 1 and 1 == 2 # Esto regresa false porque una de las sentencias es falsa, para que sea True, ambas deben ser True"
   ]
  },
  {
   "cell_type": "code",
   "execution_count": 22,
   "id": "1f8c0811-8d77-4e80-8274-8487ffa59084",
   "metadata": {
    "tags": []
   },
   "outputs": [
    {
     "data": {
      "text/plain": [
       "True"
      ]
     },
     "execution_count": 22,
     "metadata": {},
     "output_type": "execute_result"
    }
   ],
   "source": [
    "1 < 2 and 3 > -1  # En este caso ambas sentencias son True"
   ]
  },
  {
   "cell_type": "code",
   "execution_count": 23,
   "id": "621acb09-8db3-4d05-b14e-dd24a72b4b00",
   "metadata": {
    "tags": []
   },
   "outputs": [
    {
     "data": {
      "text/plain": [
       "True"
      ]
     },
     "execution_count": 23,
     "metadata": {},
     "output_type": "execute_result"
    }
   ],
   "source": [
    "1 == 1 or 1 == 2 # Con que una de las sentencias se cumpla, se regresa True"
   ]
  },
  {
   "cell_type": "code",
   "execution_count": 25,
   "id": "ace45d8b-9693-4098-a3d1-f25357c5631e",
   "metadata": {
    "tags": []
   },
   "outputs": [
    {
     "data": {
      "text/plain": [
       "False"
      ]
     },
     "execution_count": 25,
     "metadata": {},
     "output_type": "execute_result"
    }
   ],
   "source": [
    "1 != 1 or 1 == 2  # Aquí ninguna se cumple"
   ]
  },
  {
   "cell_type": "markdown",
   "id": "8212dda5-98b1-4ec2-ae37-59326b25701d",
   "metadata": {},
   "source": [
    "#### Muchas conjunciones"
   ]
  },
  {
   "cell_type": "code",
   "execution_count": 27,
   "id": "bd9e4986-e4dc-4cf5-b911-ba986811b5af",
   "metadata": {
    "tags": []
   },
   "outputs": [],
   "source": [
    "variable = (1 == 2 or 1 < 5) and (1 == 1 or 7 >= 9)"
   ]
  },
  {
   "cell_type": "code",
   "execution_count": 28,
   "id": "9fc46e65-d1ed-42f2-98cd-a227c39f172b",
   "metadata": {
    "tags": []
   },
   "outputs": [
    {
     "name": "stdout",
     "output_type": "stream",
     "text": [
      "True\n"
     ]
    }
   ],
   "source": [
    "print(variable)"
   ]
  },
  {
   "cell_type": "code",
   "execution_count": null,
   "id": "2b5588bc-1cb2-4dc9-83ec-8100d5ea90fc",
   "metadata": {},
   "outputs": [],
   "source": []
  }
 ],
 "metadata": {
  "kernelspec": {
   "display_name": "Python 3 (ipykernel)",
   "language": "python",
   "name": "python3"
  },
  "language_info": {
   "codemirror_mode": {
    "name": "ipython",
    "version": 3
   },
   "file_extension": ".py",
   "mimetype": "text/x-python",
   "name": "python",
   "nbconvert_exporter": "python",
   "pygments_lexer": "ipython3",
   "version": "3.10.6"
  }
 },
 "nbformat": 4,
 "nbformat_minor": 5
}
