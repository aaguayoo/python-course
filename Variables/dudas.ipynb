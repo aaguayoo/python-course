{
 "cells": [
  {
   "cell_type": "code",
   "execution_count": 1,
   "id": "55402429-fe6a-4b1a-9059-5b0fa83da4e6",
   "metadata": {
    "tags": []
   },
   "outputs": [],
   "source": [
    "variable = \"perro\""
   ]
  },
  {
   "cell_type": "code",
   "execution_count": 5,
   "id": "8720e1c9-d397-4f7f-94e1-f8d3511e9808",
   "metadata": {
    "tags": []
   },
   "outputs": [
    {
     "data": {
      "text/plain": [
       "\u001b[0;31mDocstring:\u001b[0m\n",
       "S.count(sub[, start[, end]]) -> int\n",
       "\n",
       "Return the number of non-overlapping occurrences of substring sub in\n",
       "string S[start:end].  Optional arguments start and end are\n",
       "interpreted as in slice notation.\n",
       "\u001b[0;31mType:\u001b[0m      builtin_function_or_method"
      ]
     },
     "metadata": {},
     "output_type": "display_data"
    }
   ],
   "source": [
    "variable.count??"
   ]
  },
  {
   "cell_type": "code",
   "execution_count": 29,
   "id": "783cf991-c872-492e-81b9-5b8819fbe438",
   "metadata": {
    "tags": []
   },
   "outputs": [],
   "source": [
    "lista_caracteres = \"Esta es una oración al derecho.\""
   ]
  },
  {
   "cell_type": "code",
   "execution_count": 30,
   "id": "51792295-62d9-482c-b8ea-f5ce675882d3",
   "metadata": {
    "tags": []
   },
   "outputs": [
    {
     "data": {
      "text/plain": [
       "'s'"
      ]
     },
     "execution_count": 30,
     "metadata": {},
     "output_type": "execute_result"
    }
   ],
   "source": [
    "lista_caracteres[1] # Un caracter específico"
   ]
  },
  {
   "cell_type": "code",
   "execution_count": 31,
   "id": "6c3d71e9-801e-45b3-9a70-22e2a6d47a4b",
   "metadata": {
    "tags": []
   },
   "outputs": [],
   "source": [
    "# Dentro de los corchetes puedes acceder a distintos conjuntos de la lista, usando `:`\n",
    "# Los dos puntos te separan primero en los límites, y luego en el cada cuantos"
   ]
  },
  {
   "cell_type": "markdown",
   "id": "c531e38e-da01-4653-8519-eb8de15fe1c8",
   "metadata": {},
   "source": [
    "```python\n",
    "lista[<start>:<end>:<step>]\n",
    "```\n",
    "Regresa la lista de <start> a <end> de <step> en <step>, si tienen signo positivo.\n",
    "Si <end> tiene signo negativo se cuenta del final para el inicio. Y si <step> tiene signo negativo se voltea la lista."
   ]
  },
  {
   "cell_type": "code",
   "execution_count": 32,
   "id": "13777c10-b73b-4ce4-a4c0-e25e5e2eade3",
   "metadata": {
    "tags": []
   },
   "outputs": [
    {
     "data": {
      "text/plain": [
       "'sta es un'"
      ]
     },
     "execution_count": 32,
     "metadata": {},
     "output_type": "execute_result"
    }
   ],
   "source": [
    "lista_caracteres[1:10]"
   ]
  },
  {
   "cell_type": "code",
   "execution_count": 33,
   "id": "0035ab23-9697-4f11-b135-06f04959c912",
   "metadata": {
    "tags": []
   },
   "outputs": [
    {
     "data": {
      "text/plain": [
       "'sae n'"
      ]
     },
     "execution_count": 33,
     "metadata": {},
     "output_type": "execute_result"
    }
   ],
   "source": [
    "lista_caracteres[1:10:2]"
   ]
  },
  {
   "cell_type": "code",
   "execution_count": 34,
   "id": "228a0592-897f-4a50-b42a-5c3ce50c98b3",
   "metadata": {
    "tags": []
   },
   "outputs": [
    {
     "data": {
      "text/plain": [
       "'a es'"
      ]
     },
     "execution_count": 34,
     "metadata": {},
     "output_type": "execute_result"
    }
   ],
   "source": [
    "lista_caracteres[3:7]"
   ]
  },
  {
   "cell_type": "code",
   "execution_count": 35,
   "id": "5a2fb78b-2c24-410f-a31f-ddf590de82ab",
   "metadata": {
    "tags": []
   },
   "outputs": [
    {
     "data": {
      "text/plain": [
       "'a es una oración al derecho'"
      ]
     },
     "execution_count": 35,
     "metadata": {},
     "output_type": "execute_result"
    }
   ],
   "source": [
    "lista_caracteres[3:-1] # El -1 del lado derecho es el última"
   ]
  },
  {
   "cell_type": "code",
   "execution_count": 36,
   "id": "6ff06793-5da9-4c76-b18c-3c463dd35cb3",
   "metadata": {
    "tags": []
   },
   "outputs": [
    {
     "data": {
      "text/plain": [
       "'Esta es una oración al derec'"
      ]
     },
     "execution_count": 36,
     "metadata": {},
     "output_type": "execute_result"
    }
   ],
   "source": [
    "lista_caracteres[:-3]"
   ]
  },
  {
   "cell_type": "code",
   "execution_count": 37,
   "id": "785e84f1-485e-48f8-8c69-7949001f5680",
   "metadata": {
    "tags": []
   },
   "outputs": [
    {
     "data": {
      "text/plain": [
       "'.ohcered la nóicaro anu s'"
      ]
     },
     "execution_count": 37,
     "metadata": {},
     "output_type": "execute_result"
    }
   ],
   "source": [
    "lista_caracteres[:5:-1] # El -1 después del segundo : es voltear la lista"
   ]
  },
  {
   "cell_type": "code",
   "execution_count": 38,
   "id": "ccd23403-fe02-4ffc-af79-d9f4dc15560f",
   "metadata": {
    "tags": []
   },
   "outputs": [
    {
     "data": {
      "text/plain": [
       "'.ohcered la nóicaro anu se atsE'"
      ]
     },
     "execution_count": 38,
     "metadata": {},
     "output_type": "execute_result"
    }
   ],
   "source": [
    "lista_caracteres[::-1]"
   ]
  },
  {
   "cell_type": "code",
   "execution_count": 39,
   "id": "bca97b46-40c5-47a0-9f95-215dbb43ee5b",
   "metadata": {
    "tags": []
   },
   "outputs": [
    {
     "data": {
      "text/plain": [
       "'Esta es una oración al derecho.'"
      ]
     },
     "execution_count": 39,
     "metadata": {},
     "output_type": "execute_result"
    }
   ],
   "source": [
    "lista_caracteres[::1]"
   ]
  },
  {
   "cell_type": "markdown",
   "id": "3d76ff7b",
   "metadata": {},
   "source": [
    "## Salto de línea y caracteres especiales"
   ]
  },
  {
   "cell_type": "code",
   "execution_count": 2,
   "id": "c3354857",
   "metadata": {},
   "outputs": [
    {
     "data": {
      "text/plain": [
       "'Hola, cómo estas?\\n'"
      ]
     },
     "execution_count": 2,
     "metadata": {},
     "output_type": "execute_result"
    }
   ],
   "source": [
    "\"Hola, cómo estas?\\n\""
   ]
  },
  {
   "cell_type": "code",
   "execution_count": 6,
   "id": "9bef1d43",
   "metadata": {},
   "outputs": [
    {
     "name": "stdout",
     "output_type": "stream",
     "text": [
      "Hola, cómo estás\n",
      "Ahora cambié de línea\n"
     ]
    }
   ],
   "source": [
    "# La función print ayuda a leer los caracteres especiales y darle un formato más agradable a la impresión\n",
    "# La función print no es la única que hace eso, pero es la única que tiene Python predefinida\n",
    "print(\"Hola, cómo estás\\nAhora cambié de línea\") # El print no lee literal el \\n, sino que lo cambia por salto de línea"
   ]
  },
  {
   "cell_type": "code",
   "execution_count": 7,
   "id": "b8b706e2",
   "metadata": {},
   "outputs": [
    {
     "name": "stdout",
     "output_type": "stream",
     "text": [
      "Esto es un tabulador\t.\n"
     ]
    }
   ],
   "source": [
    "# Tab\n",
    "print(\"Esto es un tabulador\\t.\")"
   ]
  },
  {
   "cell_type": "code",
   "execution_count": 10,
   "id": "ab952554",
   "metadata": {},
   "outputs": [
    {
     "name": "stdout",
     "output_type": "stream",
     "text": [
      "Este es un telefono\u0007\n"
     ]
    }
   ],
   "source": [
    "print(\"Este es un telefono\\a\")"
   ]
  },
  {
   "cell_type": "code",
   "execution_count": 14,
   "id": "688b3d18",
   "metadata": {},
   "outputs": [
    {
     "name": "stdout",
     "output_type": "stream",
     "text": [
      "Esta es una palomita.\n",
      "\b\n"
     ]
    }
   ],
   "source": [
    "print(\"Esta es una palomita.\\n\\b\") "
   ]
  },
  {
   "cell_type": "code",
   "execution_count": 27,
   "id": "c70d1e42",
   "metadata": {},
   "outputs": [
    {
     "data": {
      "text/plain": [
       "'Hola\\n cómo estás'"
      ]
     },
     "execution_count": 27,
     "metadata": {},
     "output_type": "execute_result"
    }
   ],
   "source": [
    "# Si de un string queremos que cada que haya una coma, se sustituya por salto de línea\n",
    "\"Hola, cómo estás\".replace(\",\",\"\\n\")"
   ]
  },
  {
   "cell_type": "markdown",
   "id": "ca6b4e5a",
   "metadata": {},
   "source": [
    "## Uso de round"
   ]
  },
  {
   "cell_type": "code",
   "execution_count": 45,
   "id": "aea89333",
   "metadata": {},
   "outputs": [
    {
     "name": "stdout",
     "output_type": "stream",
     "text": [
      "Escribe aquí un número con los decimales que quieras: 33.1092348712039487123\n"
     ]
    }
   ],
   "source": [
    "numero = round(float(input(\"Escribe aquí un número con los decimales que quieras: \")), 3)"
   ]
  },
  {
   "cell_type": "code",
   "execution_count": 46,
   "id": "16a5f679",
   "metadata": {},
   "outputs": [
    {
     "data": {
      "text/plain": [
       "33.109"
      ]
     },
     "execution_count": 46,
     "metadata": {},
     "output_type": "execute_result"
    }
   ],
   "source": [
    "numero"
   ]
  },
  {
   "cell_type": "code",
   "execution_count": 44,
   "id": "1d2d1e5b",
   "metadata": {},
   "outputs": [
    {
     "data": {
      "text/plain": [
       "33.129"
      ]
     },
     "execution_count": 44,
     "metadata": {},
     "output_type": "execute_result"
    }
   ],
   "source": [
    "# La idea de usar el round es que la variable por si sola ya contenga la información de cuantos decimales queremos\n",
    "round(numero, 3) # Redondea al decimal más cercano"
   ]
  },
  {
   "cell_type": "code",
   "execution_count": null,
   "id": "4057c77f",
   "metadata": {},
   "outputs": [],
   "source": []
  }
 ],
 "metadata": {
  "kernelspec": {
   "display_name": "Python 3 (ipykernel)",
   "language": "python",
   "name": "python3"
  },
  "language_info": {
   "codemirror_mode": {
    "name": "ipython",
    "version": 3
   },
   "file_extension": ".py",
   "mimetype": "text/x-python",
   "name": "python",
   "nbconvert_exporter": "python",
   "pygments_lexer": "ipython3",
   "version": "3.10.6"
  }
 },
 "nbformat": 4,
 "nbformat_minor": 5
}
